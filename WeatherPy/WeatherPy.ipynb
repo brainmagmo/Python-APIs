{
 "cells": [
  {
   "cell_type": "markdown",
   "metadata": {},
   "source": [
    "# WeatherPy\n",
    "----\n",
    "\n",
    "## Analysis:\n",
    "\n",
    "* The temperature of a city is strongly negatively correlated with the absolute value of its latitude.\n",
    "* Cloudiness, Humidity, and Windspeed have no correlation with latitude, although low humidity was rarely found near equator and poles.\n",
    "* This code strongly weighted information from *coastal* cities over inland cities, introducing possible bias."
   ]
  },
  {
   "cell_type": "code",
   "execution_count": 1,
   "metadata": {
    "scrolled": true
   },
   "outputs": [],
   "source": [
    "# Dependencies and Setup\n",
    "import matplotlib.pyplot as plt\n",
    "import pandas as pd\n",
    "import numpy as np\n",
    "import requests\n",
    "import time\n",
    "#import random\n",
    "from scipy.stats import linregress\n",
    "from datetime import date\n",
    "\n",
    "# Import API key\n",
    "from api_keys import weather_api_key"
   ]
  },
  {
   "cell_type": "code",
   "execution_count": 2,
   "metadata": {},
   "outputs": [],
   "source": [
    "# Incorporated citipy to determine city based on latitude and longitude\n",
    "from citipy import citipy\n",
    "\n",
    "# Output File (CSV)\n",
    "output_data_file = \"output_data/cities.csv\"\n",
    "\n",
    "# Range of latitudes and longitudes\n",
    "lat_range = (-90, 90)\n",
    "lng_range = (-180, 180)"
   ]
  },
  {
   "cell_type": "markdown",
   "metadata": {},
   "source": [
    "## Generate Cities List"
   ]
  },
  {
   "cell_type": "code",
   "execution_count": 3,
   "metadata": {},
   "outputs": [
    {
     "data": {
      "text/plain": [
       "617"
      ]
     },
     "execution_count": 3,
     "metadata": {},
     "output_type": "execute_result"
    }
   ],
   "source": [
    "# List for holding lat_lngs and cities\n",
    "cities = []\n",
    "count = 0\n",
    "while count < 500 :\n",
    "    lat_lngs = []\n",
    "\n",
    "    # Create a set of random lat and lng combinations\n",
    "    lats = np.random.uniform(lat_range[0], lat_range[1], size=1500)\n",
    "    lngs = np.random.uniform(lng_range[0], lng_range[1], size=1500)\n",
    "    lat_lngs = zip(lats, lngs)\n",
    "\n",
    "    # Identify nearest city for each lat, lng combination\n",
    "    for lat_lng in lat_lngs:\n",
    "        city = citipy.nearest_city(lat_lng[0], lat_lng[1]).city_name\n",
    "\n",
    "        # If the city is unique, then add it to a our cities list\n",
    "        if city not in cities:\n",
    "            cities.append(city)\n",
    "\n",
    "    # Print the city count to confirm sufficient count\n",
    "    \n",
    "    count = len(cities)\n",
    "    \n",
    "count"
   ]
  },
  {
   "cell_type": "markdown",
   "metadata": {},
   "source": [
    "### Perform API Calls\n",
    "* Perform a weather check on each city using a series of successive API calls.\n",
    "* Include a print log of each city as it'sbeing processed (with the city number and city name).\n"
   ]
  },
  {
   "cell_type": "code",
   "execution_count": 4,
   "metadata": {},
   "outputs": [],
   "source": [
    "#Building the url components that will be statis throughout the search\n",
    "base_url = \"http://api.openweathermap.org/data/2.5/weather?\"\n",
    "\n",
    "params = {\n",
    "    \"units\": \"imperial\",\n",
    "    \"appid\": weather_api_key,\n",
    "}"
   ]
  },
  {
   "cell_type": "code",
   "execution_count": 5,
   "metadata": {},
   "outputs": [],
   "source": [
    "def convert_temp (temp, scale='C', to='F'):\n",
    "    '''\n",
    "    Takes a temperature and converts it to a different scale\n",
    "    temp must be numeric\n",
    "    valid values form the starting scale and to scale are 'C': Celsius, 'F': Farenheit, and 'K': Kelvin\n",
    "    '''\n",
    "    scales = ['C','F','K']\n",
    "    #print(scale.upper(),'\\n',to,'\\n',scales)\n",
    "    if not ((scale.upper() in scales) and (to.upper() in scales)):\n",
    "        return ValueError(\"valid values form the starting scale and to scale are 'C': Celsius, 'F': Farenheit, and 'K': Kelvin\")\n",
    "    \n",
    "    if scale == 'C' and to == 'F':\n",
    "        return 32.0 + ((9.0 / 5) * temp)\n",
    "    \n",
    "    if scale == 'F' and to == 'C':\n",
    "        return (-32.0 + temp) * (5.0 / 9)\n",
    "    \n",
    "    if scale == 'K' and to == 'C':\n",
    "        return temp - 273.15\n",
    "    \n",
    "    if scale == 'C' and to == 'K':\n",
    "        return temp + 273.15\n",
    "    \n",
    "    if scale == 'K' and to == 'F':\n",
    "        return 32.0 + ((9.0 / 5) * (temp - 273.15))\n",
    "    \n",
    "    if scale == 'F' and to == 'K':\n",
    "        return ((-32.0 + temp) * (5.0 / 9)) + 273.15\n",
    "    \n",
    "    \n",
    "#convert_temp(0)\n",
    "\n",
    "#Note: this function is not used"
   ]
  },
  {
   "cell_type": "code",
   "execution_count": 6,
   "metadata": {},
   "outputs": [
    {
     "data": {
      "text/plain": [
       "{'coord': {'lon': -60.98, 'lat': 13.75},\n",
       " 'weather': [{'id': 801,\n",
       "   'main': 'Clouds',\n",
       "   'description': 'few clouds',\n",
       "   'icon': '02d'}],\n",
       " 'base': 'stations',\n",
       " 'main': {'temp': 86,\n",
       "  'feels_like': 87.06,\n",
       "  'temp_min': 86,\n",
       "  'temp_max': 86,\n",
       "  'pressure': 1012,\n",
       "  'humidity': 74},\n",
       " 'visibility': 10000,\n",
       " 'wind': {'speed': 18.34, 'deg': 80},\n",
       " 'clouds': {'all': 20},\n",
       " 'dt': 1594503527,\n",
       " 'sys': {'type': 1,\n",
       "  'id': 8798,\n",
       "  'country': 'LC',\n",
       "  'sunrise': 1594460571,\n",
       "  'sunset': 1594506942},\n",
       " 'timezone': -14400,\n",
       " 'id': 3576663,\n",
       " 'name': 'Laborie',\n",
       " 'cod': 200}"
      ]
     },
     "execution_count": 6,
     "metadata": {},
     "output_type": "execute_result"
    }
   ],
   "source": [
    "#figuring out which data to extract for each city\n",
    "params[\"q\"] = np.random.choice(cities)\n",
    "\n",
    "response = requests.get(base_url, params=params)\n",
    "\n",
    "'''\n",
    "{'coord': {'lon': -117.16, 'lat': 32.72},\n",
    " 'weather': [{'id': 804,\n",
    "   'main': 'Clouds',\n",
    "   'description': 'overcast clouds',\n",
    "   'icon': '04n'}],\n",
    " 'base': 'stations',\n",
    " 'main': {'temp': 16.93,\n",
    "  'feels_like': 17.09,\n",
    "  'temp_min': 15,\n",
    "  'temp_max': 20,\n",
    "  'pressure': 1013,\n",
    "  'humidity': 77},\n",
    " 'visibility': 14484,\n",
    " 'wind': {'speed': 1.05, 'deg': 257},\n",
    " 'clouds': {'all': 90},\n",
    " 'dt': 1594289893,\n",
    " 'sys': {'type': 1,\n",
    "  'id': 5771,\n",
    "  'country': 'US',\n",
    "  'sunrise': 1594298899,\n",
    "  'sunset': 1594349950},\n",
    " 'timezone': -25200,\n",
    " 'id': 5391811,\n",
    " 'name': 'San Diego',\n",
    " 'cod': 200}\n",
    "'''\n",
    "\n",
    "'''\n",
    "City          550\n",
    "Lat           550\n",
    "Lng           550\n",
    "Max Temp      550\n",
    "Humidity      550\n",
    "Cloudiness    550\n",
    "Wind Speed    550\n",
    "Country       550\n",
    "Date          550\n",
    "dtype: int64\n",
    "'''\n",
    "\n",
    "response.json()"
   ]
  },
  {
   "cell_type": "code",
   "execution_count": 7,
   "metadata": {},
   "outputs": [
    {
     "name": "stdout",
     "output_type": "stream",
     "text": [
      "Beginning Data Retrieval\n",
      "-----------------------------\n",
      "Processing Record 1 of Set 1 | asau\n",
      "Processing Record 2 of Set 1 | mataura\n",
      "Processing Record 3 of Set 1 | salalah\n",
      "Processing Record 4 of Set 1 | cape town\n",
      "Processing Record 5 of Set 1 | menongue\n",
      "City not found. Skipping...\n",
      "Processing Record 7 of Set 1 | terney\n",
      "Processing Record 8 of Set 1 | huarmey\n",
      "Processing Record 9 of Set 1 | tuktoyaktuk\n",
      "Processing Record 10 of Set 1 | port alfred\n",
      "Processing Record 11 of Set 1 | punta arenas\n",
      "Processing Record 12 of Set 1 | vaini\n",
      "Processing Record 13 of Set 1 | petropavlovsk-kamchatskiy\n",
      "City not found. Skipping...\n",
      "Processing Record 15 of Set 1 | kaitangata\n",
      "Processing Record 16 of Set 1 | mar del plata\n",
      "Processing Record 17 of Set 1 | mahebourg\n",
      "Processing Record 18 of Set 1 | upernavik\n",
      "Processing Record 19 of Set 1 | okhotsk\n",
      "Processing Record 20 of Set 1 | san policarpo\n",
      "Processing Record 21 of Set 1 | lata\n",
      "Processing Record 22 of Set 1 | chuy\n",
      "City not found. Skipping...\n",
      "Processing Record 24 of Set 1 | victoria\n",
      "Processing Record 25 of Set 1 | rikitea\n",
      "Processing Record 26 of Set 1 | atuona\n",
      "Processing Record 27 of Set 1 | tapa\n",
      "Processing Record 28 of Set 1 | busselton\n",
      "Processing Record 29 of Set 1 | abu kamal\n",
      "Processing Record 30 of Set 1 | meulaboh\n",
      "Processing Record 31 of Set 1 | khatanga\n",
      "Processing Record 32 of Set 1 | butaritari\n",
      "Processing Record 33 of Set 1 | georgetown\n",
      "Processing Record 34 of Set 1 | pogranichnyy\n",
      "Processing Record 35 of Set 1 | price\n",
      "Processing Record 36 of Set 1 | hualmay\n",
      "Processing Record 37 of Set 1 | tasiilaq\n",
      "Processing Record 38 of Set 1 | qaanaaq\n",
      "Processing Record 39 of Set 1 | hermanus\n",
      "Processing Record 40 of Set 1 | east london\n",
      "Processing Record 41 of Set 1 | poum\n",
      "Processing Record 42 of Set 1 | naze\n",
      "Processing Record 43 of Set 1 | bandarbeyla\n",
      "Processing Record 44 of Set 1 | fort abbas\n",
      "Processing Record 45 of Set 1 | madison heights\n",
      "Processing Record 46 of Set 1 | nanortalik\n",
      "Processing Record 47 of Set 1 | roma\n",
      "Processing Record 48 of Set 1 | paamiut\n",
      "Processing Record 49 of Set 1 | pemberton\n",
      "Processing Record 50 of Set 1 | ohara\n",
      "City not found. Skipping...\n",
      "Processing Record 2 of Set 2 | cidreira\n",
      "Processing Record 3 of Set 2 | carnarvon\n",
      "Processing Record 4 of Set 2 | alice springs\n",
      "Processing Record 5 of Set 2 | albany\n",
      "Processing Record 6 of Set 2 | midland\n",
      "Processing Record 7 of Set 2 | baker city\n",
      "Processing Record 8 of Set 2 | merauke\n",
      "Processing Record 9 of Set 2 | castro\n",
      "City not found. Skipping...\n",
      "Processing Record 11 of Set 2 | bubaque\n",
      "Processing Record 12 of Set 2 | tautira\n",
      "Processing Record 13 of Set 2 | norman wells\n",
      "Processing Record 14 of Set 2 | arraial do cabo\n",
      "Processing Record 15 of Set 2 | dekar\n",
      "City not found. Skipping...\n",
      "Processing Record 17 of Set 2 | bredasdorp\n",
      "Processing Record 18 of Set 2 | kapaa\n",
      "City not found. Skipping...\n",
      "Processing Record 20 of Set 2 | longyearbyen\n",
      "Processing Record 21 of Set 2 | teahupoo\n",
      "Processing Record 22 of Set 2 | kulpahar\n",
      "Processing Record 23 of Set 2 | altamira\n",
      "Processing Record 24 of Set 2 | tiksi\n",
      "Processing Record 25 of Set 2 | bluff\n",
      "Processing Record 26 of Set 2 | channel-port aux basques\n",
      "Processing Record 27 of Set 2 | ushuaia\n",
      "Processing Record 28 of Set 2 | brae\n",
      "Processing Record 29 of Set 2 | bay roberts\n",
      "Processing Record 30 of Set 2 | morant bay\n",
      "Processing Record 31 of Set 2 | faanui\n",
      "Processing Record 32 of Set 2 | san quintin\n",
      "Processing Record 33 of Set 2 | carman\n",
      "Processing Record 34 of Set 2 | thompson\n",
      "Processing Record 35 of Set 2 | kano\n",
      "Processing Record 36 of Set 2 | sola\n",
      "Processing Record 37 of Set 2 | bataipora\n",
      "Processing Record 38 of Set 2 | nokaneng\n",
      "Processing Record 39 of Set 2 | bucerias\n",
      "City not found. Skipping...\n",
      "Processing Record 41 of Set 2 | tomatlan\n",
      "Processing Record 42 of Set 2 | san patricio\n",
      "Processing Record 43 of Set 2 | lac du bonnet\n",
      "Processing Record 44 of Set 2 | mariestad\n",
      "Processing Record 45 of Set 2 | yellowknife\n",
      "Processing Record 46 of Set 2 | saint george\n",
      "Processing Record 47 of Set 2 | ribeira grande\n",
      "Processing Record 48 of Set 2 | toora-khem\n",
      "City not found. Skipping...\n",
      "Processing Record 50 of Set 2 | mirabela\n",
      "Processing Record 1 of Set 3 | manuk mangkaw\n",
      "Processing Record 2 of Set 3 | jamestown\n",
      "Processing Record 3 of Set 3 | avarua\n",
      "Processing Record 4 of Set 3 | nikolskoye\n",
      "Processing Record 5 of Set 3 | puerto ayora\n",
      "Processing Record 6 of Set 3 | sinnamary\n",
      "Processing Record 7 of Set 3 | alofi\n",
      "Processing Record 8 of Set 3 | pochutla\n",
      "Processing Record 9 of Set 3 | kodiak\n",
      "Processing Record 10 of Set 3 | lavrentiya\n",
      "Processing Record 11 of Set 3 | richards bay\n",
      "Processing Record 12 of Set 3 | torbay\n",
      "Processing Record 13 of Set 3 | hobart\n",
      "City not found. Skipping...\n",
      "Processing Record 15 of Set 3 | klaksvik\n",
      "Processing Record 16 of Set 3 | bagalkot\n",
      "Processing Record 17 of Set 3 | dhidhdhoo\n",
      "Processing Record 18 of Set 3 | mitu\n",
      "Processing Record 19 of Set 3 | watsa\n",
      "Processing Record 20 of Set 3 | souillac\n",
      "Processing Record 21 of Set 3 | ancud\n",
      "Processing Record 22 of Set 3 | kodinsk\n",
      "Processing Record 23 of Set 3 | sitka\n",
      "Processing Record 24 of Set 3 | beloha\n",
      "Processing Record 25 of Set 3 | valparaiso\n",
      "Processing Record 26 of Set 3 | palana\n",
      "Processing Record 27 of Set 3 | codrington\n",
      "Processing Record 28 of Set 3 | vila velha\n",
      "Processing Record 29 of Set 3 | flinders\n",
      "Processing Record 30 of Set 3 | havoysund\n",
      "Processing Record 31 of Set 3 | ghanzi\n",
      "City not found. Skipping...\n",
      "Processing Record 33 of Set 3 | yarim\n",
      "Processing Record 34 of Set 3 | khor\n",
      "Processing Record 35 of Set 3 | north bend\n",
      "Processing Record 36 of Set 3 | hilo\n",
      "Processing Record 37 of Set 3 | snasa\n",
      "Processing Record 38 of Set 3 | ponta do sol\n",
      "Processing Record 39 of Set 3 | saskylakh\n",
      "Processing Record 40 of Set 3 | brokopondo\n",
      "Processing Record 41 of Set 3 | faro\n",
      "Processing Record 42 of Set 3 | saint anthony\n",
      "Processing Record 43 of Set 3 | laohekou\n",
      "Processing Record 44 of Set 3 | cartagena\n",
      "Processing Record 45 of Set 3 | coracora\n",
      "Processing Record 46 of Set 3 | luanda\n",
      "Processing Record 47 of Set 3 | saiha\n",
      "Processing Record 48 of Set 3 | the valley\n",
      "Processing Record 49 of Set 3 | half moon bay\n",
      "Processing Record 50 of Set 3 | axim\n",
      "Processing Record 1 of Set 4 | saint-philippe\n",
      "Processing Record 2 of Set 4 | esso\n",
      "Processing Record 3 of Set 4 | clarksburg\n",
      "City not found. Skipping...\n",
      "Processing Record 5 of Set 4 | yulara\n",
      "Processing Record 6 of Set 4 | oksfjord\n",
      "Processing Record 7 of Set 4 | isabela\n",
      "Processing Record 8 of Set 4 | chapais\n",
      "Processing Record 9 of Set 4 | dikson\n",
      "Processing Record 10 of Set 4 | provideniya\n",
      "Processing Record 11 of Set 4 | chokurdakh\n",
      "Processing Record 12 of Set 4 | smithers\n",
      "Processing Record 13 of Set 4 | develi\n",
      "Processing Record 14 of Set 4 | new norfolk\n",
      "City not found. Skipping...\n",
      "Processing Record 16 of Set 4 | severo-kurilsk\n",
      "City not found. Skipping...\n",
      "Processing Record 18 of Set 4 | jalu\n",
      "Processing Record 19 of Set 4 | bathsheba\n",
      "Processing Record 20 of Set 4 | cabo san lucas\n",
      "Processing Record 21 of Set 4 | ludvika\n",
      "Processing Record 22 of Set 4 | fortuna\n",
      "Processing Record 23 of Set 4 | nanga eboko\n",
      "Processing Record 24 of Set 4 | gambela\n",
      "Processing Record 25 of Set 4 | puerto colombia\n",
      "Processing Record 26 of Set 4 | omboue\n",
      "Processing Record 27 of Set 4 | lloydminster\n",
      "Processing Record 28 of Set 4 | batagay-alyta\n",
      "City not found. Skipping...\n",
      "Processing Record 30 of Set 4 | kimbe\n",
      "Processing Record 31 of Set 4 | constitucion\n",
      "Processing Record 32 of Set 4 | naifaru\n",
      "Processing Record 33 of Set 4 | kieta\n",
      "City not found. Skipping...\n",
      "Processing Record 35 of Set 4 | pitimbu\n",
      "Processing Record 36 of Set 4 | rio grande\n",
      "Processing Record 37 of Set 4 | rio gallegos\n",
      "Processing Record 38 of Set 4 | gornyy\n",
      "Processing Record 39 of Set 4 | barrow\n",
      "Processing Record 40 of Set 4 | trairi\n",
      "Processing Record 41 of Set 4 | grand gaube\n",
      "Processing Record 42 of Set 4 | rocha\n",
      "Processing Record 43 of Set 4 | tessalit\n",
      "Processing Record 44 of Set 4 | panzhihua\n",
      "Processing Record 45 of Set 4 | otradnoye\n",
      "Processing Record 46 of Set 4 | atar\n",
      "Processing Record 47 of Set 4 | viedma\n",
      "Processing Record 48 of Set 4 | tezu\n",
      "Processing Record 49 of Set 4 | bachaquero\n",
      "Processing Record 50 of Set 4 | tuatapere\n",
      "Processing Record 1 of Set 5 | upata\n",
      "Processing Record 2 of Set 5 | lasa\n"
     ]
    },
    {
     "name": "stdout",
     "output_type": "stream",
     "text": [
      "Processing Record 3 of Set 5 | yar-sale\n",
      "Processing Record 4 of Set 5 | lima\n",
      "Processing Record 5 of Set 5 | cap malheureux\n",
      "Processing Record 6 of Set 5 | forbes\n",
      "Processing Record 7 of Set 5 | egvekinot\n",
      "Processing Record 8 of Set 5 | iqaluit\n",
      "Processing Record 9 of Set 5 | bargi\n",
      "Processing Record 10 of Set 5 | lianzhou\n",
      "Processing Record 11 of Set 5 | abu samrah\n",
      "Processing Record 12 of Set 5 | muroto\n",
      "Processing Record 13 of Set 5 | hithadhoo\n",
      "Processing Record 14 of Set 5 | komsomolskiy\n",
      "Processing Record 15 of Set 5 | zhigansk\n",
      "Processing Record 16 of Set 5 | porto santo\n",
      "Processing Record 17 of Set 5 | sorsk\n",
      "Processing Record 18 of Set 5 | druskininkai\n",
      "Processing Record 19 of Set 5 | kuusamo\n",
      "Processing Record 20 of Set 5 | alappuzha\n",
      "Processing Record 21 of Set 5 | caravelas\n",
      "Processing Record 22 of Set 5 | airai\n",
      "Processing Record 23 of Set 5 | biak\n",
      "Processing Record 24 of Set 5 | kirksville\n",
      "Processing Record 25 of Set 5 | narsaq\n",
      "Processing Record 26 of Set 5 | port macquarie\n",
      "Processing Record 27 of Set 5 | zhuhai\n",
      "Processing Record 28 of Set 5 | santa maria\n",
      "Processing Record 29 of Set 5 | luderitz\n",
      "Processing Record 30 of Set 5 | vila franca do campo\n",
      "Processing Record 31 of Set 5 | tandil\n",
      "Processing Record 32 of Set 5 | usinsk\n",
      "Processing Record 33 of Set 5 | sechura\n",
      "Processing Record 34 of Set 5 | nacala\n",
      "Processing Record 35 of Set 5 | leeds\n",
      "Processing Record 36 of Set 5 | te anau\n",
      "City not found. Skipping...\n",
      "Processing Record 38 of Set 5 | pisco\n",
      "Processing Record 39 of Set 5 | gayeri\n",
      "Processing Record 40 of Set 5 | cruzeiro do sul\n",
      "Processing Record 41 of Set 5 | zabol\n",
      "Processing Record 42 of Set 5 | touros\n",
      "City not found. Skipping...\n",
      "Processing Record 44 of Set 5 | kochi\n",
      "Processing Record 45 of Set 5 | dudinka\n",
      "Processing Record 46 of Set 5 | lebu\n",
      "Processing Record 47 of Set 5 | sukabumi\n",
      "Processing Record 48 of Set 5 | aykhal\n",
      "Processing Record 49 of Set 5 | aswan\n",
      "Processing Record 50 of Set 5 | kaili\n",
      "Processing Record 1 of Set 6 | sao filipe\n",
      "Processing Record 2 of Set 6 | hinton\n",
      "Processing Record 3 of Set 6 | elat\n",
      "Processing Record 4 of Set 6 | vestmannaeyjar\n",
      "Processing Record 5 of Set 6 | oranjemund\n",
      "Processing Record 6 of Set 6 | sao joao da barra\n",
      "Processing Record 7 of Set 6 | pangai\n",
      "City not found. Skipping...\n",
      "Processing Record 9 of Set 6 | zhezkazgan\n",
      "Processing Record 10 of Set 6 | strezhevoy\n",
      "Processing Record 11 of Set 6 | chiredzi\n",
      "Processing Record 12 of Set 6 | olinda\n",
      "Processing Record 13 of Set 6 | clyde river\n",
      "Processing Record 14 of Set 6 | black diamond\n",
      "Processing Record 15 of Set 6 | mount isa\n",
      "Processing Record 16 of Set 6 | thenzawl\n",
      "Processing Record 17 of Set 6 | bilma\n",
      "Processing Record 18 of Set 6 | stokmarknes\n",
      "Processing Record 19 of Set 6 | husavik\n",
      "Processing Record 20 of Set 6 | sambava\n",
      "Processing Record 21 of Set 6 | katsuura\n",
      "Processing Record 22 of Set 6 | isangel\n",
      "City not found. Skipping...\n",
      "Processing Record 24 of Set 6 | mackay\n",
      "City not found. Skipping...\n",
      "Processing Record 26 of Set 6 | buchanan\n",
      "Processing Record 27 of Set 6 | arinos\n",
      "Processing Record 28 of Set 6 | sorland\n",
      "Processing Record 29 of Set 6 | kyaukse\n",
      "Processing Record 30 of Set 6 | banjar\n",
      "Processing Record 31 of Set 6 | boddam\n",
      "City not found. Skipping...\n",
      "Processing Record 33 of Set 6 | sadri\n",
      "Processing Record 34 of Set 6 | ilulissat\n",
      "Processing Record 35 of Set 6 | rawson\n",
      "Processing Record 36 of Set 6 | yaan\n",
      "Processing Record 37 of Set 6 | korla\n",
      "City not found. Skipping...\n",
      "Processing Record 39 of Set 6 | nome\n",
      "Processing Record 40 of Set 6 | hamilton\n",
      "Processing Record 41 of Set 6 | makakilo city\n",
      "Processing Record 42 of Set 6 | nhulunbuy\n",
      "Processing Record 43 of Set 6 | ketchikan\n",
      "Processing Record 44 of Set 6 | athens\n",
      "Processing Record 45 of Set 6 | burnie\n",
      "Processing Record 46 of Set 6 | bonavista\n",
      "Processing Record 47 of Set 6 | grevesmuhlen\n",
      "Processing Record 48 of Set 6 | tiquicheo\n",
      "Processing Record 49 of Set 6 | los llanos de aridane\n",
      "Processing Record 50 of Set 6 | dandong\n",
      "Processing Record 1 of Set 7 | waipawa\n",
      "Processing Record 2 of Set 7 | kavieng\n",
      "Processing Record 3 of Set 7 | lucapa\n",
      "Processing Record 4 of Set 7 | luwuk\n",
      "Processing Record 5 of Set 7 | kayankulam\n",
      "Processing Record 6 of Set 7 | kitimat\n",
      "Processing Record 7 of Set 7 | nagod\n",
      "Processing Record 8 of Set 7 | kandava\n",
      "Processing Record 9 of Set 7 | khani\n",
      "Processing Record 10 of Set 7 | zimapan\n",
      "Processing Record 11 of Set 7 | kruisfontein\n",
      "Processing Record 12 of Set 7 | praia da vitoria\n",
      "Processing Record 13 of Set 7 | elko\n",
      "Processing Record 14 of Set 7 | eureka\n",
      "Processing Record 15 of Set 7 | cuiluan\n",
      "City not found. Skipping...\n",
      "Processing Record 17 of Set 7 | inuvik\n",
      "Processing Record 18 of Set 7 | roald\n",
      "Processing Record 19 of Set 7 | kabinda\n",
      "Processing Record 20 of Set 7 | trincomalee\n",
      "Processing Record 21 of Set 7 | cobija\n",
      "Processing Record 22 of Set 7 | killam\n",
      "Processing Record 23 of Set 7 | tukrah\n",
      "Processing Record 24 of Set 7 | bethel\n",
      "Processing Record 25 of Set 7 | podor\n",
      "Processing Record 26 of Set 7 | port elizabeth\n",
      "Processing Record 27 of Set 7 | businga\n",
      "Processing Record 28 of Set 7 | muravlenko\n",
      "Processing Record 29 of Set 7 | ugoofaaru\n",
      "Processing Record 30 of Set 7 | punta alta\n",
      "Processing Record 31 of Set 7 | abdanan\n",
      "Processing Record 32 of Set 7 | fairbanks\n",
      "Processing Record 33 of Set 7 | shimoda\n",
      "City not found. Skipping...\n",
      "Processing Record 35 of Set 7 | ashland\n",
      "Processing Record 36 of Set 7 | nouadhibou\n",
      "Processing Record 37 of Set 7 | teguldet\n",
      "Processing Record 38 of Set 7 | kazachinskoye\n",
      "Processing Record 39 of Set 7 | chekhov\n",
      "Processing Record 40 of Set 7 | camopi\n",
      "Processing Record 41 of Set 7 | san cristobal\n",
      "Processing Record 42 of Set 7 | ellisras\n",
      "City not found. Skipping...\n",
      "Processing Record 44 of Set 7 | mantsala\n",
      "Processing Record 45 of Set 7 | yerbogachen\n",
      "Processing Record 46 of Set 7 | morondava\n",
      "Processing Record 47 of Set 7 | dunmore town\n",
      "Processing Record 48 of Set 7 | kapoeta\n",
      "Processing Record 49 of Set 7 | plover\n",
      "Processing Record 50 of Set 7 | bengkulu\n",
      "Processing Record 1 of Set 8 | maarianhamina\n",
      "Processing Record 2 of Set 8 | hit\n",
      "Processing Record 3 of Set 8 | lorengau\n",
      "Processing Record 4 of Set 8 | deer lake\n",
      "Processing Record 5 of Set 8 | carutapera\n",
      "Processing Record 6 of Set 8 | pasighat\n",
      "Processing Record 7 of Set 8 | pingliang\n",
      "Processing Record 8 of Set 8 | kupang\n",
      "Processing Record 9 of Set 8 | ahipara\n",
      "Processing Record 10 of Set 8 | sharjah\n",
      "Processing Record 11 of Set 8 | ciudad guayana\n",
      "Processing Record 12 of Set 8 | portland\n",
      "Processing Record 13 of Set 8 | tigre\n",
      "Processing Record 14 of Set 8 | san clemente\n",
      "Processing Record 15 of Set 8 | lockhart\n",
      "Processing Record 16 of Set 8 | barrhead\n",
      "Processing Record 17 of Set 8 | kefalos\n",
      "Processing Record 18 of Set 8 | abengourou\n",
      "Processing Record 19 of Set 8 | otane\n",
      "Processing Record 20 of Set 8 | galle\n",
      "Processing Record 21 of Set 8 | dulce grande\n",
      "Processing Record 22 of Set 8 | geraldton\n",
      "Processing Record 23 of Set 8 | bambous virieux\n",
      "Processing Record 24 of Set 8 | mehran\n",
      "Processing Record 25 of Set 8 | hegang\n",
      "Processing Record 26 of Set 8 | clyde\n",
      "City not found. Skipping...\n",
      "Processing Record 28 of Set 8 | chipiona\n",
      "Processing Record 29 of Set 8 | maralal\n",
      "Processing Record 30 of Set 8 | jos\n",
      "Processing Record 31 of Set 8 | kaeo\n",
      "Processing Record 32 of Set 8 | lander\n",
      "Processing Record 33 of Set 8 | beatrice\n",
      "Processing Record 34 of Set 8 | ostersund\n",
      "Processing Record 35 of Set 8 | labuhan\n",
      "Processing Record 36 of Set 8 | mandiana\n",
      "Processing Record 37 of Set 8 | kribi\n",
      "Processing Record 38 of Set 8 | cherskiy\n",
      "Processing Record 39 of Set 8 | onalaska\n",
      "Processing Record 40 of Set 8 | manaus\n",
      "Processing Record 41 of Set 8 | cozumel\n",
      "Processing Record 42 of Set 8 | talnakh\n",
      "Processing Record 43 of Set 8 | soyo\n",
      "Processing Record 44 of Set 8 | parakou\n",
      "Processing Record 45 of Set 8 | biu\n",
      "Processing Record 46 of Set 8 | avera\n",
      "Processing Record 47 of Set 8 | sisimiut\n",
      "Processing Record 48 of Set 8 | dahra\n",
      "Processing Record 49 of Set 8 | siavonga\n",
      "Processing Record 50 of Set 8 | progreso\n",
      "Processing Record 1 of Set 9 | tigil\n",
      "Processing Record 2 of Set 9 | rosetta\n",
      "City not found. Skipping...\n",
      "Processing Record 4 of Set 9 | lagoa\n",
      "City not found. Skipping...\n",
      "Processing Record 6 of Set 9 | yumen\n",
      "Processing Record 7 of Set 9 | gbarnga\n",
      "Processing Record 8 of Set 9 | tondi\n"
     ]
    },
    {
     "name": "stdout",
     "output_type": "stream",
     "text": [
      "Processing Record 9 of Set 9 | henties bay\n",
      "Processing Record 10 of Set 9 | dinar\n",
      "Processing Record 11 of Set 9 | gurupa\n",
      "Processing Record 12 of Set 9 | havre-saint-pierre\n",
      "Processing Record 13 of Set 9 | crossville\n",
      "Processing Record 14 of Set 9 | santa cruz\n",
      "Processing Record 15 of Set 9 | saldanha\n",
      "Processing Record 16 of Set 9 | comodoro rivadavia\n",
      "Processing Record 17 of Set 9 | tilichiki\n",
      "Processing Record 18 of Set 9 | alihe\n",
      "Processing Record 19 of Set 9 | port lincoln\n",
      "Processing Record 20 of Set 9 | cedar city\n",
      "Processing Record 21 of Set 9 | corinto\n",
      "Processing Record 22 of Set 9 | biltine\n",
      "Processing Record 23 of Set 9 | faya\n",
      "Processing Record 24 of Set 9 | mutoko\n",
      "Processing Record 25 of Set 9 | renfrew\n",
      "Processing Record 26 of Set 9 | chibuto\n",
      "Processing Record 27 of Set 9 | camacha\n",
      "Processing Record 28 of Set 9 | krasnoselkup\n",
      "Processing Record 29 of Set 9 | mabaruma\n",
      "Processing Record 30 of Set 9 | noumea\n",
      "Processing Record 31 of Set 9 | necochea\n",
      "Processing Record 32 of Set 9 | turangi\n",
      "Processing Record 33 of Set 9 | asyut\n",
      "Processing Record 34 of Set 9 | nizwa\n",
      "Processing Record 35 of Set 9 | edd\n",
      "Processing Record 36 of Set 9 | dongsheng\n",
      "Processing Record 37 of Set 9 | puro\n",
      "Processing Record 38 of Set 9 | saint-georges\n",
      "Processing Record 39 of Set 9 | krasnoslobodsk\n",
      "Processing Record 40 of Set 9 | uusikaupunki\n",
      "Processing Record 41 of Set 9 | buala\n",
      "Processing Record 42 of Set 9 | kadirli\n",
      "City not found. Skipping...\n",
      "Processing Record 44 of Set 9 | aras\n",
      "City not found. Skipping...\n",
      "Processing Record 46 of Set 9 | puerto escondido\n",
      "City not found. Skipping...\n",
      "Processing Record 48 of Set 9 | byron bay\n",
      "Processing Record 49 of Set 9 | saint-pierre\n",
      "Processing Record 50 of Set 9 | cockburn town\n",
      "Processing Record 1 of Set 10 | aden\n",
      "Processing Record 2 of Set 10 | benjamin aceval\n",
      "Processing Record 3 of Set 10 | ust-koksa\n",
      "Processing Record 4 of Set 10 | havelock\n",
      "Processing Record 5 of Set 10 | monrovia\n",
      "Processing Record 6 of Set 10 | pesca\n",
      "Processing Record 7 of Set 10 | eyl\n",
      "Processing Record 8 of Set 10 | santa rosalia\n",
      "Processing Record 9 of Set 10 | akyab\n",
      "Processing Record 10 of Set 10 | los corrales de buelna\n",
      "Processing Record 11 of Set 10 | guerrero negro\n",
      "Processing Record 12 of Set 10 | savannah bight\n",
      "Processing Record 13 of Set 10 | tartagal\n",
      "Processing Record 14 of Set 10 | peyima\n",
      "Processing Record 15 of Set 10 | ampanihy\n",
      "Processing Record 16 of Set 10 | oudtshoorn\n",
      "Processing Record 17 of Set 10 | westport\n",
      "Processing Record 18 of Set 10 | svetlogorsk\n",
      "Processing Record 19 of Set 10 | tura\n",
      "Processing Record 20 of Set 10 | ust-kulom\n",
      "Processing Record 21 of Set 10 | inhambane\n",
      "Processing Record 22 of Set 10 | ranfurly\n",
      "City not found. Skipping...\n",
      "Processing Record 24 of Set 10 | dunedin\n",
      "Processing Record 25 of Set 10 | kendari\n",
      "City not found. Skipping...\n",
      "Processing Record 27 of Set 10 | mirabad\n",
      "Processing Record 28 of Set 10 | seara\n",
      "Processing Record 29 of Set 10 | haines junction\n",
      "Processing Record 30 of Set 10 | jingdezhen\n",
      "Processing Record 31 of Set 10 | braganca\n",
      "Processing Record 32 of Set 10 | taybad\n",
      "Processing Record 33 of Set 10 | camargo\n",
      "Processing Record 34 of Set 10 | colac\n",
      "Processing Record 35 of Set 10 | sokoni\n",
      "Processing Record 36 of Set 10 | broken hill\n",
      "Processing Record 37 of Set 10 | abrau-dyurso\n",
      "Processing Record 38 of Set 10 | aloleng\n",
      "Processing Record 39 of Set 10 | lompoc\n",
      "Processing Record 40 of Set 10 | forest acres\n",
      "Processing Record 41 of Set 10 | arman\n",
      "Processing Record 42 of Set 10 | alta gracia\n",
      "Processing Record 43 of Set 10 | ekibastuz\n",
      "Processing Record 44 of Set 10 | mwingi\n",
      "Processing Record 45 of Set 10 | nabire\n",
      "Processing Record 46 of Set 10 | dauphin\n",
      "Processing Record 47 of Set 10 | port hardy\n",
      "Processing Record 48 of Set 10 | salym\n",
      "Processing Record 49 of Set 10 | chitaga\n",
      "Processing Record 50 of Set 10 | sao desiderio\n",
      "Processing Record 1 of Set 11 | lida\n",
      "Processing Record 2 of Set 11 | mitsamiouli\n",
      "Processing Record 3 of Set 11 | owando\n",
      "Processing Record 4 of Set 11 | ouro fino\n",
      "Processing Record 5 of Set 11 | odweyne\n",
      "Processing Record 6 of Set 11 | smyrna\n",
      "Processing Record 7 of Set 11 | ada\n",
      "Processing Record 8 of Set 11 | florence\n",
      "Processing Record 9 of Set 11 | boa vista\n",
      "Processing Record 10 of Set 11 | hasaki\n",
      "Processing Record 11 of Set 11 | la cruz\n",
      "Processing Record 12 of Set 11 | tongchuan\n",
      "Processing Record 13 of Set 11 | uthal\n",
      "Processing Record 14 of Set 11 | pasni\n",
      "City not found. Skipping...\n",
      "Processing Record 16 of Set 11 | adrar\n",
      "Processing Record 17 of Set 11 | pontarlier\n",
      "City not found. Skipping...\n",
      "Processing Record 19 of Set 11 | mwanza\n",
      "City not found. Skipping...\n",
      "Processing Record 21 of Set 11 | hailar\n",
      "Processing Record 22 of Set 11 | council bluffs\n",
      "City not found. Skipping...\n",
      "Processing Record 24 of Set 11 | hudson\n",
      "Processing Record 25 of Set 11 | nara\n",
      "City not found. Skipping...\n",
      "Processing Record 27 of Set 11 | arlit\n",
      "Processing Record 28 of Set 11 | maceio\n",
      "Processing Record 29 of Set 11 | ibra\n",
      "Processing Record 30 of Set 11 | laguna\n",
      "Processing Record 31 of Set 11 | bograd\n",
      "Processing Record 32 of Set 11 | amapa\n",
      "Processing Record 33 of Set 11 | la plata\n",
      "City not found. Skipping...\n",
      "City not found. Skipping...\n",
      "Processing Record 36 of Set 11 | ucar\n",
      "Processing Record 37 of Set 11 | teeli\n",
      "Processing Record 38 of Set 11 | acapulco\n",
      "Processing Record 39 of Set 11 | borogontsy\n",
      "Processing Record 40 of Set 11 | butembo\n",
      "Processing Record 41 of Set 11 | pangnirtung\n",
      "Processing Record 42 of Set 11 | agapovka\n",
      "Processing Record 43 of Set 11 | dzilam gonzalez\n",
      "Processing Record 44 of Set 11 | praia\n",
      "Processing Record 45 of Set 11 | hluk\n",
      "City not found. Skipping...\n",
      "Processing Record 47 of Set 11 | goundam\n",
      "City not found. Skipping...\n",
      "City not found. Skipping...\n",
      "Processing Record 50 of Set 11 | laborie\n",
      "Processing Record 1 of Set 12 | marathon\n",
      "Processing Record 2 of Set 12 | narsingi\n",
      "Processing Record 3 of Set 12 | dori\n",
      "Processing Record 4 of Set 12 | esperance\n",
      "Processing Record 5 of Set 12 | elena\n",
      "Processing Record 6 of Set 12 | acarau\n",
      "Processing Record 7 of Set 12 | dakar\n",
      "Processing Record 8 of Set 12 | oktyabrskiy\n",
      "Processing Record 9 of Set 12 | calvinia\n",
      "Processing Record 10 of Set 12 | homa bay\n",
      "Processing Record 11 of Set 12 | dickinson\n",
      "Processing Record 12 of Set 12 | qesarya\n",
      "Processing Record 13 of Set 12 | goroka\n",
      "Processing Record 14 of Set 12 | xichang\n",
      "Processing Record 15 of Set 12 | qaqortoq\n",
      "Processing Record 16 of Set 12 | nicolas bravo\n",
      "Processing Record 17 of Set 12 | magadan\n",
      "Processing Record 18 of Set 12 | yovon\n",
      "Processing Record 19 of Set 12 | lahaina\n",
      "Processing Record 20 of Set 12 | maumere\n",
      "Processing Record 21 of Set 12 | atocha\n",
      "Processing Record 22 of Set 12 | fujin\n",
      "Processing Record 23 of Set 12 | wakkanai\n",
      "Processing Record 24 of Set 12 | chifeng\n",
      "Processing Record 25 of Set 12 | ixtapa\n",
      "Processing Record 26 of Set 12 | tucupita\n",
      "Processing Record 27 of Set 12 | willowmore\n",
      "Processing Record 28 of Set 12 | lanxi\n",
      "Processing Record 29 of Set 12 | morgantown\n",
      "Processing Record 30 of Set 12 | mouila\n",
      "Processing Record 31 of Set 12 | taldan\n",
      "Processing Record 32 of Set 12 | jishou\n",
      "Processing Record 33 of Set 12 | turbo\n",
      "Processing Record 34 of Set 12 | itaituba\n",
      "Processing Record 35 of Set 12 | atbasar\n",
      "Processing Record 36 of Set 12 | namibe\n",
      "Processing Record 37 of Set 12 | lydenburg\n",
      "Processing Record 38 of Set 12 | cam ranh\n",
      "Processing Record 39 of Set 12 | talara\n",
      "Processing Record 40 of Set 12 | tadepallegudem\n",
      "Processing Record 41 of Set 12 | kashan\n",
      "Processing Record 42 of Set 12 | arrifes\n",
      "Processing Record 43 of Set 12 | vieques\n",
      "Processing Record 44 of Set 12 | porto novo\n",
      "Processing Record 45 of Set 12 | turukhansk\n",
      "Processing Record 46 of Set 12 | libreville\n",
      "Processing Record 47 of Set 12 | erzin\n",
      "Processing Record 48 of Set 12 | douglas\n",
      "Processing Record 49 of Set 12 | igrim\n",
      "Processing Record 50 of Set 12 | ayan\n",
      "Processing Record 1 of Set 13 | sistranda\n",
      "Processing Record 2 of Set 13 | uruguaiana\n",
      "City not found. Skipping...\n",
      "Processing Record 4 of Set 13 | cayenne\n",
      "Processing Record 5 of Set 13 | samarai\n",
      "Processing Record 6 of Set 13 | djambala\n",
      "Processing Record 7 of Set 13 | newton\n",
      "Processing Record 8 of Set 13 | talladega\n",
      "Processing Record 9 of Set 13 | moose factory\n",
      "City not found. Skipping...\n",
      "Processing Record 11 of Set 13 | skibbereen\n",
      "Processing Record 12 of Set 13 | quatre cocos\n"
     ]
    },
    {
     "name": "stdout",
     "output_type": "stream",
     "text": [
      "Processing Record 13 of Set 13 | kapit\n",
      "Processing Record 14 of Set 13 | kwinana\n",
      "City not found. Skipping...\n",
      "Processing Record 16 of Set 13 | beringovskiy\n",
      "Processing Record 17 of Set 13 | daugavpils\n"
     ]
    }
   ],
   "source": [
    "data = []\n",
    "'''\n",
    "here, I query open weather maps for each city, extracting the following:\n",
    "name, latitude, longitude, daily high, humidity, cloud coverage %, wind speed\n",
    "'''\n",
    "print('Beginning Data Retrieval')     \n",
    "print('-----------------------------')\n",
    "j = 1\n",
    "for i in range(len(cities)):\n",
    "    params['q'] = cities[i]\n",
    "    try:\n",
    "        response = requests.get(base_url, params=params)\n",
    "        r = response.json()\n",
    "        city = r['name']\n",
    "        lat = r['coord']['lat']\n",
    "        lng = r['coord']['lon']\n",
    "        max_temp = r['main']['temp_max']\n",
    "        humid = r['main']['humidity']\n",
    "        cloud = r['clouds']['all']\n",
    "        wind = r['wind']['speed']\n",
    "        country = r['sys']['country']\n",
    "        today = date.today()\n",
    "\n",
    "        r_data = [city,lat,lng,max_temp,humid,cloud,wind,country,today]\n",
    "        \n",
    "        data.append(r_data)\n",
    "        print(f'Processing Record {i%50+1} of Set {j} | {cities[i]}')\n",
    "        \n",
    "    except (KeyError, IndexError):\n",
    "        print('City not found. Skipping...')\n",
    "        \n",
    "    if (i + 1) % 50 == 0:\n",
    "        j += 1\n",
    "        time.sleep(10)\n",
    "        "
   ]
  },
  {
   "cell_type": "code",
   "execution_count": 8,
   "metadata": {},
   "outputs": [
    {
     "data": {
      "text/plain": [
       "[['Asău', 46.43, 26.4, 61, 87, 0, 4.16, 'RO', datetime.date(2020, 7, 11)],\n",
       " ['Mataura',\n",
       "  -46.19,\n",
       "  168.86,\n",
       "  44.15,\n",
       "  93,\n",
       "  69,\n",
       "  3.31,\n",
       "  'NZ',\n",
       "  datetime.date(2020, 7, 11)],\n",
       " ['Salalah',\n",
       "  17.02,\n",
       "  54.09,\n",
       "  80.6,\n",
       "  94,\n",
       "  90,\n",
       "  3.36,\n",
       "  'OM',\n",
       "  datetime.date(2020, 7, 11)],\n",
       " ['Cape Town',\n",
       "  -33.93,\n",
       "  18.42,\n",
       "  54,\n",
       "  81,\n",
       "  20,\n",
       "  9.17,\n",
       "  'ZA',\n",
       "  datetime.date(2020, 7, 11)],\n",
       " ['Menongue',\n",
       "  -14.66,\n",
       "  17.69,\n",
       "  55.45,\n",
       "  37,\n",
       "  0,\n",
       "  4.43,\n",
       "  'AO',\n",
       "  datetime.date(2020, 7, 11)]]"
      ]
     },
     "execution_count": 8,
     "metadata": {},
     "output_type": "execute_result"
    }
   ],
   "source": [
    "data[0:5]"
   ]
  },
  {
   "cell_type": "code",
   "execution_count": 9,
   "metadata": {},
   "outputs": [],
   "source": [
    "for i in range(len(data)):\n",
    "    data[i][8] = data[i][8].isoformat()"
   ]
  },
  {
   "cell_type": "code",
   "execution_count": 10,
   "metadata": {},
   "outputs": [],
   "source": [
    "'''\n",
    "City          550\n",
    "Lat           550\n",
    "Lng           550\n",
    "Max Temp      550\n",
    "Humidity      550\n",
    "Cloudiness    550\n",
    "Wind Speed    550\n",
    "Country       550\n",
    "Date          550\n",
    "dtype: int64\n",
    "'''\n",
    "weather_df = pd.DataFrame(data, columns=['City Name', 'Latitude', 'Longitude', 'Daily High', 'Humidity', 'Cloudiness', 'Wind Speed', 'Country', 'Date'])"
   ]
  },
  {
   "cell_type": "code",
   "execution_count": 11,
   "metadata": {},
   "outputs": [
    {
     "data": {
      "text/html": [
       "<div>\n",
       "<style scoped>\n",
       "    .dataframe tbody tr th:only-of-type {\n",
       "        vertical-align: middle;\n",
       "    }\n",
       "\n",
       "    .dataframe tbody tr th {\n",
       "        vertical-align: top;\n",
       "    }\n",
       "\n",
       "    .dataframe thead th {\n",
       "        text-align: right;\n",
       "    }\n",
       "</style>\n",
       "<table border=\"1\" class=\"dataframe\">\n",
       "  <thead>\n",
       "    <tr style=\"text-align: right;\">\n",
       "      <th></th>\n",
       "      <th>City Name</th>\n",
       "      <th>Latitude</th>\n",
       "      <th>Longitude</th>\n",
       "      <th>Daily High</th>\n",
       "      <th>Humidity</th>\n",
       "      <th>Cloudiness</th>\n",
       "      <th>Wind Speed</th>\n",
       "      <th>Country</th>\n",
       "      <th>Date</th>\n",
       "    </tr>\n",
       "  </thead>\n",
       "  <tbody>\n",
       "    <tr>\n",
       "      <th>0</th>\n",
       "      <td>Asău</td>\n",
       "      <td>46.43</td>\n",
       "      <td>26.40</td>\n",
       "      <td>61.00</td>\n",
       "      <td>87</td>\n",
       "      <td>0</td>\n",
       "      <td>4.16</td>\n",
       "      <td>RO</td>\n",
       "      <td>2020-07-11</td>\n",
       "    </tr>\n",
       "    <tr>\n",
       "      <th>1</th>\n",
       "      <td>Mataura</td>\n",
       "      <td>-46.19</td>\n",
       "      <td>168.86</td>\n",
       "      <td>44.15</td>\n",
       "      <td>93</td>\n",
       "      <td>69</td>\n",
       "      <td>3.31</td>\n",
       "      <td>NZ</td>\n",
       "      <td>2020-07-11</td>\n",
       "    </tr>\n",
       "    <tr>\n",
       "      <th>2</th>\n",
       "      <td>Salalah</td>\n",
       "      <td>17.02</td>\n",
       "      <td>54.09</td>\n",
       "      <td>80.60</td>\n",
       "      <td>94</td>\n",
       "      <td>90</td>\n",
       "      <td>3.36</td>\n",
       "      <td>OM</td>\n",
       "      <td>2020-07-11</td>\n",
       "    </tr>\n",
       "    <tr>\n",
       "      <th>3</th>\n",
       "      <td>Cape Town</td>\n",
       "      <td>-33.93</td>\n",
       "      <td>18.42</td>\n",
       "      <td>54.00</td>\n",
       "      <td>81</td>\n",
       "      <td>20</td>\n",
       "      <td>9.17</td>\n",
       "      <td>ZA</td>\n",
       "      <td>2020-07-11</td>\n",
       "    </tr>\n",
       "    <tr>\n",
       "      <th>4</th>\n",
       "      <td>Menongue</td>\n",
       "      <td>-14.66</td>\n",
       "      <td>17.69</td>\n",
       "      <td>55.45</td>\n",
       "      <td>37</td>\n",
       "      <td>0</td>\n",
       "      <td>4.43</td>\n",
       "      <td>AO</td>\n",
       "      <td>2020-07-11</td>\n",
       "    </tr>\n",
       "  </tbody>\n",
       "</table>\n",
       "</div>"
      ],
      "text/plain": [
       "   City Name  Latitude  Longitude  Daily High  Humidity  Cloudiness  \\\n",
       "0       Asău     46.43      26.40       61.00        87           0   \n",
       "1    Mataura    -46.19     168.86       44.15        93          69   \n",
       "2    Salalah     17.02      54.09       80.60        94          90   \n",
       "3  Cape Town    -33.93      18.42       54.00        81          20   \n",
       "4   Menongue    -14.66      17.69       55.45        37           0   \n",
       "\n",
       "   Wind Speed Country        Date  \n",
       "0        4.16      RO  2020-07-11  \n",
       "1        3.31      NZ  2020-07-11  \n",
       "2        3.36      OM  2020-07-11  \n",
       "3        9.17      ZA  2020-07-11  \n",
       "4        4.43      AO  2020-07-11  "
      ]
     },
     "execution_count": 11,
     "metadata": {},
     "output_type": "execute_result"
    }
   ],
   "source": [
    "weather_df.head()"
   ]
  },
  {
   "cell_type": "markdown",
   "metadata": {},
   "source": [
    "### Convert Raw Data to DataFrame\n",
    "* Export the city data into a .csv.\n",
    "* Display the DataFrame"
   ]
  },
  {
   "cell_type": "code",
   "execution_count": 12,
   "metadata": {},
   "outputs": [],
   "source": [
    "weather_df.to_csv(output_data_file, index=False)"
   ]
  },
  {
   "cell_type": "code",
   "execution_count": 13,
   "metadata": {
    "scrolled": true
   },
   "outputs": [],
   "source": [
    "# weather_df = pd.read_csv(output_data_file)\n",
    "# weather_df.head()"
   ]
  },
  {
   "cell_type": "markdown",
   "metadata": {},
   "source": [
    "## Inspect the data and remove the cities where the humidity > 100%.\n",
    "----\n",
    "Skip this step if there are no cities that have humidity > 100%. "
   ]
  },
  {
   "cell_type": "code",
   "execution_count": 14,
   "metadata": {},
   "outputs": [
    {
     "data": {
      "text/plain": [
       "Int64Index([], dtype='int64')"
      ]
     },
     "execution_count": 14,
     "metadata": {},
     "output_type": "execute_result"
    }
   ],
   "source": [
    "#  Get the indices of cities that have humidity over 100%.\n",
    "sweaty_df = weather_df.loc[weather_df['Humidity'] > 100]\n",
    "sweaty_df.index"
   ]
  },
  {
   "cell_type": "code",
   "execution_count": 15,
   "metadata": {},
   "outputs": [
    {
     "data": {
      "text/html": [
       "<div>\n",
       "<style scoped>\n",
       "    .dataframe tbody tr th:only-of-type {\n",
       "        vertical-align: middle;\n",
       "    }\n",
       "\n",
       "    .dataframe tbody tr th {\n",
       "        vertical-align: top;\n",
       "    }\n",
       "\n",
       "    .dataframe thead th {\n",
       "        text-align: right;\n",
       "    }\n",
       "</style>\n",
       "<table border=\"1\" class=\"dataframe\">\n",
       "  <thead>\n",
       "    <tr style=\"text-align: right;\">\n",
       "      <th></th>\n",
       "      <th>City Name</th>\n",
       "      <th>Latitude</th>\n",
       "      <th>Longitude</th>\n",
       "      <th>Daily High</th>\n",
       "      <th>Humidity</th>\n",
       "      <th>Cloudiness</th>\n",
       "      <th>Wind Speed</th>\n",
       "      <th>Country</th>\n",
       "      <th>Date</th>\n",
       "    </tr>\n",
       "  </thead>\n",
       "  <tbody>\n",
       "    <tr>\n",
       "      <th>0</th>\n",
       "      <td>Asău</td>\n",
       "      <td>46.43</td>\n",
       "      <td>26.40</td>\n",
       "      <td>61.00</td>\n",
       "      <td>87</td>\n",
       "      <td>0</td>\n",
       "      <td>4.16</td>\n",
       "      <td>RO</td>\n",
       "      <td>2020-07-11</td>\n",
       "    </tr>\n",
       "    <tr>\n",
       "      <th>1</th>\n",
       "      <td>Mataura</td>\n",
       "      <td>-46.19</td>\n",
       "      <td>168.86</td>\n",
       "      <td>44.15</td>\n",
       "      <td>93</td>\n",
       "      <td>69</td>\n",
       "      <td>3.31</td>\n",
       "      <td>NZ</td>\n",
       "      <td>2020-07-11</td>\n",
       "    </tr>\n",
       "    <tr>\n",
       "      <th>2</th>\n",
       "      <td>Salalah</td>\n",
       "      <td>17.02</td>\n",
       "      <td>54.09</td>\n",
       "      <td>80.60</td>\n",
       "      <td>94</td>\n",
       "      <td>90</td>\n",
       "      <td>3.36</td>\n",
       "      <td>OM</td>\n",
       "      <td>2020-07-11</td>\n",
       "    </tr>\n",
       "    <tr>\n",
       "      <th>3</th>\n",
       "      <td>Cape Town</td>\n",
       "      <td>-33.93</td>\n",
       "      <td>18.42</td>\n",
       "      <td>54.00</td>\n",
       "      <td>81</td>\n",
       "      <td>20</td>\n",
       "      <td>9.17</td>\n",
       "      <td>ZA</td>\n",
       "      <td>2020-07-11</td>\n",
       "    </tr>\n",
       "    <tr>\n",
       "      <th>4</th>\n",
       "      <td>Menongue</td>\n",
       "      <td>-14.66</td>\n",
       "      <td>17.69</td>\n",
       "      <td>55.45</td>\n",
       "      <td>37</td>\n",
       "      <td>0</td>\n",
       "      <td>4.43</td>\n",
       "      <td>AO</td>\n",
       "      <td>2020-07-11</td>\n",
       "    </tr>\n",
       "  </tbody>\n",
       "</table>\n",
       "</div>"
      ],
      "text/plain": [
       "   City Name  Latitude  Longitude  Daily High  Humidity  Cloudiness  \\\n",
       "0       Asău     46.43      26.40       61.00        87           0   \n",
       "1    Mataura    -46.19     168.86       44.15        93          69   \n",
       "2    Salalah     17.02      54.09       80.60        94          90   \n",
       "3  Cape Town    -33.93      18.42       54.00        81          20   \n",
       "4   Menongue    -14.66      17.69       55.45        37           0   \n",
       "\n",
       "   Wind Speed Country        Date  \n",
       "0        4.16      RO  2020-07-11  \n",
       "1        3.31      NZ  2020-07-11  \n",
       "2        3.36      OM  2020-07-11  \n",
       "3        9.17      ZA  2020-07-11  \n",
       "4        4.43      AO  2020-07-11  "
      ]
     },
     "execution_count": 15,
     "metadata": {},
     "output_type": "execute_result"
    }
   ],
   "source": [
    "# Make a new DataFrame equal to the city data to drop all humidity outliers by index.\n",
    "# Passing \"inplace=False\" will make a copy of the city_data DataFrame, which we call \"clean_city_data\".\n",
    "clean_city_data = weather_df.drop(sweaty_df.index)\n",
    "clean_city_data.head()"
   ]
  },
  {
   "cell_type": "code",
   "execution_count": 16,
   "metadata": {},
   "outputs": [],
   "source": [
    "# Extract relevant fields from the data frame\n",
    "##Which fields?\n",
    "\n",
    "# Export the City_Data into a csv\n",
    "## a second csv?\n",
    "output_data_file = 'output_data/clean_cities.csv'\n",
    "clean_city_data.to_csv(output_data_file, index=False)"
   ]
  },
  {
   "cell_type": "markdown",
   "metadata": {},
   "source": [
    "## Plotting the Data\n",
    "* Use proper labeling of the plots using plot titles (including date of analysis) and axes labels.\n",
    "* Save the plotted figures as .pngs."
   ]
  },
  {
   "cell_type": "code",
   "execution_count": 17,
   "metadata": {},
   "outputs": [
    {
     "data": {
      "text/html": [
       "<div>\n",
       "<style scoped>\n",
       "    .dataframe tbody tr th:only-of-type {\n",
       "        vertical-align: middle;\n",
       "    }\n",
       "\n",
       "    .dataframe tbody tr th {\n",
       "        vertical-align: top;\n",
       "    }\n",
       "\n",
       "    .dataframe thead th {\n",
       "        text-align: right;\n",
       "    }\n",
       "</style>\n",
       "<table border=\"1\" class=\"dataframe\">\n",
       "  <thead>\n",
       "    <tr style=\"text-align: right;\">\n",
       "      <th></th>\n",
       "      <th>City Name</th>\n",
       "      <th>Latitude</th>\n",
       "      <th>Longitude</th>\n",
       "      <th>Daily High</th>\n",
       "      <th>Humidity</th>\n",
       "      <th>Cloudiness</th>\n",
       "      <th>Wind Speed</th>\n",
       "      <th>Country</th>\n",
       "      <th>Date</th>\n",
       "    </tr>\n",
       "  </thead>\n",
       "  <tbody>\n",
       "    <tr>\n",
       "      <th>0</th>\n",
       "      <td>Asău</td>\n",
       "      <td>46.43</td>\n",
       "      <td>26.40</td>\n",
       "      <td>61.00</td>\n",
       "      <td>87</td>\n",
       "      <td>0</td>\n",
       "      <td>4.16</td>\n",
       "      <td>RO</td>\n",
       "      <td>2020-07-11</td>\n",
       "    </tr>\n",
       "    <tr>\n",
       "      <th>1</th>\n",
       "      <td>Mataura</td>\n",
       "      <td>-46.19</td>\n",
       "      <td>168.86</td>\n",
       "      <td>44.15</td>\n",
       "      <td>93</td>\n",
       "      <td>69</td>\n",
       "      <td>3.31</td>\n",
       "      <td>NZ</td>\n",
       "      <td>2020-07-11</td>\n",
       "    </tr>\n",
       "    <tr>\n",
       "      <th>2</th>\n",
       "      <td>Salalah</td>\n",
       "      <td>17.02</td>\n",
       "      <td>54.09</td>\n",
       "      <td>80.60</td>\n",
       "      <td>94</td>\n",
       "      <td>90</td>\n",
       "      <td>3.36</td>\n",
       "      <td>OM</td>\n",
       "      <td>2020-07-11</td>\n",
       "    </tr>\n",
       "    <tr>\n",
       "      <th>3</th>\n",
       "      <td>Cape Town</td>\n",
       "      <td>-33.93</td>\n",
       "      <td>18.42</td>\n",
       "      <td>54.00</td>\n",
       "      <td>81</td>\n",
       "      <td>20</td>\n",
       "      <td>9.17</td>\n",
       "      <td>ZA</td>\n",
       "      <td>2020-07-11</td>\n",
       "    </tr>\n",
       "    <tr>\n",
       "      <th>4</th>\n",
       "      <td>Menongue</td>\n",
       "      <td>-14.66</td>\n",
       "      <td>17.69</td>\n",
       "      <td>55.45</td>\n",
       "      <td>37</td>\n",
       "      <td>0</td>\n",
       "      <td>4.43</td>\n",
       "      <td>AO</td>\n",
       "      <td>2020-07-11</td>\n",
       "    </tr>\n",
       "  </tbody>\n",
       "</table>\n",
       "</div>"
      ],
      "text/plain": [
       "   City Name  Latitude  Longitude  Daily High  Humidity  Cloudiness  \\\n",
       "0       Asău     46.43      26.40       61.00        87           0   \n",
       "1    Mataura    -46.19     168.86       44.15        93          69   \n",
       "2    Salalah     17.02      54.09       80.60        94          90   \n",
       "3  Cape Town    -33.93      18.42       54.00        81          20   \n",
       "4   Menongue    -14.66      17.69       55.45        37           0   \n",
       "\n",
       "   Wind Speed Country        Date  \n",
       "0        4.16      RO  2020-07-11  \n",
       "1        3.31      NZ  2020-07-11  \n",
       "2        3.36      OM  2020-07-11  \n",
       "3        9.17      ZA  2020-07-11  \n",
       "4        4.43      AO  2020-07-11  "
      ]
     },
     "execution_count": 17,
     "metadata": {},
     "output_type": "execute_result"
    }
   ],
   "source": [
    "clean_city_data.head()"
   ]
  },
  {
   "cell_type": "markdown",
   "metadata": {},
   "source": [
    "## Latitude vs. Temperature Plot"
   ]
  },
  {
   "cell_type": "code",
   "execution_count": 18,
   "metadata": {
    "scrolled": true
   },
   "outputs": [
    {
     "data": {
      "image/png": "[encoded data removed]",
      "text/plain": [
       "<Figure size 432x288 with 1 Axes>"
      ]
     },
     "metadata": {
      "needs_background": "light"
     },
     "output_type": "display_data"
    }
   ],
   "source": [
    "#linRegPlot(clean_city_data,clean_city_data,'','')\n",
    "plt.scatter(clean_city_data['Latitude'], clean_city_data['Daily High'])\n",
    "plt.xlabel('Latitude')\n",
    "plt.ylabel('Max Daily Temperature (F)')\n",
    "plt.title('Latitude vs. Temperature Plot')\n",
    "plt.savefig(\"output_data/Latitude vs Temperature Plot.png\")"
   ]
  },
  {
   "cell_type": "markdown",
   "metadata": {},
   "source": [
    "* As we can see, the temperatures of the earth are highest around the equator and lowest near the poles. There appears to be a relationship, but it's not linear"
   ]
  },
  {
   "cell_type": "markdown",
   "metadata": {},
   "source": [
    "## Latitude vs. Humidity Plot"
   ]
  },
  {
   "cell_type": "code",
   "execution_count": 19,
   "metadata": {},
   "outputs": [
    {
     "data": {
      "image/png": "[encoded data removed]",
      "text/plain": [
       "<Figure size 432x288 with 1 Axes>"
      ]
     },
     "metadata": {
      "needs_background": "light"
     },
     "output_type": "display_data"
    }
   ],
   "source": [
    "plt.scatter(clean_city_data['Latitude'], clean_city_data['Humidity'])\n",
    "plt.xlabel('Latitude')\n",
    "plt.ylabel('Humidity (%)')\n",
    "plt.title('Latitude vs. Humidity Plot')\n",
    "plt.savefig(\"output_data/Latitude vs Humidity Plot.png\")"
   ]
  },
  {
   "cell_type": "markdown",
   "metadata": {},
   "source": [
    "* The humidity appears to be the Lowest near the equator and the poles, but there is no clear linear relationship between latitude and humidity"
   ]
  },
  {
   "cell_type": "markdown",
   "metadata": {},
   "source": [
    "## Latitude vs. Cloudiness Plot"
   ]
  },
  {
   "cell_type": "code",
   "execution_count": 20,
   "metadata": {},
   "outputs": [
    {
     "data": {
      "image/png": "[encoded data removed]",
      "text/plain": [
       "<Figure size 432x288 with 1 Axes>"
      ]
     },
     "metadata": {
      "needs_background": "light"
     },
     "output_type": "display_data"
    }
   ],
   "source": [
    "plt.scatter(clean_city_data['Latitude'], clean_city_data['Cloudiness'])\n",
    "plt.xlabel('Latitude')\n",
    "plt.ylabel('Cloudiness (%)')\n",
    "plt.title('Latitude vs. Cloudiness Plot')\n",
    "plt.savefig(\"output_data/Latitude vs Cloudiness Plot.png\")"
   ]
  },
  {
   "cell_type": "markdown",
   "metadata": {},
   "source": [
    "* There appears to be no linear correlation between latitude and cloudiness, however the data appears to be 'snapped' to 10% increments because it is based on human judgement"
   ]
  },
  {
   "cell_type": "markdown",
   "metadata": {},
   "source": [
    "## Latitude vs. Wind Speed Plot"
   ]
  },
  {
   "cell_type": "code",
   "execution_count": 21,
   "metadata": {},
   "outputs": [
    {
     "data": {
      "image/png": "[encoded data removed]",
      "text/plain": [
       "<Figure size 432x288 with 1 Axes>"
      ]
     },
     "metadata": {
      "needs_background": "light"
     },
     "output_type": "display_data"
    }
   ],
   "source": [
    "plt.scatter(clean_city_data['Latitude'], clean_city_data['Wind Speed'])\n",
    "plt.xlabel('Latitude')\n",
    "plt.ylabel('Wind Speed (mph)')\n",
    "plt.title('Latitude vs. Wind Speed Plot')\n",
    "plt.savefig(\"output_data/Latitude vs Wind Speed Plot.png\")"
   ]
  },
  {
   "cell_type": "markdown",
   "metadata": {},
   "source": [
    "* There appears to be no clear linear correlation between latitude and windspeed, but the highest wind speeds are near the equator"
   ]
  },
  {
   "cell_type": "markdown",
   "metadata": {},
   "source": [
    "## Linear Regression"
   ]
  },
  {
   "cell_type": "code",
   "execution_count": 22,
   "metadata": {},
   "outputs": [],
   "source": [
    "# OPTIONAL: Create a function to create Linear Regression plots\n",
    "def linRegPlot(x_values, y_values, x_label = \"\", y_label = \"\",title = \"\"):\n",
    "    '''\n",
    "    Takes the x values and y values for a scatter plot,\n",
    "    runs a linear regression comparing the two values,\n",
    "    and then displays a scatter plot with the regression line\n",
    "    '''\n",
    "    (slope, intercept, rvalue, pvalue, stderr) = linregress(x_values, y_values)\n",
    "    regress_values = slope * x_values + intercept\n",
    "    plt.scatter(x_values, y_values)\n",
    "    plt.plot(x_values,regress_values,'r')\n",
    "    plt.xlabel(x_label)\n",
    "    plt.ylabel(y_label)\n",
    "    plt.title(title)\n",
    "    #plt.show()\n",
    "    print('The r-squared-value of the relationship is', round(rvalue**2,4))\n",
    "    plt.savefig(\"output_data/\" + title + \".png\", format='png')\n",
    "    #return plt.figure()"
   ]
  },
  {
   "cell_type": "code",
   "execution_count": 23,
   "metadata": {},
   "outputs": [],
   "source": [
    "# Create Northern and Southern Hemisphere DataFrames\n",
    "northern_df = clean_city_data.loc[clean_city_data['Latitude'] >= 0]\n",
    "southern_df = clean_city_data.loc[clean_city_data['Latitude'] < 0]\n"
   ]
  },
  {
   "cell_type": "markdown",
   "metadata": {},
   "source": [
    "####  Northern Hemisphere - Max Temp vs. Latitude Linear Regression"
   ]
  },
  {
   "cell_type": "code",
   "execution_count": 24,
   "metadata": {},
   "outputs": [
    {
     "name": "stdout",
     "output_type": "stream",
     "text": [
      "The r-squared-value of the relationship is 0.4271\n"
     ]
    },
    {
     "data": {
      "image/png": "[encoded data removed]",
      "text/plain": [
       "<Figure size 432x288 with 1 Axes>"
      ]
     },
     "metadata": {
      "needs_background": "light"
     },
     "output_type": "display_data"
    }
   ],
   "source": [
    "linRegPlot(northern_df['Latitude'], northern_df['Daily High'],'Latitude','Max Temperature','Northern Hemisphere-Max Temp vs Latitude Linear Regression')\n"
   ]
  },
  {
   "cell_type": "markdown",
   "metadata": {},
   "source": [
    "####  Southern Hemisphere - Max Temp vs. Latitude Linear Regression"
   ]
  },
  {
   "cell_type": "code",
   "execution_count": 25,
   "metadata": {},
   "outputs": [
    {
     "name": "stdout",
     "output_type": "stream",
     "text": [
      "The r-squared-value of the relationship is 0.6275\n"
     ]
    },
    {
     "data": {
      "image/png": "[encoded data removed]",
      "text/plain": [
       "<Figure size 432x288 with 1 Axes>"
      ]
     },
     "metadata": {
      "needs_background": "light"
     },
     "output_type": "display_data"
    }
   ],
   "source": [
    "t = 'Southern Hemisphere-Max Temp vs Latitude Linear Regression'\n",
    "linRegPlot(southern_df['Latitude'], southern_df['Daily High'],'Latitude','Max Temperature',t)"
   ]
  },
  {
   "cell_type": "markdown",
   "metadata": {},
   "source": [
    "* There is a strong linear correlation between the latitude and the daily high on each side of the equator\n",
    "* It is strongly negative in the northern hemisphere, and strongly positive in the southern hemisphere.\n",
    "* This matches our earlier observation that temperature goes down as we go away from the equator"
   ]
  },
  {
   "cell_type": "markdown",
   "metadata": {},
   "source": [
    "####  Northern Hemisphere - Humidity (%) vs. Latitude Linear Regression"
   ]
  },
  {
   "cell_type": "code",
   "execution_count": 26,
   "metadata": {},
   "outputs": [
    {
     "name": "stdout",
     "output_type": "stream",
     "text": [
      "The r-squared-value of the relationship is 0.0001\n"
     ]
    },
    {
     "data": {
      "image/png": "[encoded data removed]",
      "text/plain": [
       "<Figure size 432x288 with 1 Axes>"
      ]
     },
     "metadata": {
      "needs_background": "light"
     },
     "output_type": "display_data"
    }
   ],
   "source": [
    "linRegPlot(northern_df['Latitude'], northern_df['Humidity'],'Latitude','Humidity %','Northern-Humidity (%) vs Latitude Linear Regression')"
   ]
  },
  {
   "cell_type": "markdown",
   "metadata": {},
   "source": [
    "####  Southern Hemisphere - Humidity (%) vs. Latitude Linear Regression"
   ]
  },
  {
   "cell_type": "code",
   "execution_count": 27,
   "metadata": {},
   "outputs": [
    {
     "name": "stdout",
     "output_type": "stream",
     "text": [
      "The r-squared-value of the relationship is 0.0137\n"
     ]
    },
    {
     "data": {
      "image/png": "[encoded data removed]",
      "text/plain": [
       "<Figure size 432x288 with 1 Axes>"
      ]
     },
     "metadata": {
      "needs_background": "light"
     },
     "output_type": "display_data"
    }
   ],
   "source": [
    "linRegPlot(southern_df['Latitude'], southern_df['Humidity'],'Latitude','Humidity %','Southern Hemisphere-Humidity (%) vs Latitude Linear Regression')"
   ]
  },
  {
   "cell_type": "markdown",
   "metadata": {},
   "source": [
    "* The correlation betweeen latitude and humidity is extremely weak\n",
    "* It would be helpful to analyze the data to see if the lack of low humidity at the poles and equator is significant"
   ]
  },
  {
   "cell_type": "markdown",
   "metadata": {},
   "source": [
    "####  Northern Hemisphere - Cloudiness (%) vs. Latitude Linear Regression"
   ]
  },
  {
   "cell_type": "code",
   "execution_count": 28,
   "metadata": {},
   "outputs": [
    {
     "name": "stdout",
     "output_type": "stream",
     "text": [
      "The r-squared-value of the relationship is 0.0127\n"
     ]
    },
    {
     "data": {
      "image/png": "[encoded data removed]",
      "text/plain": [
       "<Figure size 432x288 with 1 Axes>"
      ]
     },
     "metadata": {
      "needs_background": "light"
     },
     "output_type": "display_data"
    }
   ],
   "source": [
    "linRegPlot(northern_df['Latitude'], northern_df['Cloudiness'],'Latitude','Cloudiness %','Northern Hemisphere-Cloudiness (%) vs Latitude Linear Regression')"
   ]
  },
  {
   "cell_type": "markdown",
   "metadata": {},
   "source": [
    "####  Southern Hemisphere - Cloudiness (%) vs. Latitude Linear Regression"
   ]
  },
  {
   "cell_type": "code",
   "execution_count": 29,
   "metadata": {},
   "outputs": [
    {
     "name": "stdout",
     "output_type": "stream",
     "text": [
      "The r-squared-value of the relationship is 0.003\n"
     ]
    },
    {
     "data": {
      "image/png": "[encoded data removed]",
      "text/plain": [
       "<Figure size 432x288 with 1 Axes>"
      ]
     },
     "metadata": {
      "needs_background": "light"
     },
     "output_type": "display_data"
    }
   ],
   "source": [
    "linRegPlot(southern_df['Latitude'], southern_df['Cloudiness'],'Latitude','Cloudiness %','Southern Hemisphere-Cloudiness (%) vs Latitude Linear Regression')"
   ]
  },
  {
   "cell_type": "markdown",
   "metadata": {},
   "source": [
    "* There regression shows that there is no relationship between latitude and cloudiness."
   ]
  },
  {
   "cell_type": "markdown",
   "metadata": {},
   "source": [
    "####  Northern Hemisphere - Wind Speed (mph) vs. Latitude Linear Regression"
   ]
  },
  {
   "cell_type": "code",
   "execution_count": 30,
   "metadata": {},
   "outputs": [
    {
     "name": "stdout",
     "output_type": "stream",
     "text": [
      "The r-squared-value of the relationship is 0.0027\n"
     ]
    },
    {
     "data": {
      "image/png": "[encoded data removed]",
      "text/plain": [
       "<Figure size 432x288 with 1 Axes>"
      ]
     },
     "metadata": {
      "needs_background": "light"
     },
     "output_type": "display_data"
    }
   ],
   "source": [
    "linRegPlot(northern_df['Latitude'], northern_df['Wind Speed'],'Latitude','Wind Speed (mph)','Northern Hemisphere-Wind Speed (mph) vs Latitude Linear Regression')"
   ]
  },
  {
   "cell_type": "markdown",
   "metadata": {},
   "source": [
    "####  Southern Hemisphere - Wind Speed (mph) vs. Latitude Linear Regression"
   ]
  },
  {
   "cell_type": "code",
   "execution_count": 31,
   "metadata": {},
   "outputs": [
    {
     "name": "stdout",
     "output_type": "stream",
     "text": [
      "The r-squared-value of the relationship is 0.025\n"
     ]
    },
    {
     "data": {
      "image/png": "[encoded data removed]",
      "text/plain": [
       "<Figure size 432x288 with 1 Axes>"
      ]
     },
     "metadata": {
      "needs_background": "light"
     },
     "output_type": "display_data"
    }
   ],
   "source": [
    "linRegPlot(southern_df['Latitude'], southern_df['Wind Speed'],'Latitude','Wind Speed (mph)','Southern Hemisphere-Wind Speed (mph) vs Latitude Linear Regression')"
   ]
  },
  {
   "cell_type": "markdown",
   "metadata": {},
   "source": [
    "* There regression shows that there is no relationship between latitude and wind speed."
   ]
  },
  {
   "cell_type": "code",
   "execution_count": null,
   "metadata": {},
   "outputs": [],
   "source": []
  }
 ],
 "metadata": {
  "anaconda-cloud": {},
  "kernel_info": {
   "name": "python3"
  },
  "kernelspec": {
   "display_name": "Python 3",
   "language": "python",
   "name": "python3"
  },
  "language_info": {
   "codemirror_mode": {
    "name": "ipython",
    "version": 3
   },
   "file_extension": ".py",
   "mimetype": "text/x-python",
   "name": "python",
   "nbconvert_exporter": "python",
   "pygments_lexer": "ipython3",
   "version": "3.6.10"
  },
  "latex_envs": {
   "LaTeX_envs_menu_present": true,
   "autoclose": false,
   "autocomplete": true,
   "bibliofile": "biblio.bib",
   "cite_by": "apalike",
   "current_citInitial": 1,
   "eqLabelWithNumbers": true,
   "eqNumInitial": 1,
   "hotkeys": {
    "equation": "Ctrl-E",
    "itemize": "Ctrl-I"
   },
   "labels_anchors": false,
   "latex_user_defs": false,
   "report_style_numbering": false,
   "user_envs_cfg": false
  },
  "nteract": {
   "version": "0.12.3"
  }
 },
 "nbformat": 4,
 "nbformat_minor": 2
}
