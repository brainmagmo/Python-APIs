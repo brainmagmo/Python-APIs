{
 "cells": [
  {
   "cell_type": "markdown",
   "metadata": {},
   "source": [
    "# WeatherPy\n",
    "----\n",
    "\n",
    "## Analysis:\n",
    "\n",
    "* The temperature of a city is strongly negatively correlated with the absolute value of its latitude.\n",
    "* Cloudiness, Humidity, and Windspeed have no correlation with latitude, although low humidity was rarely found near equator and poles.\n",
    "* This code strongly weighted information from *coastal* cities over inland cities, introducing possible bias."
   ]
  },
  {
   "cell_type": "code",
   "execution_count": 1,
   "metadata": {
    "scrolled": true
   },
   "outputs": [],
   "source": [
    "# Dependencies and Setup\n",
    "import matplotlib.pyplot as plt\n",
    "import pandas as pd\n",
    "import numpy as np\n",
    "import requests\n",
    "import time\n",
    "#import random\n",
    "from scipy.stats import linregress\n",
    "from datetime import date\n",
    "\n",
    "\n",
    "# Import API key\n",
    "from api_keys import weather_api_key\n",
    "\n"
   ]
  },
  {
   "cell_type": "code",
   "execution_count": 2,
   "metadata": {},
   "outputs": [],
   "source": [
    "# Incorporated citipy to determine city based on latitude and longitude\n",
    "from citipy import citipy\n",
    "\n",
    "# Output File (CSV)\n",
    "output_data_file = \"output_data/cities.csv\"\n",
    "\n",
    "# Range of latitudes and longitudes\n",
    "lat_range = (-90, 90)\n",
    "lng_range = (-180, 180)"
   ]
  },
  {
   "cell_type": "markdown",
   "metadata": {},
   "source": [
    "## Generate Cities List"
   ]
  },
  {
   "cell_type": "code",
   "execution_count": 3,
   "metadata": {},
   "outputs": [
    {
     "data": {
      "text/plain": [
       "630"
      ]
     },
     "execution_count": 3,
     "metadata": {},
     "output_type": "execute_result"
    }
   ],
   "source": [
    "# List for holding lat_lngs and cities\n",
    "cities = []\n",
    "count = 0\n",
    "while count < 500 :\n",
    "    lat_lngs = []\n",
    "\n",
    "    # Create a set of random lat and lng combinations\n",
    "    lats = np.random.uniform(lat_range[0], lat_range[1], size=1500)\n",
    "    lngs = np.random.uniform(lng_range[0], lng_range[1], size=1500)\n",
    "    lat_lngs = zip(lats, lngs)\n",
    "\n",
    "    # Identify nearest city for each lat, lng combination\n",
    "    for lat_lng in lat_lngs:\n",
    "        city = citipy.nearest_city(lat_lng[0], lat_lng[1]).city_name\n",
    "\n",
    "        # If the city is unique, then add it to a our cities list\n",
    "        if city not in cities:\n",
    "            cities.append(city)\n",
    "\n",
    "    # Print the city count to confirm sufficient count\n",
    "    \n",
    "    count = len(cities)\n",
    "    \n",
    "count"
   ]
  },
  {
   "cell_type": "markdown",
   "metadata": {},
   "source": [
    "### Perform API Calls\n",
    "* Perform a weather check on each city using a series of successive API calls.\n",
    "* Include a print log of each city as it'sbeing processed (with the city number and city name).\n"
   ]
  },
  {
   "cell_type": "code",
   "execution_count": 4,
   "metadata": {},
   "outputs": [],
   "source": [
    "#Building the url components that will be statis throughout the search\n",
    "base_url = \"http://api.openweathermap.org/data/2.5/weather?\"\n",
    "\n",
    "params = {\n",
    "    \"units\": \"imperial\",\n",
    "    \"appid\": weather_api_key,\n",
    "}"
   ]
  },
  {
   "cell_type": "code",
   "execution_count": 5,
   "metadata": {},
   "outputs": [],
   "source": [
    "def convert_temp (temp, scale='C', to='F'):\n",
    "    '''\n",
    "    Takes a temperature and converts it to a different scale\n",
    "    temp must be numeric\n",
    "    valid values form the starting scale and to scale are 'C': Celsius, 'F': Farenheit, and 'K': Kelvin\n",
    "    '''\n",
    "    scales = ['C','F','K']\n",
    "    #print(scale.upper(),'\\n',to,'\\n',scales)\n",
    "    if not ((scale.upper() in scales) and (to.upper() in scales)):\n",
    "        return ValueError(\"valid values form the starting scale and to scale are 'C': Celsius, 'F': Farenheit, and 'K': Kelvin\")\n",
    "    \n",
    "    if scale == 'C' and to == 'F':\n",
    "        return 32.0 + ((9.0 / 5) * temp)\n",
    "    \n",
    "    if scale == 'F' and to == 'C':\n",
    "        return (-32.0 + temp) * (5.0 / 9)\n",
    "    \n",
    "    if scale == 'K' and to == 'C':\n",
    "        return temp - 273.15\n",
    "    \n",
    "    if scale == 'C' and to == 'K':\n",
    "        return temp + 273.15\n",
    "    \n",
    "    if scale == 'K' and to == 'F':\n",
    "        return 32.0 + ((9.0 / 5) * (temp - 273.15))\n",
    "    \n",
    "    if scale == 'F' and to == 'K':\n",
    "        return ((-32.0 + temp) * (5.0 / 9)) + 273.15\n",
    "    \n",
    "    \n",
    "#convert_temp(0)\n",
    "\n",
    "#Note: this function is not used"
   ]
  },
  {
   "cell_type": "code",
   "execution_count": 6,
   "metadata": {},
   "outputs": [
    {
     "data": {
      "text/plain": [
       "{'cod': '404', 'message': 'city not found'}"
      ]
     },
     "execution_count": 6,
     "metadata": {},
     "output_type": "execute_result"
    }
   ],
   "source": [
    "#figuring out which data to extract for each city\n",
    "params[\"q\"] = np.random.choice(cities)\n",
    "\n",
    "response = requests.get(base_url, params=params)\n",
    "\n",
    "'''\n",
    "{'coord': {'lon': -117.16, 'lat': 32.72},\n",
    " 'weather': [{'id': 804,\n",
    "   'main': 'Clouds',\n",
    "   'description': 'overcast clouds',\n",
    "   'icon': '04n'}],\n",
    " 'base': 'stations',\n",
    " 'main': {'temp': 16.93,\n",
    "  'feels_like': 17.09,\n",
    "  'temp_min': 15,\n",
    "  'temp_max': 20,\n",
    "  'pressure': 1013,\n",
    "  'humidity': 77},\n",
    " 'visibility': 14484,\n",
    " 'wind': {'speed': 1.05, 'deg': 257},\n",
    " 'clouds': {'all': 90},\n",
    " 'dt': 1594289893,\n",
    " 'sys': {'type': 1,\n",
    "  'id': 5771,\n",
    "  'country': 'US',\n",
    "  'sunrise': 1594298899,\n",
    "  'sunset': 1594349950},\n",
    " 'timezone': -25200,\n",
    " 'id': 5391811,\n",
    " 'name': 'San Diego',\n",
    " 'cod': 200}\n",
    "'''\n",
    "\n",
    "'''\n",
    "City          550\n",
    "Lat           550\n",
    "Lng           550\n",
    "Max Temp      550\n",
    "Humidity      550\n",
    "Cloudiness    550\n",
    "Wind Speed    550\n",
    "Country       550\n",
    "Date          550\n",
    "dtype: int64\n",
    "'''\n",
    "\n",
    "response.json()"
   ]
  },
  {
   "cell_type": "code",
   "execution_count": 7,
   "metadata": {},
   "outputs": [
    {
     "name": "stdout",
     "output_type": "stream",
     "text": [
      "Beginning Data Retrieval\n",
      "-----------------------------\n",
      "Processing Record 1 of Set 1 | nikolskoye\n",
      "Processing Record 2 of Set 1 | tiksi\n",
      "Processing Record 3 of Set 1 | rikitea\n",
      "Processing Record 4 of Set 1 | punta arenas\n",
      "Processing Record 5 of Set 1 | upernavik\n",
      "Processing Record 6 of Set 1 | harrismith\n",
      "Processing Record 7 of Set 1 | vaini\n",
      "Processing Record 8 of Set 1 | atuona\n",
      "Processing Record 9 of Set 1 | busselton\n",
      "Processing Record 10 of Set 1 | kenora\n",
      "City not found. Skipping...\n",
      "Processing Record 12 of Set 1 | ushuaia\n",
      "Processing Record 13 of Set 1 | necochea\n",
      "Processing Record 14 of Set 1 | tiznit\n",
      "Processing Record 15 of Set 1 | faanui\n",
      "Processing Record 16 of Set 1 | apollonia\n",
      "Processing Record 17 of Set 1 | cape town\n",
      "Processing Record 18 of Set 1 | albany\n",
      "Processing Record 19 of Set 1 | prevalje\n",
      "City not found. Skipping...\n",
      "Processing Record 21 of Set 1 | chokurdakh\n",
      "Processing Record 22 of Set 1 | yellowknife\n",
      "Processing Record 23 of Set 1 | carnarvon\n",
      "Processing Record 24 of Set 1 | geraldton\n",
      "Processing Record 25 of Set 1 | taoudenni\n",
      "Processing Record 26 of Set 1 | new norfolk\n",
      "City not found. Skipping...\n",
      "City not found. Skipping...\n",
      "Processing Record 29 of Set 1 | cherskiy\n",
      "Processing Record 30 of Set 1 | barrow\n",
      "Processing Record 31 of Set 1 | hithadhoo\n",
      "Processing Record 32 of Set 1 | alice springs\n",
      "Processing Record 33 of Set 1 | longyearbyen\n",
      "City not found. Skipping...\n",
      "Processing Record 35 of Set 1 | qaanaaq\n",
      "Processing Record 36 of Set 1 | arraial do cabo\n",
      "Processing Record 37 of Set 1 | san patricio\n",
      "Processing Record 38 of Set 1 | puerto ayora\n",
      "Processing Record 39 of Set 1 | hobart\n",
      "Processing Record 40 of Set 1 | barabai\n",
      "Processing Record 41 of Set 1 | hermanus\n",
      "City not found. Skipping...\n",
      "Processing Record 43 of Set 1 | pangnirtung\n",
      "Processing Record 44 of Set 1 | bredasdorp\n",
      "Processing Record 45 of Set 1 | grindavik\n",
      "Processing Record 46 of Set 1 | airai\n",
      "Processing Record 47 of Set 1 | laguna\n",
      "Processing Record 48 of Set 1 | olavarria\n",
      "Processing Record 49 of Set 1 | port hawkesbury\n",
      "Processing Record 50 of Set 1 | kudat\n",
      "Processing Record 1 of Set 2 | tortoli\n",
      "Processing Record 2 of Set 2 | tasiilaq\n",
      "Processing Record 3 of Set 2 | pelym\n",
      "Processing Record 4 of Set 2 | balkanabat\n",
      "Processing Record 5 of Set 2 | khatanga\n",
      "Processing Record 6 of Set 2 | zavitinsk\n",
      "Processing Record 7 of Set 2 | mokhsogollokh\n",
      "Processing Record 8 of Set 2 | cabo san lucas\n",
      "Processing Record 9 of Set 2 | fairbanks\n",
      "Processing Record 10 of Set 2 | lavrentiya\n",
      "Processing Record 11 of Set 2 | simpang\n",
      "Processing Record 12 of Set 2 | saldanha\n",
      "Processing Record 13 of Set 2 | thompson\n",
      "City not found. Skipping...\n",
      "Processing Record 15 of Set 2 | tuatapere\n",
      "City not found. Skipping...\n",
      "Processing Record 17 of Set 2 | paamiut\n",
      "Processing Record 18 of Set 2 | vila velha\n",
      "Processing Record 19 of Set 2 | belmonte\n",
      "Processing Record 20 of Set 2 | torbay\n",
      "City not found. Skipping...\n",
      "Processing Record 22 of Set 2 | karratha\n",
      "Processing Record 23 of Set 2 | saint-philippe\n",
      "Processing Record 24 of Set 2 | east london\n",
      "Processing Record 25 of Set 2 | broken hill\n",
      "Processing Record 26 of Set 2 | rauma\n",
      "Processing Record 27 of Set 2 | jamestown\n",
      "Processing Record 28 of Set 2 | biscarrosse\n",
      "Processing Record 29 of Set 2 | iqaluit\n",
      "Processing Record 30 of Set 2 | mezen\n",
      "Processing Record 31 of Set 2 | vologda\n",
      "Processing Record 32 of Set 2 | norman wells\n",
      "Processing Record 33 of Set 2 | georgetown\n",
      "Processing Record 34 of Set 2 | bay roberts\n",
      "Processing Record 35 of Set 2 | urucara\n",
      "Processing Record 36 of Set 2 | guerrero negro\n",
      "Processing Record 37 of Set 2 | miranda\n",
      "Processing Record 38 of Set 2 | callaguip\n",
      "Processing Record 39 of Set 2 | cockburn town\n",
      "Processing Record 40 of Set 2 | sri aman\n",
      "Processing Record 41 of Set 2 | bethel\n",
      "Processing Record 42 of Set 2 | mataura\n",
      "Processing Record 43 of Set 2 | lompoc\n",
      "Processing Record 44 of Set 2 | provideniya\n",
      "Processing Record 45 of Set 2 | avarua\n",
      "Processing Record 46 of Set 2 | nabire\n",
      "Processing Record 47 of Set 2 | cidreira\n",
      "Processing Record 48 of Set 2 | port elizabeth\n",
      "Processing Record 49 of Set 2 | hilo\n",
      "Processing Record 50 of Set 2 | kapaa\n",
      "Processing Record 1 of Set 3 | tuktoyaktuk\n",
      "City not found. Skipping...\n",
      "Processing Record 3 of Set 3 | chuy\n",
      "Processing Record 4 of Set 3 | salalah\n",
      "Processing Record 5 of Set 3 | east wenatchee bench\n",
      "Processing Record 6 of Set 3 | ladario\n",
      "Processing Record 7 of Set 3 | yenagoa\n",
      "Processing Record 8 of Set 3 | sisimiut\n",
      "Processing Record 9 of Set 3 | polovinnoye\n",
      "Processing Record 10 of Set 3 | soyo\n",
      "Processing Record 11 of Set 3 | hovd\n",
      "Processing Record 12 of Set 3 | luderitz\n",
      "Processing Record 13 of Set 3 | castro\n",
      "Processing Record 14 of Set 3 | dunedin\n",
      "City not found. Skipping...\n",
      "Processing Record 16 of Set 3 | kamaishi\n",
      "Processing Record 17 of Set 3 | severo-kurilsk\n",
      "Processing Record 18 of Set 3 | takaungu\n",
      "Processing Record 19 of Set 3 | innisfail\n",
      "Processing Record 20 of Set 3 | macusani\n",
      "Processing Record 21 of Set 3 | ostrovnoy\n",
      "Processing Record 22 of Set 3 | saint-augustin\n",
      "Processing Record 23 of Set 3 | la rioja\n",
      "Processing Record 24 of Set 3 | saskylakh\n",
      "Processing Record 25 of Set 3 | cerqueira cesar\n",
      "Processing Record 26 of Set 3 | fortuna\n",
      "Processing Record 27 of Set 3 | port macquarie\n",
      "City not found. Skipping...\n",
      "Processing Record 29 of Set 3 | westport\n",
      "Processing Record 30 of Set 3 | bambous virieux\n",
      "Processing Record 31 of Set 3 | tessalit\n",
      "Processing Record 32 of Set 3 | marrakesh\n",
      "Processing Record 33 of Set 3 | rawlins\n",
      "Processing Record 34 of Set 3 | port alfred\n",
      "Processing Record 35 of Set 3 | paita\n",
      "Processing Record 36 of Set 3 | kuytun\n",
      "Processing Record 37 of Set 3 | hofn\n",
      "Processing Record 38 of Set 3 | kuruman\n",
      "Processing Record 39 of Set 3 | kaeo\n",
      "Processing Record 40 of Set 3 | gunjur\n",
      "Processing Record 41 of Set 3 | tocopilla\n",
      "City not found. Skipping...\n",
      "Processing Record 43 of Set 3 | dikson\n",
      "Processing Record 44 of Set 3 | high level\n",
      "City not found. Skipping...\n",
      "City not found. Skipping...\n",
      "Processing Record 47 of Set 3 | dwarka\n",
      "Processing Record 48 of Set 3 | klaksvik\n",
      "Processing Record 49 of Set 3 | agadir\n",
      "Processing Record 50 of Set 3 | coahuayana\n",
      "Processing Record 1 of Set 4 | xinzhou\n",
      "Processing Record 2 of Set 4 | kudahuvadhoo\n",
      "City not found. Skipping...\n",
      "Processing Record 4 of Set 4 | inirida\n",
      "Processing Record 5 of Set 4 | pandan\n",
      "Processing Record 6 of Set 4 | hamilton\n",
      "Processing Record 7 of Set 4 | trairi\n",
      "Processing Record 8 of Set 4 | codrington\n",
      "Processing Record 9 of Set 4 | antsohihy\n",
      "Processing Record 10 of Set 4 | catamarca\n",
      "Processing Record 11 of Set 4 | coquimbo\n",
      "Processing Record 12 of Set 4 | hualmay\n",
      "Processing Record 13 of Set 4 | bandarbeyla\n",
      "Processing Record 14 of Set 4 | baruun-urt\n",
      "Processing Record 15 of Set 4 | aksarka\n",
      "Processing Record 16 of Set 4 | aklavik\n",
      "Processing Record 17 of Set 4 | mehamn\n",
      "Processing Record 18 of Set 4 | sao gabriel da cachoeira\n",
      "Processing Record 19 of Set 4 | batouri\n",
      "Processing Record 20 of Set 4 | skjervoy\n",
      "Processing Record 21 of Set 4 | cayenne\n",
      "Processing Record 22 of Set 4 | ruston\n",
      "Processing Record 23 of Set 4 | hit\n",
      "Processing Record 24 of Set 4 | wladyslawowo\n",
      "Processing Record 25 of Set 4 | kruisfontein\n",
      "Processing Record 26 of Set 4 | touros\n",
      "Processing Record 27 of Set 4 | surt\n",
      "Processing Record 28 of Set 4 | richards bay\n",
      "Processing Record 29 of Set 4 | zhashkiv\n",
      "Processing Record 30 of Set 4 | poum\n",
      "Processing Record 31 of Set 4 | setermoen\n",
      "Processing Record 32 of Set 4 | shimoda\n",
      "Processing Record 33 of Set 4 | olga\n",
      "Processing Record 34 of Set 4 | caravelas\n",
      "Processing Record 35 of Set 4 | cap malheureux\n",
      "Processing Record 36 of Set 4 | pevek\n",
      "Processing Record 37 of Set 4 | katsuura\n",
      "Processing Record 38 of Set 4 | maksatikha\n",
      "Processing Record 39 of Set 4 | ponta do sol\n",
      "Processing Record 40 of Set 4 | yar-sale\n",
      "Processing Record 41 of Set 4 | clovis\n",
      "Processing Record 42 of Set 4 | misratah\n",
      "Processing Record 43 of Set 4 | nome\n",
      "Processing Record 44 of Set 4 | ilhabela\n",
      "Processing Record 45 of Set 4 | mar del plata\n",
      "Processing Record 46 of Set 4 | kavieng\n",
      "City not found. Skipping...\n",
      "Processing Record 48 of Set 4 | vila franca do campo\n",
      "Processing Record 49 of Set 4 | tamandare\n",
      "Processing Record 50 of Set 4 | vao\n",
      "Processing Record 1 of Set 5 | santo tomas\n",
      "Processing Record 2 of Set 5 | diffa\n",
      "Processing Record 3 of Set 5 | ponta delgada\n",
      "Processing Record 4 of Set 5 | margate\n"
     ]
    },
    {
     "name": "stdout",
     "output_type": "stream",
     "text": [
      "City not found. Skipping...\n",
      "Processing Record 6 of Set 5 | west wendover\n",
      "Processing Record 7 of Set 5 | sao filipe\n",
      "Processing Record 8 of Set 5 | baker city\n",
      "Processing Record 9 of Set 5 | santa rosa\n",
      "Processing Record 10 of Set 5 | inta\n",
      "Processing Record 11 of Set 5 | vaitape\n",
      "City not found. Skipping...\n",
      "Processing Record 13 of Set 5 | talara\n",
      "City not found. Skipping...\n",
      "Processing Record 15 of Set 5 | lagoa\n",
      "Processing Record 16 of Set 5 | bismarck\n",
      "Processing Record 17 of Set 5 | isangel\n",
      "Processing Record 18 of Set 5 | hobyo\n",
      "Processing Record 19 of Set 5 | vardo\n",
      "Processing Record 20 of Set 5 | talnakh\n",
      "Processing Record 21 of Set 5 | pisco\n",
      "Processing Record 22 of Set 5 | broome\n",
      "Processing Record 23 of Set 5 | port moresby\n",
      "Processing Record 24 of Set 5 | kungurtug\n",
      "Processing Record 25 of Set 5 | vondrozo\n",
      "Processing Record 26 of Set 5 | warrington\n",
      "Processing Record 27 of Set 5 | stavern\n",
      "Processing Record 28 of Set 5 | dingle\n",
      "Processing Record 29 of Set 5 | madinat sittah uktubar\n",
      "Processing Record 30 of Set 5 | galle\n",
      "Processing Record 31 of Set 5 | nuuk\n",
      "Processing Record 32 of Set 5 | bluff\n",
      "Processing Record 33 of Set 5 | rio grande\n",
      "Processing Record 34 of Set 5 | mahebourg\n",
      "Processing Record 35 of Set 5 | sola\n",
      "City not found. Skipping...\n",
      "Processing Record 37 of Set 5 | souillac\n",
      "Processing Record 38 of Set 5 | punta de piedra\n",
      "Processing Record 39 of Set 5 | neepawa\n",
      "Processing Record 40 of Set 5 | chulym\n",
      "Processing Record 41 of Set 5 | nikolayevka\n",
      "Processing Record 42 of Set 5 | islamkot\n",
      "Processing Record 43 of Set 5 | bengkulu\n",
      "Processing Record 44 of Set 5 | ginda\n",
      "Processing Record 45 of Set 5 | rzhanitsa\n",
      "City not found. Skipping...\n",
      "Processing Record 47 of Set 5 | lydenburg\n",
      "Processing Record 48 of Set 5 | cuamba\n",
      "Processing Record 49 of Set 5 | alofi\n",
      "Processing Record 50 of Set 5 | phuket\n",
      "Processing Record 1 of Set 6 | ribeira grande\n",
      "Processing Record 2 of Set 6 | vallenar\n",
      "Processing Record 3 of Set 6 | hede\n",
      "Processing Record 4 of Set 6 | akyab\n",
      "Processing Record 5 of Set 6 | oussouye\n",
      "Processing Record 6 of Set 6 | buraydah\n",
      "Processing Record 7 of Set 6 | churapcha\n",
      "Processing Record 8 of Set 6 | yarmouth\n",
      "Processing Record 9 of Set 6 | vostok\n",
      "Processing Record 10 of Set 6 | nanortalik\n",
      "Processing Record 11 of Set 6 | lebu\n",
      "Processing Record 12 of Set 6 | shenjiamen\n",
      "Processing Record 13 of Set 6 | hasaki\n",
      "Processing Record 14 of Set 6 | henties bay\n",
      "Processing Record 15 of Set 6 | college\n",
      "Processing Record 16 of Set 6 | saint-georges\n",
      "Processing Record 17 of Set 6 | pangkalanbuun\n",
      "City not found. Skipping...\n",
      "Processing Record 19 of Set 6 | key west\n",
      "Processing Record 20 of Set 6 | sao jose da coroa grande\n",
      "Processing Record 21 of Set 6 | tarm\n",
      "City not found. Skipping...\n",
      "Processing Record 23 of Set 6 | okhotsk\n",
      "Processing Record 24 of Set 6 | natal\n",
      "Processing Record 25 of Set 6 | veraval\n",
      "Processing Record 26 of Set 6 | karasburg\n",
      "Processing Record 27 of Set 6 | nieuw amsterdam\n",
      "Processing Record 28 of Set 6 | arlit\n",
      "Processing Record 29 of Set 6 | saint-francois\n",
      "Processing Record 30 of Set 6 | tezu\n",
      "Processing Record 31 of Set 6 | sechura\n",
      "Processing Record 32 of Set 6 | dengzhou\n",
      "Processing Record 33 of Set 6 | krasnyy chikoy\n",
      "Processing Record 34 of Set 6 | arrifes\n",
      "City not found. Skipping...\n",
      "Processing Record 36 of Set 6 | balezino\n",
      "Processing Record 37 of Set 6 | chenzhou\n",
      "Processing Record 38 of Set 6 | novokayakent\n",
      "City not found. Skipping...\n",
      "Processing Record 40 of Set 6 | general pico\n",
      "Processing Record 41 of Set 6 | giehun\n",
      "City not found. Skipping...\n",
      "Processing Record 43 of Set 6 | hambantota\n",
      "Processing Record 44 of Set 6 | payakumbuh\n",
      "Processing Record 45 of Set 6 | mataram\n",
      "Processing Record 46 of Set 6 | port shepstone\n",
      "Processing Record 47 of Set 6 | banda aceh\n",
      "Processing Record 48 of Set 6 | serang\n",
      "Processing Record 49 of Set 6 | florianopolis\n",
      "Processing Record 50 of Set 6 | mount isa\n",
      "Processing Record 1 of Set 7 | amapa\n",
      "Processing Record 2 of Set 7 | ancud\n",
      "Processing Record 3 of Set 7 | rawson\n",
      "Processing Record 4 of Set 7 | farmington\n",
      "Processing Record 5 of Set 7 | roma\n",
      "Processing Record 6 of Set 7 | los llanos de aridane\n",
      "Processing Record 7 of Set 7 | qurayyat\n",
      "City not found. Skipping...\n",
      "Processing Record 9 of Set 7 | padang\n",
      "City not found. Skipping...\n",
      "Processing Record 11 of Set 7 | krapivinskiy\n",
      "Processing Record 12 of Set 7 | biltine\n",
      "Processing Record 13 of Set 7 | changji\n",
      "Processing Record 14 of Set 7 | mount gambier\n",
      "Processing Record 15 of Set 7 | salekhard\n",
      "Processing Record 16 of Set 7 | saint george\n",
      "Processing Record 17 of Set 7 | novikovo\n",
      "Processing Record 18 of Set 7 | namibe\n",
      "Processing Record 19 of Set 7 | emerald\n",
      "City not found. Skipping...\n",
      "Processing Record 21 of Set 7 | chokwe\n",
      "Processing Record 22 of Set 7 | marzuq\n",
      "Processing Record 23 of Set 7 | ouadda\n",
      "Processing Record 24 of Set 7 | sitka\n",
      "Processing Record 25 of Set 7 | anchorage\n",
      "Processing Record 26 of Set 7 | naze\n",
      "Processing Record 27 of Set 7 | tooele\n",
      "Processing Record 28 of Set 7 | tambopata\n",
      "Processing Record 29 of Set 7 | port hardy\n",
      "Processing Record 30 of Set 7 | atar\n",
      "Processing Record 31 of Set 7 | porto nacional\n",
      "Processing Record 32 of Set 7 | kupang\n",
      "Processing Record 33 of Set 7 | mountain home\n",
      "Processing Record 34 of Set 7 | evensk\n",
      "Processing Record 35 of Set 7 | pangody\n",
      "Processing Record 36 of Set 7 | springs\n",
      "Processing Record 37 of Set 7 | boulder city\n",
      "City not found. Skipping...\n",
      "City not found. Skipping...\n",
      "Processing Record 40 of Set 7 | vestmannaeyjar\n",
      "Processing Record 41 of Set 7 | sistranda\n",
      "Processing Record 42 of Set 7 | mayo\n",
      "Processing Record 43 of Set 7 | arman\n",
      "Processing Record 44 of Set 7 | homer\n",
      "Processing Record 45 of Set 7 | osvaldo cruz\n",
      "Processing Record 46 of Set 7 | marystown\n",
      "City not found. Skipping...\n",
      "Processing Record 48 of Set 7 | omsukchan\n",
      "Processing Record 49 of Set 7 | brownsville\n",
      "Processing Record 50 of Set 7 | gryfice\n",
      "Processing Record 1 of Set 8 | beloha\n",
      "City not found. Skipping...\n",
      "Processing Record 3 of Set 8 | celestun\n",
      "Processing Record 4 of Set 8 | xai-xai\n",
      "Processing Record 5 of Set 8 | carutapera\n",
      "Processing Record 6 of Set 8 | yeppoon\n",
      "Processing Record 7 of Set 8 | narsaq\n",
      "City not found. Skipping...\n",
      "Processing Record 9 of Set 8 | baykit\n",
      "Processing Record 10 of Set 8 | port keats\n",
      "Processing Record 11 of Set 8 | high rock\n",
      "Processing Record 12 of Set 8 | usinsk\n",
      "Processing Record 13 of Set 8 | alekseyevsk\n",
      "Processing Record 14 of Set 8 | jasper\n",
      "Processing Record 15 of Set 8 | kodiak\n",
      "Processing Record 16 of Set 8 | paulo afonso\n",
      "Processing Record 17 of Set 8 | kushima\n",
      "Processing Record 18 of Set 8 | butaritari\n",
      "Processing Record 19 of Set 8 | newport\n",
      "Processing Record 20 of Set 8 | sabya\n",
      "City not found. Skipping...\n",
      "Processing Record 22 of Set 8 | isla vista\n",
      "Processing Record 23 of Set 8 | ahipara\n",
      "Processing Record 24 of Set 8 | namatanai\n",
      "Processing Record 25 of Set 8 | kangaba\n",
      "Processing Record 26 of Set 8 | maun\n",
      "City not found. Skipping...\n",
      "Processing Record 28 of Set 8 | port blair\n",
      "City not found. Skipping...\n",
      "Processing Record 30 of Set 8 | pinega\n",
      "Processing Record 31 of Set 8 | magadan\n",
      "Processing Record 32 of Set 8 | alta floresta\n",
      "Processing Record 33 of Set 8 | comodoro rivadavia\n",
      "Processing Record 34 of Set 8 | kirkwall\n",
      "Processing Record 35 of Set 8 | berdigestyakh\n",
      "Processing Record 36 of Set 8 | pemangkat\n",
      "Processing Record 37 of Set 8 | tabas\n",
      "City not found. Skipping...\n",
      "Processing Record 39 of Set 8 | kirakira\n",
      "Processing Record 40 of Set 8 | rock springs\n",
      "Processing Record 41 of Set 8 | hukuntsi\n",
      "Processing Record 42 of Set 8 | havre-saint-pierre\n",
      "Processing Record 43 of Set 8 | shache\n",
      "Processing Record 44 of Set 8 | pahrump\n",
      "Processing Record 45 of Set 8 | kununurra\n",
      "Processing Record 46 of Set 8 | avera\n",
      "Processing Record 47 of Set 8 | malakal\n",
      "Processing Record 48 of Set 8 | maniitsoq\n",
      "Processing Record 49 of Set 8 | san quintin\n",
      "Processing Record 50 of Set 8 | yaritagua\n",
      "Processing Record 1 of Set 9 | shingu\n",
      "Processing Record 2 of Set 9 | coihaique\n",
      "Processing Record 3 of Set 9 | honningsvag\n",
      "Processing Record 4 of Set 9 | susanville\n",
      "Processing Record 5 of Set 9 | lloydminster\n",
      "Processing Record 6 of Set 9 | prince rupert\n",
      "Processing Record 7 of Set 9 | saint anthony\n",
      "Processing Record 8 of Set 9 | torrelavega\n",
      "Processing Record 9 of Set 9 | kutum\n",
      "Processing Record 10 of Set 9 | viransehir\n"
     ]
    },
    {
     "name": "stdout",
     "output_type": "stream",
     "text": [
      "Processing Record 11 of Set 9 | nantucket\n",
      "City not found. Skipping...\n",
      "Processing Record 13 of Set 9 | solms\n",
      "Processing Record 14 of Set 9 | luebo\n",
      "City not found. Skipping...\n",
      "Processing Record 16 of Set 9 | maragogi\n",
      "Processing Record 17 of Set 9 | leczna\n",
      "Processing Record 18 of Set 9 | coxim\n",
      "Processing Record 19 of Set 9 | maarianhamina\n",
      "Processing Record 20 of Set 9 | ixtapa\n",
      "Processing Record 21 of Set 9 | manggar\n",
      "Processing Record 22 of Set 9 | lyubytino\n",
      "City not found. Skipping...\n",
      "Processing Record 24 of Set 9 | marawi\n",
      "Processing Record 25 of Set 9 | nalut\n",
      "Processing Record 26 of Set 9 | reserva\n",
      "Processing Record 27 of Set 9 | tabuny\n",
      "Processing Record 28 of Set 9 | kamenka\n",
      "Processing Record 29 of Set 9 | gat\n",
      "Processing Record 30 of Set 9 | belyy yar\n",
      "Processing Record 31 of Set 9 | moose factory\n",
      "Processing Record 32 of Set 9 | faya\n",
      "Processing Record 33 of Set 9 | hadano\n",
      "Processing Record 34 of Set 9 | kemi\n",
      "Processing Record 35 of Set 9 | nova olimpia\n",
      "Processing Record 36 of Set 9 | mandla\n",
      "Processing Record 37 of Set 9 | nouadhibou\n",
      "Processing Record 38 of Set 9 | grand-lahou\n",
      "Processing Record 39 of Set 9 | zemio\n",
      "Processing Record 40 of Set 9 | macheng\n",
      "Processing Record 41 of Set 9 | victoria\n",
      "City not found. Skipping...\n",
      "Processing Record 43 of Set 9 | alnashi\n",
      "Processing Record 44 of Set 9 | mecca\n",
      "Processing Record 45 of Set 9 | gaoua\n",
      "Processing Record 46 of Set 9 | aksu\n",
      "Processing Record 47 of Set 9 | krosno odrzanskie\n",
      "Processing Record 48 of Set 9 | fukue\n",
      "Processing Record 49 of Set 9 | varna\n",
      "Processing Record 50 of Set 9 | leningradskiy\n",
      "Processing Record 1 of Set 10 | chapais\n",
      "Processing Record 2 of Set 10 | muli\n",
      "Processing Record 3 of Set 10 | pasvalys\n",
      "Processing Record 4 of Set 10 | lasem\n",
      "Processing Record 5 of Set 10 | lazaro cardenas\n",
      "Processing Record 6 of Set 10 | banjarmasin\n",
      "City not found. Skipping...\n",
      "Processing Record 8 of Set 10 | berlevag\n",
      "Processing Record 9 of Set 10 | sinaloa\n",
      "Processing Record 10 of Set 10 | nhulunbuy\n",
      "Processing Record 11 of Set 10 | makinsk\n",
      "Processing Record 12 of Set 10 | zyryanka\n",
      "Processing Record 13 of Set 10 | half moon bay\n",
      "Processing Record 14 of Set 10 | alyangula\n",
      "Processing Record 15 of Set 10 | sesheke\n",
      "Processing Record 16 of Set 10 | suriapet\n",
      "Processing Record 17 of Set 10 | constitucion\n",
      "Processing Record 18 of Set 10 | santa vitoria do palmar\n",
      "Processing Record 19 of Set 10 | acapulco\n",
      "Processing Record 20 of Set 10 | tecolotlan\n",
      "Processing Record 21 of Set 10 | erzurum\n",
      "Processing Record 22 of Set 10 | kazerun\n",
      "City not found. Skipping...\n",
      "Processing Record 24 of Set 10 | antalaha\n",
      "Processing Record 25 of Set 10 | itaituba\n",
      "Processing Record 26 of Set 10 | butembo\n",
      "Processing Record 27 of Set 10 | kahului\n",
      "Processing Record 28 of Set 10 | chimoio\n",
      "Processing Record 29 of Set 10 | tadine\n",
      "Processing Record 30 of Set 10 | qianan\n",
      "Processing Record 31 of Set 10 | guangyuan\n",
      "Processing Record 32 of Set 10 | thunder bay\n",
      "Processing Record 33 of Set 10 | quatre cocos\n",
      "City not found. Skipping...\n",
      "Processing Record 35 of Set 10 | olinda\n",
      "Processing Record 36 of Set 10 | bubaque\n",
      "Processing Record 37 of Set 10 | meulaboh\n",
      "Processing Record 38 of Set 10 | kisanga\n",
      "City not found. Skipping...\n",
      "Processing Record 40 of Set 10 | grants pass\n",
      "Processing Record 41 of Set 10 | longview\n",
      "Processing Record 42 of Set 10 | komsomolskiy\n",
      "Processing Record 43 of Set 10 | assiniboia\n",
      "City not found. Skipping...\n",
      "Processing Record 45 of Set 10 | luanda\n",
      "Processing Record 46 of Set 10 | alekseyevka\n",
      "Processing Record 47 of Set 10 | tucurui\n",
      "Processing Record 48 of Set 10 | asau\n",
      "Processing Record 49 of Set 10 | dole\n",
      "Processing Record 50 of Set 10 | challapata\n",
      "Processing Record 1 of Set 11 | calmar\n",
      "City not found. Skipping...\n",
      "Processing Record 3 of Set 11 | egvekinot\n",
      "Processing Record 4 of Set 11 | hastings\n",
      "Processing Record 5 of Set 11 | napier\n",
      "Processing Record 6 of Set 11 | ziarat\n",
      "City not found. Skipping...\n",
      "Processing Record 8 of Set 11 | puerto carreno\n",
      "Processing Record 9 of Set 11 | jaru\n",
      "Processing Record 10 of Set 11 | sydney mines\n",
      "Processing Record 11 of Set 11 | krasnoselkup\n",
      "Processing Record 12 of Set 11 | gornopravdinsk\n",
      "Processing Record 13 of Set 11 | nioro\n",
      "Processing Record 14 of Set 11 | deputatskiy\n",
      "Processing Record 15 of Set 11 | burgos\n",
      "Processing Record 16 of Set 11 | skaelskor\n",
      "Processing Record 17 of Set 11 | vestmanna\n",
      "Processing Record 18 of Set 11 | honiara\n",
      "Processing Record 19 of Set 11 | chanute\n",
      "Processing Record 20 of Set 11 | chik\n",
      "City not found. Skipping...\n",
      "Processing Record 22 of Set 11 | bjorkelangen\n",
      "Processing Record 23 of Set 11 | chaplynka\n",
      "Processing Record 24 of Set 11 | buenaventura\n",
      "Processing Record 25 of Set 11 | gland\n",
      "Processing Record 26 of Set 11 | sembakung\n",
      "Processing Record 27 of Set 11 | port lincoln\n",
      "Processing Record 28 of Set 11 | banjar\n",
      "Processing Record 29 of Set 11 | doha\n",
      "Processing Record 30 of Set 11 | bonnyville\n",
      "Processing Record 31 of Set 11 | nuevo progreso\n",
      "Processing Record 32 of Set 11 | soyaux\n",
      "Processing Record 33 of Set 11 | anadyr\n",
      "Processing Record 34 of Set 11 | siilinjarvi\n",
      "Processing Record 35 of Set 11 | zaysan\n",
      "Processing Record 36 of Set 11 | mirnyy\n",
      "Processing Record 37 of Set 11 | turukhansk\n",
      "Processing Record 38 of Set 11 | bilma\n",
      "Processing Record 39 of Set 11 | viedma\n",
      "Processing Record 40 of Set 11 | oriximina\n",
      "Processing Record 41 of Set 11 | eureka\n",
      "Processing Record 42 of Set 11 | san isidro\n",
      "Processing Record 43 of Set 11 | khapa\n",
      "Processing Record 44 of Set 11 | waipawa\n",
      "Processing Record 45 of Set 11 | road town\n",
      "Processing Record 46 of Set 11 | akita\n",
      "Processing Record 47 of Set 11 | alassio\n",
      "Processing Record 48 of Set 11 | thinadhoo\n",
      "Processing Record 49 of Set 11 | sao joao da barra\n",
      "Processing Record 50 of Set 11 | kasangulu\n",
      "Processing Record 1 of Set 12 | bathsheba\n",
      "Processing Record 2 of Set 12 | tsumeb\n",
      "Processing Record 3 of Set 12 | varkkallai\n",
      "City not found. Skipping...\n",
      "Processing Record 5 of Set 12 | rio gallegos\n",
      "Processing Record 6 of Set 12 | sokolka\n",
      "Processing Record 7 of Set 12 | honiton\n",
      "Processing Record 8 of Set 12 | barranquilla\n",
      "Processing Record 9 of Set 12 | uarini\n",
      "Processing Record 10 of Set 12 | ulladulla\n",
      "Processing Record 11 of Set 12 | chabahar\n",
      "City not found. Skipping...\n",
      "Processing Record 13 of Set 12 | empangeni\n",
      "Processing Record 14 of Set 12 | remanso\n",
      "Processing Record 15 of Set 12 | west bay\n",
      "Processing Record 16 of Set 12 | khuzdar\n",
      "Processing Record 17 of Set 12 | maharajganj\n",
      "Processing Record 18 of Set 12 | hirara\n",
      "Processing Record 19 of Set 12 | srednekolymsk\n",
      "Processing Record 20 of Set 12 | yakeshi\n",
      "Processing Record 21 of Set 12 | ust-nera\n",
      "Processing Record 22 of Set 12 | maldonado\n",
      "City not found. Skipping...\n",
      "Processing Record 24 of Set 12 | bontang\n",
      "City not found. Skipping...\n",
      "Processing Record 26 of Set 12 | makat\n",
      "Processing Record 27 of Set 12 | kaitangata\n",
      "Processing Record 28 of Set 12 | rondonopolis\n",
      "Processing Record 29 of Set 12 | puerto escondido\n",
      "Processing Record 30 of Set 12 | senno\n",
      "Processing Record 31 of Set 12 | zhangye\n",
      "Processing Record 32 of Set 12 | kobelyaky\n",
      "Processing Record 33 of Set 12 | caala\n",
      "Processing Record 34 of Set 12 | biloela\n",
      "Processing Record 35 of Set 12 | itaqui\n",
      "Processing Record 36 of Set 12 | bara\n",
      "Processing Record 37 of Set 12 | pangai\n",
      "Processing Record 38 of Set 12 | tautira\n",
      "Processing Record 39 of Set 12 | bartica\n",
      "Processing Record 40 of Set 12 | eugene\n",
      "Processing Record 41 of Set 12 | esperance\n",
      "Processing Record 42 of Set 12 | otjiwarongo\n",
      "Processing Record 43 of Set 12 | dauriya\n",
      "City not found. Skipping...\n",
      "City not found. Skipping...\n",
      "Processing Record 46 of Set 12 | streetsboro\n",
      "Processing Record 47 of Set 12 | camacha\n",
      "City not found. Skipping...\n",
      "Processing Record 49 of Set 12 | san rafael\n",
      "Processing Record 50 of Set 12 | voh\n",
      "Processing Record 1 of Set 13 | erenhot\n",
      "Processing Record 2 of Set 13 | orocue\n",
      "City not found. Skipping...\n",
      "Processing Record 4 of Set 13 | kampot\n",
      "Processing Record 5 of Set 13 | cabedelo\n",
      "Processing Record 6 of Set 13 | tucuma\n",
      "Processing Record 7 of Set 13 | almaznyy\n",
      "Processing Record 8 of Set 13 | riyadh\n",
      "Processing Record 9 of Set 13 | daru\n",
      "Processing Record 10 of Set 13 | apatin\n",
      "Processing Record 11 of Set 13 | grand gaube\n",
      "Processing Record 12 of Set 13 | ambulu\n",
      "Processing Record 13 of Set 13 | kapoeta\n",
      "Processing Record 14 of Set 13 | caraquet\n",
      "Processing Record 15 of Set 13 | iberia\n",
      "Processing Record 16 of Set 13 | christchurch\n",
      "Processing Record 17 of Set 13 | ucluelet\n",
      "Processing Record 18 of Set 13 | cangzhou\n",
      "Processing Record 19 of Set 13 | bitung\n",
      "Processing Record 20 of Set 13 | verkhnyaya toyma\n",
      "Processing Record 21 of Set 13 | bay-khaak\n",
      "City not found. Skipping...\n",
      "Processing Record 23 of Set 13 | mayumba\n",
      "Processing Record 24 of Set 13 | kazachinskoye\n",
      "Processing Record 25 of Set 13 | ferrol\n",
      "Processing Record 26 of Set 13 | tondano\n",
      "Processing Record 27 of Set 13 | masterton\n",
      "Processing Record 28 of Set 13 | kysyl-syr\n",
      "Processing Record 29 of Set 13 | itacarambi\n",
      "Processing Record 30 of Set 13 | chicama\n"
     ]
    }
   ],
   "source": [
    "data = []\n",
    "'''\n",
    "here, I query open weather maps for each city, extracting the following:\n",
    "name, latitude, longitude, daily high, humidity, cloud coverage %, wind speed\n",
    "'''\n",
    "print('Beginning Data Retrieval')     \n",
    "print('-----------------------------')\n",
    "j = 1\n",
    "for i in range(len(cities)):\n",
    "    params['q'] = cities[i]\n",
    "    try:\n",
    "        response = requests.get(base_url, params=params)\n",
    "        r = response.json()\n",
    "        city = r['name']\n",
    "        lat = r['coord']['lat']\n",
    "        lng = r['coord']['lon']\n",
    "        max_temp = r['main']['temp_max']\n",
    "        humid = r['main']['humidity']\n",
    "        cloud = r['clouds']['all']\n",
    "        wind = r['wind']['speed']\n",
    "        country = r['sys']['country']\n",
    "        today = date.today()\n",
    "\n",
    "        r_data = [city,lat,lng,max_temp,humid,cloud,wind,country,today]\n",
    "        \n",
    "        data.append(r_data)\n",
    "        print(f'Processing Record {i%50+1} of Set {j} | {cities[i]}')\n",
    "        \n",
    "    except (KeyError, IndexError):\n",
    "        print('City not found. Skipping...')\n",
    "        \n",
    "    if (i + 1) % 50 == 0:\n",
    "        j += 1\n",
    "        time.sleep(10)\n",
    "        "
   ]
  },
  {
   "cell_type": "code",
   "execution_count": 8,
   "metadata": {},
   "outputs": [
    {
     "data": {
      "text/plain": [
       "[['Nikolskoye',\n",
       "  59.7,\n",
       "  30.79,\n",
       "  60.8,\n",
       "  87,\n",
       "  90,\n",
       "  4.47,\n",
       "  'RU',\n",
       "  datetime.date(2020, 7, 10)],\n",
       " ['Tiksi',\n",
       "  71.69,\n",
       "  128.87,\n",
       "  44.71,\n",
       "  81,\n",
       "  59,\n",
       "  8.97,\n",
       "  'RU',\n",
       "  datetime.date(2020, 7, 10)],\n",
       " ['Rikitea',\n",
       "  -23.12,\n",
       "  -134.97,\n",
       "  68,\n",
       "  64,\n",
       "  64,\n",
       "  16.46,\n",
       "  'PF',\n",
       "  datetime.date(2020, 7, 10)],\n",
       " ['Punta Arenas',\n",
       "  -53.15,\n",
       "  -70.92,\n",
       "  26.6,\n",
       "  92,\n",
       "  75,\n",
       "  6.93,\n",
       "  'CL',\n",
       "  datetime.date(2020, 7, 10)],\n",
       " ['Upernavik',\n",
       "  72.79,\n",
       "  -56.15,\n",
       "  42.35,\n",
       "  86,\n",
       "  94,\n",
       "  7.65,\n",
       "  'GL',\n",
       "  datetime.date(2020, 7, 10)]]"
      ]
     },
     "execution_count": 8,
     "metadata": {},
     "output_type": "execute_result"
    }
   ],
   "source": [
    "data[0:5]"
   ]
  },
  {
   "cell_type": "code",
   "execution_count": 9,
   "metadata": {},
   "outputs": [],
   "source": [
    "for i in range(len(data)):\n",
    "    data[i][8] = data[i][8].isoformat()"
   ]
  },
  {
   "cell_type": "code",
   "execution_count": 10,
   "metadata": {},
   "outputs": [],
   "source": [
    "'''\n",
    "City          550\n",
    "Lat           550\n",
    "Lng           550\n",
    "Max Temp      550\n",
    "Humidity      550\n",
    "Cloudiness    550\n",
    "Wind Speed    550\n",
    "Country       550\n",
    "Date          550\n",
    "dtype: int64\n",
    "'''\n",
    "weather_df = pd.DataFrame(data, columns=['City Name', 'Latitude', 'Longitude', 'Daily High', 'Humidity', 'Cloudiness', 'Wind Speed', 'Country', 'Date'])"
   ]
  },
  {
   "cell_type": "code",
   "execution_count": 11,
   "metadata": {},
   "outputs": [
    {
     "data": {
      "text/html": [
       "<div>\n",
       "<style scoped>\n",
       "    .dataframe tbody tr th:only-of-type {\n",
       "        vertical-align: middle;\n",
       "    }\n",
       "\n",
       "    .dataframe tbody tr th {\n",
       "        vertical-align: top;\n",
       "    }\n",
       "\n",
       "    .dataframe thead th {\n",
       "        text-align: right;\n",
       "    }\n",
       "</style>\n",
       "<table border=\"1\" class=\"dataframe\">\n",
       "  <thead>\n",
       "    <tr style=\"text-align: right;\">\n",
       "      <th></th>\n",
       "      <th>City Name</th>\n",
       "      <th>Latitude</th>\n",
       "      <th>Longitude</th>\n",
       "      <th>Daily High</th>\n",
       "      <th>Humidity</th>\n",
       "      <th>Cloudiness</th>\n",
       "      <th>Wind Speed</th>\n",
       "      <th>Country</th>\n",
       "      <th>Date</th>\n",
       "    </tr>\n",
       "  </thead>\n",
       "  <tbody>\n",
       "    <tr>\n",
       "      <th>0</th>\n",
       "      <td>Nikolskoye</td>\n",
       "      <td>59.70</td>\n",
       "      <td>30.79</td>\n",
       "      <td>60.80</td>\n",
       "      <td>87</td>\n",
       "      <td>90</td>\n",
       "      <td>4.47</td>\n",
       "      <td>RU</td>\n",
       "      <td>2020-07-10</td>\n",
       "    </tr>\n",
       "    <tr>\n",
       "      <th>1</th>\n",
       "      <td>Tiksi</td>\n",
       "      <td>71.69</td>\n",
       "      <td>128.87</td>\n",
       "      <td>44.71</td>\n",
       "      <td>81</td>\n",
       "      <td>59</td>\n",
       "      <td>8.97</td>\n",
       "      <td>RU</td>\n",
       "      <td>2020-07-10</td>\n",
       "    </tr>\n",
       "    <tr>\n",
       "      <th>2</th>\n",
       "      <td>Rikitea</td>\n",
       "      <td>-23.12</td>\n",
       "      <td>-134.97</td>\n",
       "      <td>68.00</td>\n",
       "      <td>64</td>\n",
       "      <td>64</td>\n",
       "      <td>16.46</td>\n",
       "      <td>PF</td>\n",
       "      <td>2020-07-10</td>\n",
       "    </tr>\n",
       "    <tr>\n",
       "      <th>3</th>\n",
       "      <td>Punta Arenas</td>\n",
       "      <td>-53.15</td>\n",
       "      <td>-70.92</td>\n",
       "      <td>26.60</td>\n",
       "      <td>92</td>\n",
       "      <td>75</td>\n",
       "      <td>6.93</td>\n",
       "      <td>CL</td>\n",
       "      <td>2020-07-10</td>\n",
       "    </tr>\n",
       "    <tr>\n",
       "      <th>4</th>\n",
       "      <td>Upernavik</td>\n",
       "      <td>72.79</td>\n",
       "      <td>-56.15</td>\n",
       "      <td>42.35</td>\n",
       "      <td>86</td>\n",
       "      <td>94</td>\n",
       "      <td>7.65</td>\n",
       "      <td>GL</td>\n",
       "      <td>2020-07-10</td>\n",
       "    </tr>\n",
       "  </tbody>\n",
       "</table>\n",
       "</div>"
      ],
      "text/plain": [
       "      City Name  Latitude  Longitude  Daily High  Humidity  Cloudiness  \\\n",
       "0    Nikolskoye     59.70      30.79       60.80        87          90   \n",
       "1         Tiksi     71.69     128.87       44.71        81          59   \n",
       "2       Rikitea    -23.12    -134.97       68.00        64          64   \n",
       "3  Punta Arenas    -53.15     -70.92       26.60        92          75   \n",
       "4     Upernavik     72.79     -56.15       42.35        86          94   \n",
       "\n",
       "   Wind Speed Country        Date  \n",
       "0        4.47      RU  2020-07-10  \n",
       "1        8.97      RU  2020-07-10  \n",
       "2       16.46      PF  2020-07-10  \n",
       "3        6.93      CL  2020-07-10  \n",
       "4        7.65      GL  2020-07-10  "
      ]
     },
     "execution_count": 11,
     "metadata": {},
     "output_type": "execute_result"
    }
   ],
   "source": [
    "weather_df.head()"
   ]
  },
  {
   "cell_type": "markdown",
   "metadata": {},
   "source": [
    "### Convert Raw Data to DataFrame\n",
    "* Export the city data into a .csv.\n",
    "* Display the DataFrame"
   ]
  },
  {
   "cell_type": "code",
   "execution_count": 12,
   "metadata": {},
   "outputs": [],
   "source": [
    "weather_df.to_csv(output_data_file, index=False)"
   ]
  },
  {
   "cell_type": "code",
   "execution_count": 13,
   "metadata": {
    "scrolled": true
   },
   "outputs": [],
   "source": [
    "# weather_df = pd.read_csv(output_data_file)\n",
    "# weather_df.head()"
   ]
  },
  {
   "cell_type": "markdown",
   "metadata": {},
   "source": [
    "## Inspect the data and remove the cities where the humidity > 100%.\n",
    "----\n",
    "Skip this step if there are no cities that have humidity > 100%. "
   ]
  },
  {
   "cell_type": "code",
   "execution_count": 14,
   "metadata": {},
   "outputs": [
    {
     "data": {
      "text/plain": [
       "Int64Index([], dtype='int64')"
      ]
     },
     "execution_count": 14,
     "metadata": {},
     "output_type": "execute_result"
    }
   ],
   "source": [
    "#  Get the indices of cities that have humidity over 100%.\n",
    "sweaty_df = weather_df.loc[weather_df['Humidity'] > 100]\n",
    "sweaty_df.index"
   ]
  },
  {
   "cell_type": "code",
   "execution_count": 15,
   "metadata": {},
   "outputs": [
    {
     "data": {
      "text/html": [
       "<div>\n",
       "<style scoped>\n",
       "    .dataframe tbody tr th:only-of-type {\n",
       "        vertical-align: middle;\n",
       "    }\n",
       "\n",
       "    .dataframe tbody tr th {\n",
       "        vertical-align: top;\n",
       "    }\n",
       "\n",
       "    .dataframe thead th {\n",
       "        text-align: right;\n",
       "    }\n",
       "</style>\n",
       "<table border=\"1\" class=\"dataframe\">\n",
       "  <thead>\n",
       "    <tr style=\"text-align: right;\">\n",
       "      <th></th>\n",
       "      <th>City Name</th>\n",
       "      <th>Latitude</th>\n",
       "      <th>Longitude</th>\n",
       "      <th>Daily High</th>\n",
       "      <th>Humidity</th>\n",
       "      <th>Cloudiness</th>\n",
       "      <th>Wind Speed</th>\n",
       "      <th>Country</th>\n",
       "      <th>Date</th>\n",
       "    </tr>\n",
       "  </thead>\n",
       "  <tbody>\n",
       "    <tr>\n",
       "      <th>0</th>\n",
       "      <td>Nikolskoye</td>\n",
       "      <td>59.70</td>\n",
       "      <td>30.79</td>\n",
       "      <td>60.80</td>\n",
       "      <td>87</td>\n",
       "      <td>90</td>\n",
       "      <td>4.47</td>\n",
       "      <td>RU</td>\n",
       "      <td>2020-07-10</td>\n",
       "    </tr>\n",
       "    <tr>\n",
       "      <th>1</th>\n",
       "      <td>Tiksi</td>\n",
       "      <td>71.69</td>\n",
       "      <td>128.87</td>\n",
       "      <td>44.71</td>\n",
       "      <td>81</td>\n",
       "      <td>59</td>\n",
       "      <td>8.97</td>\n",
       "      <td>RU</td>\n",
       "      <td>2020-07-10</td>\n",
       "    </tr>\n",
       "    <tr>\n",
       "      <th>2</th>\n",
       "      <td>Rikitea</td>\n",
       "      <td>-23.12</td>\n",
       "      <td>-134.97</td>\n",
       "      <td>68.00</td>\n",
       "      <td>64</td>\n",
       "      <td>64</td>\n",
       "      <td>16.46</td>\n",
       "      <td>PF</td>\n",
       "      <td>2020-07-10</td>\n",
       "    </tr>\n",
       "    <tr>\n",
       "      <th>3</th>\n",
       "      <td>Punta Arenas</td>\n",
       "      <td>-53.15</td>\n",
       "      <td>-70.92</td>\n",
       "      <td>26.60</td>\n",
       "      <td>92</td>\n",
       "      <td>75</td>\n",
       "      <td>6.93</td>\n",
       "      <td>CL</td>\n",
       "      <td>2020-07-10</td>\n",
       "    </tr>\n",
       "    <tr>\n",
       "      <th>4</th>\n",
       "      <td>Upernavik</td>\n",
       "      <td>72.79</td>\n",
       "      <td>-56.15</td>\n",
       "      <td>42.35</td>\n",
       "      <td>86</td>\n",
       "      <td>94</td>\n",
       "      <td>7.65</td>\n",
       "      <td>GL</td>\n",
       "      <td>2020-07-10</td>\n",
       "    </tr>\n",
       "  </tbody>\n",
       "</table>\n",
       "</div>"
      ],
      "text/plain": [
       "      City Name  Latitude  Longitude  Daily High  Humidity  Cloudiness  \\\n",
       "0    Nikolskoye     59.70      30.79       60.80        87          90   \n",
       "1         Tiksi     71.69     128.87       44.71        81          59   \n",
       "2       Rikitea    -23.12    -134.97       68.00        64          64   \n",
       "3  Punta Arenas    -53.15     -70.92       26.60        92          75   \n",
       "4     Upernavik     72.79     -56.15       42.35        86          94   \n",
       "\n",
       "   Wind Speed Country        Date  \n",
       "0        4.47      RU  2020-07-10  \n",
       "1        8.97      RU  2020-07-10  \n",
       "2       16.46      PF  2020-07-10  \n",
       "3        6.93      CL  2020-07-10  \n",
       "4        7.65      GL  2020-07-10  "
      ]
     },
     "execution_count": 15,
     "metadata": {},
     "output_type": "execute_result"
    }
   ],
   "source": [
    "# Make a new DataFrame equal to the city data to drop all humidity outliers by index.\n",
    "# Passing \"inplace=False\" will make a copy of the city_data DataFrame, which we call \"clean_city_data\".\n",
    "clean_city_data = weather_df.drop(sweaty_df.index)\n",
    "clean_city_data.head()"
   ]
  },
  {
   "cell_type": "code",
   "execution_count": 16,
   "metadata": {},
   "outputs": [],
   "source": [
    "# Extract relevant fields from the data frame\n",
    "##Which fields?\n",
    "\n",
    "# Export the City_Data into a csv\n",
    "## a second csv?\n",
    "output_data_file = 'output_data/clean_cities.csv'\n",
    "clean_city_data.to_csv(output_data_file, index=False)"
   ]
  },
  {
   "cell_type": "markdown",
   "metadata": {},
   "source": [
    "## Plotting the Data\n",
    "* Use proper labeling of the plots using plot titles (including date of analysis) and axes labels.\n",
    "* Save the plotted figures as .pngs."
   ]
  },
  {
   "cell_type": "code",
   "execution_count": 17,
   "metadata": {},
   "outputs": [
    {
     "data": {
      "text/html": [
       "<div>\n",
       "<style scoped>\n",
       "    .dataframe tbody tr th:only-of-type {\n",
       "        vertical-align: middle;\n",
       "    }\n",
       "\n",
       "    .dataframe tbody tr th {\n",
       "        vertical-align: top;\n",
       "    }\n",
       "\n",
       "    .dataframe thead th {\n",
       "        text-align: right;\n",
       "    }\n",
       "</style>\n",
       "<table border=\"1\" class=\"dataframe\">\n",
       "  <thead>\n",
       "    <tr style=\"text-align: right;\">\n",
       "      <th></th>\n",
       "      <th>City Name</th>\n",
       "      <th>Latitude</th>\n",
       "      <th>Longitude</th>\n",
       "      <th>Daily High</th>\n",
       "      <th>Humidity</th>\n",
       "      <th>Cloudiness</th>\n",
       "      <th>Wind Speed</th>\n",
       "      <th>Country</th>\n",
       "      <th>Date</th>\n",
       "    </tr>\n",
       "  </thead>\n",
       "  <tbody>\n",
       "    <tr>\n",
       "      <th>0</th>\n",
       "      <td>Nikolskoye</td>\n",
       "      <td>59.70</td>\n",
       "      <td>30.79</td>\n",
       "      <td>60.80</td>\n",
       "      <td>87</td>\n",
       "      <td>90</td>\n",
       "      <td>4.47</td>\n",
       "      <td>RU</td>\n",
       "      <td>2020-07-10</td>\n",
       "    </tr>\n",
       "    <tr>\n",
       "      <th>1</th>\n",
       "      <td>Tiksi</td>\n",
       "      <td>71.69</td>\n",
       "      <td>128.87</td>\n",
       "      <td>44.71</td>\n",
       "      <td>81</td>\n",
       "      <td>59</td>\n",
       "      <td>8.97</td>\n",
       "      <td>RU</td>\n",
       "      <td>2020-07-10</td>\n",
       "    </tr>\n",
       "    <tr>\n",
       "      <th>2</th>\n",
       "      <td>Rikitea</td>\n",
       "      <td>-23.12</td>\n",
       "      <td>-134.97</td>\n",
       "      <td>68.00</td>\n",
       "      <td>64</td>\n",
       "      <td>64</td>\n",
       "      <td>16.46</td>\n",
       "      <td>PF</td>\n",
       "      <td>2020-07-10</td>\n",
       "    </tr>\n",
       "    <tr>\n",
       "      <th>3</th>\n",
       "      <td>Punta Arenas</td>\n",
       "      <td>-53.15</td>\n",
       "      <td>-70.92</td>\n",
       "      <td>26.60</td>\n",
       "      <td>92</td>\n",
       "      <td>75</td>\n",
       "      <td>6.93</td>\n",
       "      <td>CL</td>\n",
       "      <td>2020-07-10</td>\n",
       "    </tr>\n",
       "    <tr>\n",
       "      <th>4</th>\n",
       "      <td>Upernavik</td>\n",
       "      <td>72.79</td>\n",
       "      <td>-56.15</td>\n",
       "      <td>42.35</td>\n",
       "      <td>86</td>\n",
       "      <td>94</td>\n",
       "      <td>7.65</td>\n",
       "      <td>GL</td>\n",
       "      <td>2020-07-10</td>\n",
       "    </tr>\n",
       "  </tbody>\n",
       "</table>\n",
       "</div>"
      ],
      "text/plain": [
       "      City Name  Latitude  Longitude  Daily High  Humidity  Cloudiness  \\\n",
       "0    Nikolskoye     59.70      30.79       60.80        87          90   \n",
       "1         Tiksi     71.69     128.87       44.71        81          59   \n",
       "2       Rikitea    -23.12    -134.97       68.00        64          64   \n",
       "3  Punta Arenas    -53.15     -70.92       26.60        92          75   \n",
       "4     Upernavik     72.79     -56.15       42.35        86          94   \n",
       "\n",
       "   Wind Speed Country        Date  \n",
       "0        4.47      RU  2020-07-10  \n",
       "1        8.97      RU  2020-07-10  \n",
       "2       16.46      PF  2020-07-10  \n",
       "3        6.93      CL  2020-07-10  \n",
       "4        7.65      GL  2020-07-10  "
      ]
     },
     "execution_count": 17,
     "metadata": {},
     "output_type": "execute_result"
    }
   ],
   "source": [
    "clean_city_data.head()"
   ]
  },
  {
   "cell_type": "markdown",
   "metadata": {},
   "source": [
    "## Latitude vs. Temperature Plot"
   ]
  },
  {
   "cell_type": "code",
   "execution_count": 18,
   "metadata": {
    "scrolled": true
   },
   "outputs": [
    {
     "data": {
      "text/plain": [
       "Text(0, 0.5, 'Max Daily Temperature (F)')"
      ]
     },
     "execution_count": 18,
     "metadata": {},
     "output_type": "execute_result"
    },
    {
     "data": {
      "image/png": "[encoded data removed]",
      "text/plain": [
       "<Figure size 432x288 with 1 Axes>"
      ]
     },
     "metadata": {
      "needs_background": "light"
     },
     "output_type": "display_data"
    }
   ],
   "source": [
    "#linRegPlot(clean_city_data,clean_city_data,'','')\n",
    "plt.scatter(clean_city_data['Latitude'], clean_city_data['Daily High'])\n",
    "plt.xlabel('Latitude')\n",
    "plt.ylabel('Max Daily Temperature (F)')"
   ]
  },
  {
   "cell_type": "markdown",
   "metadata": {},
   "source": [
    "* As we can see, the temperatures of the earth are highest around the equator and lowest near the poles. There appears to be a relationship, but it's not linear"
   ]
  },
  {
   "cell_type": "markdown",
   "metadata": {},
   "source": [
    "## Latitude vs. Humidity Plot"
   ]
  },
  {
   "cell_type": "code",
   "execution_count": 19,
   "metadata": {},
   "outputs": [
    {
     "data": {
      "text/plain": [
       "Text(0, 0.5, 'Humidity (%)')"
      ]
     },
     "execution_count": 19,
     "metadata": {},
     "output_type": "execute_result"
    },
    {
     "data": {
      "image/png": "[encoded data removed]",
      "text/plain": [
       "<Figure size 432x288 with 1 Axes>"
      ]
     },
     "metadata": {
      "needs_background": "light"
     },
     "output_type": "display_data"
    }
   ],
   "source": [
    "plt.scatter(clean_city_data['Latitude'], clean_city_data['Humidity'])\n",
    "plt.xlabel('Latitude')\n",
    "plt.ylabel('Humidity (%)')"
   ]
  },
  {
   "cell_type": "markdown",
   "metadata": {},
   "source": [
    "* The humidity appears to be the Lowest near the equator and the poles, but there is no clear linear relationship between latitude and humidity"
   ]
  },
  {
   "cell_type": "markdown",
   "metadata": {},
   "source": [
    "## Latitude vs. Cloudiness Plot"
   ]
  },
  {
   "cell_type": "code",
   "execution_count": 20,
   "metadata": {},
   "outputs": [
    {
     "data": {
      "text/plain": [
       "Text(0, 0.5, 'Cloudiness (%)')"
      ]
     },
     "execution_count": 20,
     "metadata": {},
     "output_type": "execute_result"
    },
    {
     "data": {
      "image/png": "[encoded data removed]",
      "text/plain": [
       "<Figure size 432x288 with 1 Axes>"
      ]
     },
     "metadata": {
      "needs_background": "light"
     },
     "output_type": "display_data"
    }
   ],
   "source": [
    "plt.scatter(clean_city_data['Latitude'], clean_city_data['Cloudiness'])\n",
    "plt.xlabel('Latitude')\n",
    "plt.ylabel('Cloudiness (%)')"
   ]
  },
  {
   "cell_type": "markdown",
   "metadata": {},
   "source": [
    "* There appears to be no linear correlation between latitude and cloudiness, however the data appears to be 'snapped' to 10% increments because it is based on human judgement"
   ]
  },
  {
   "cell_type": "markdown",
   "metadata": {},
   "source": [
    "## Latitude vs. Wind Speed Plot"
   ]
  },
  {
   "cell_type": "code",
   "execution_count": 21,
   "metadata": {},
   "outputs": [
    {
     "data": {
      "text/plain": [
       "Text(0, 0.5, 'Wind Speed (mph)')"
      ]
     },
     "execution_count": 21,
     "metadata": {},
     "output_type": "execute_result"
    },
    {
     "data": {
      "image/png": "[encoded data removed]",
      "text/plain": [
       "<Figure size 432x288 with 1 Axes>"
      ]
     },
     "metadata": {
      "needs_background": "light"
     },
     "output_type": "display_data"
    }
   ],
   "source": [
    "plt.scatter(clean_city_data['Latitude'], clean_city_data['Wind Speed'])\n",
    "plt.xlabel('Latitude')\n",
    "plt.ylabel('Wind Speed (mph)')"
   ]
  },
  {
   "cell_type": "markdown",
   "metadata": {},
   "source": [
    "* There appears to be no clear linear correlation between latitude and windspeed, but the highest wind speeds are near the equator"
   ]
  },
  {
   "cell_type": "markdown",
   "metadata": {},
   "source": [
    "## Linear Regression"
   ]
  },
  {
   "cell_type": "code",
   "execution_count": 22,
   "metadata": {},
   "outputs": [],
   "source": [
    "# OPTIONAL: Create a function to create Linear Regression plots\n",
    "def linRegPlot(x_values, y_values, x_label = \"\", y_label = \"\"):\n",
    "    '''\n",
    "    Takes the x values and y values for a scatter plot,\n",
    "    runs a linear regression comparing the two values,\n",
    "    and then displays a scatter plot with the regression line\n",
    "    '''\n",
    "    (slope, intercept, rvalue, pvalue, stderr) = linregress(x_values, y_values)\n",
    "    regress_values = slope * x_values + intercept\n",
    "    plt.scatter(x_values, y_values)\n",
    "    plt.plot(x_values,regress_values,'r')\n",
    "    plt.xlabel(x_label)\n",
    "    plt.ylabel(y_label)\n",
    "    plt.show()\n",
    "    print('The r-squared-value of the relationship is', round(rvalue**2,4))"
   ]
  },
  {
   "cell_type": "code",
   "execution_count": 23,
   "metadata": {},
   "outputs": [],
   "source": [
    "# Create Northern and Southern Hemisphere DataFrames\n",
    "northern_df = clean_city_data.loc[clean_city_data['Latitude'] >= 0]\n",
    "southern_df = clean_city_data.loc[clean_city_data['Latitude'] < 0]\n"
   ]
  },
  {
   "cell_type": "markdown",
   "metadata": {},
   "source": [
    "####  Northern Hemisphere - Max Temp vs. Latitude Linear Regression"
   ]
  },
  {
   "cell_type": "code",
   "execution_count": 24,
   "metadata": {},
   "outputs": [
    {
     "data": {
      "image/png": "[encoded data removed]",
      "text/plain": [
       "<Figure size 432x288 with 1 Axes>"
      ]
     },
     "metadata": {
      "needs_background": "light"
     },
     "output_type": "display_data"
    },
    {
     "name": "stdout",
     "output_type": "stream",
     "text": [
      "The r-squared-value of the relationship is 0.4313\n"
     ]
    }
   ],
   "source": [
    "linRegPlot(northern_df['Latitude'], northern_df['Daily High'],'Latitude','Max Temperature')"
   ]
  },
  {
   "cell_type": "markdown",
   "metadata": {},
   "source": [
    "####  Southern Hemisphere - Max Temp vs. Latitude Linear Regression"
   ]
  },
  {
   "cell_type": "code",
   "execution_count": 25,
   "metadata": {},
   "outputs": [
    {
     "data": {
      "image/png": "[encoded data removed]",
      "text/plain": [
       "<Figure size 432x288 with 1 Axes>"
      ]
     },
     "metadata": {
      "needs_background": "light"
     },
     "output_type": "display_data"
    },
    {
     "name": "stdout",
     "output_type": "stream",
     "text": [
      "The r-squared-value of the relationship is 0.543\n"
     ]
    }
   ],
   "source": [
    "linRegPlot(southern_df['Latitude'], southern_df['Daily High'],'Latitude','Max Temperature')"
   ]
  },
  {
   "cell_type": "markdown",
   "metadata": {},
   "source": [
    "* There is a strong linear correlation between the latitude and the daily high on each side of the equator\n",
    "* It is strongly negative in the northern hemisphere, and strongly positive in the southern hemisphere.\n",
    "* This matches our earlier observation that temperature goes down as we go away from the equator"
   ]
  },
  {
   "cell_type": "markdown",
   "metadata": {},
   "source": [
    "####  Northern Hemisphere - Humidity (%) vs. Latitude Linear Regression"
   ]
  },
  {
   "cell_type": "code",
   "execution_count": 26,
   "metadata": {},
   "outputs": [
    {
     "data": {
      "image/png": "[encoded data removed]",
      "text/plain": [
       "<Figure size 432x288 with 1 Axes>"
      ]
     },
     "metadata": {
      "needs_background": "light"
     },
     "output_type": "display_data"
    },
    {
     "name": "stdout",
     "output_type": "stream",
     "text": [
      "The r-squared-value of the relationship is 0.0101\n"
     ]
    }
   ],
   "source": [
    "linRegPlot(northern_df['Latitude'], northern_df['Humidity'],'Latitude','Humidity %')"
   ]
  },
  {
   "cell_type": "markdown",
   "metadata": {},
   "source": [
    "####  Southern Hemisphere - Humidity (%) vs. Latitude Linear Regression"
   ]
  },
  {
   "cell_type": "code",
   "execution_count": 27,
   "metadata": {},
   "outputs": [
    {
     "data": {
      "image/png": "[encoded data removed]",
      "text/plain": [
       "<Figure size 432x288 with 1 Axes>"
      ]
     },
     "metadata": {
      "needs_background": "light"
     },
     "output_type": "display_data"
    },
    {
     "name": "stdout",
     "output_type": "stream",
     "text": [
      "The r-squared-value of the relationship is 0.0237\n"
     ]
    }
   ],
   "source": [
    "linRegPlot(southern_df['Latitude'], southern_df['Humidity'],'Latitude','Humidity %')"
   ]
  },
  {
   "cell_type": "markdown",
   "metadata": {},
   "source": [
    "* The correlation betweeen latitude and humidity is extremely weak\n",
    "* It would be helpful to analyze the data to see if the lack of low humidity at the poles and equator is significant"
   ]
  },
  {
   "cell_type": "markdown",
   "metadata": {},
   "source": [
    "####  Northern Hemisphere - Cloudiness (%) vs. Latitude Linear Regression"
   ]
  },
  {
   "cell_type": "code",
   "execution_count": 28,
   "metadata": {},
   "outputs": [
    {
     "data": {
      "image/png": "[encoded data removed]",
      "text/plain": [
       "<Figure size 432x288 with 1 Axes>"
      ]
     },
     "metadata": {
      "needs_background": "light"
     },
     "output_type": "display_data"
    },
    {
     "name": "stdout",
     "output_type": "stream",
     "text": [
      "The r-squared-value of the relationship is 0.0011\n"
     ]
    }
   ],
   "source": [
    "linRegPlot(northern_df['Latitude'], northern_df['Cloudiness'],'Latitude','Cloudiness %')"
   ]
  },
  {
   "cell_type": "markdown",
   "metadata": {},
   "source": [
    "####  Southern Hemisphere - Cloudiness (%) vs. Latitude Linear Regression"
   ]
  },
  {
   "cell_type": "code",
   "execution_count": 29,
   "metadata": {},
   "outputs": [
    {
     "data": {
      "image/png": "[encoded data removed]",
      "text/plain": [
       "<Figure size 432x288 with 1 Axes>"
      ]
     },
     "metadata": {
      "needs_background": "light"
     },
     "output_type": "display_data"
    },
    {
     "name": "stdout",
     "output_type": "stream",
     "text": [
      "The r-squared-value of the relationship is 0.001\n"
     ]
    }
   ],
   "source": [
    "linRegPlot(southern_df['Latitude'], southern_df['Cloudiness'],'Latitude','Cloudiness %')"
   ]
  },
  {
   "cell_type": "markdown",
   "metadata": {},
   "source": [
    "* There regression shows that there is no relationship between latitude and cloudiness."
   ]
  },
  {
   "cell_type": "markdown",
   "metadata": {},
   "source": [
    "####  Northern Hemisphere - Wind Speed (mph) vs. Latitude Linear Regression"
   ]
  },
  {
   "cell_type": "code",
   "execution_count": 30,
   "metadata": {},
   "outputs": [
    {
     "data": {
      "image/png": "[encoded data removed]",
      "text/plain": [
       "<Figure size 432x288 with 1 Axes>"
      ]
     },
     "metadata": {
      "needs_background": "light"
     },
     "output_type": "display_data"
    },
    {
     "name": "stdout",
     "output_type": "stream",
     "text": [
      "The r-squared-value of the relationship is 0.0049\n"
     ]
    }
   ],
   "source": [
    "linRegPlot(northern_df['Latitude'], northern_df['Wind Speed'],'Latitude','Wind Speed (mph)')"
   ]
  },
  {
   "cell_type": "markdown",
   "metadata": {},
   "source": [
    "####  Southern Hemisphere - Wind Speed (mph) vs. Latitude Linear Regression"
   ]
  },
  {
   "cell_type": "code",
   "execution_count": 31,
   "metadata": {},
   "outputs": [
    {
     "data": {
      "image/png": "[encoded data removed]",
      "text/plain": [
       "<Figure size 432x288 with 1 Axes>"
      ]
     },
     "metadata": {
      "needs_background": "light"
     },
     "output_type": "display_data"
    },
    {
     "name": "stdout",
     "output_type": "stream",
     "text": [
      "The r-squared-value of the relationship is 0.0086\n"
     ]
    }
   ],
   "source": [
    "linRegPlot(southern_df['Latitude'], southern_df['Wind Speed'],'Latitude','Wind Speed (mph)')"
   ]
  },
  {
   "cell_type": "markdown",
   "metadata": {},
   "source": [
    "* There regression shows that there is no relationship between latitude and wind speed."
   ]
  },
  {
   "cell_type": "code",
   "execution_count": null,
   "metadata": {},
   "outputs": [],
   "source": []
  }
 ],
 "metadata": {
  "anaconda-cloud": {},
  "kernel_info": {
   "name": "python3"
  },
  "kernelspec": {
   "display_name": "Python 3",
   "language": "python",
   "name": "python3"
  },
  "language_info": {
   "codemirror_mode": {
    "name": "ipython",
    "version": 3
   },
   "file_extension": ".py",
   "mimetype": "text/x-python",
   "name": "python",
   "nbconvert_exporter": "python",
   "pygments_lexer": "ipython3",
   "version": "3.6.10"
  },
  "latex_envs": {
   "LaTeX_envs_menu_present": true,
   "autoclose": false,
   "autocomplete": true,
   "bibliofile": "biblio.bib",
   "cite_by": "apalike",
   "current_citInitial": 1,
   "eqLabelWithNumbers": true,
   "eqNumInitial": 1,
   "hotkeys": {
    "equation": "Ctrl-E",
    "itemize": "Ctrl-I"
   },
   "labels_anchors": false,
   "latex_user_defs": false,
   "report_style_numbering": false,
   "user_envs_cfg": false
  },
  "nteract": {
   "version": "0.12.3"
  }
 },
 "nbformat": 4,
 "nbformat_minor": 2
}
