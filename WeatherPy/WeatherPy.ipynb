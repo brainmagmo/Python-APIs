{
 "cells": [
  {
   "cell_type": "markdown",
   "metadata": {},
   "source": [
    "# WeatherPy\n",
    "----\n",
    "\n",
    "#### Note\n",
    "* Instructions have been included for each segment. You do not have to follow them exactly, but they are included to help you think through the steps."
   ]
  },
  {
   "cell_type": "code",
   "execution_count": 1,
   "metadata": {
    "scrolled": true
   },
   "outputs": [],
   "source": [
    "# Dependencies and Setup\n",
    "import matplotlib.pyplot as plt\n",
    "import pandas as pd\n",
    "import numpy as np\n",
    "import requests\n",
    "import time\n",
    "#import random\n",
    "from scipy.stats import linregress\n",
    "from datetime import date\n",
    "\n",
    "\n",
    "# Import API key\n",
    "from api_keys import weather_api_key\n",
    "\n"
   ]
  },
  {
   "cell_type": "code",
   "execution_count": 2,
   "metadata": {},
   "outputs": [],
   "source": [
    "# Incorporated citipy to determine city based on latitude and longitude\n",
    "from citipy import citipy\n",
    "\n",
    "# Output File (CSV)\n",
    "output_data_file = \"output_data/cities.csv\"\n",
    "\n",
    "# Range of latitudes and longitudes\n",
    "lat_range = (-90, 90)\n",
    "lng_range = (-180, 180)"
   ]
  },
  {
   "cell_type": "markdown",
   "metadata": {},
   "source": [
    "## Generate Cities List"
   ]
  },
  {
   "cell_type": "code",
   "execution_count": 3,
   "metadata": {},
   "outputs": [
    {
     "data": {
      "text/plain": [
       "601"
      ]
     },
     "execution_count": 3,
     "metadata": {},
     "output_type": "execute_result"
    }
   ],
   "source": [
    "# List for holding lat_lngs and cities\n",
    "lat_lngs = []\n",
    "cities = []\n",
    "\n",
    "# Create a set of random lat and lng combinations\n",
    "lats = np.random.uniform(lat_range[0], lat_range[1], size=1500)\n",
    "lngs = np.random.uniform(lng_range[0], lng_range[1], size=1500)\n",
    "lat_lngs = zip(lats, lngs)\n",
    "\n",
    "# Identify nearest city for each lat, lng combination\n",
    "for lat_lng in lat_lngs:\n",
    "    city = citipy.nearest_city(lat_lng[0], lat_lng[1]).city_name\n",
    "    \n",
    "    # If the city is unique, then add it to a our cities list\n",
    "    if city not in cities:\n",
    "        cities.append(city)\n",
    "\n",
    "# Print the city count to confirm sufficient count\n",
    "len(cities)"
   ]
  },
  {
   "cell_type": "markdown",
   "metadata": {},
   "source": [
    "### Perform API Calls\n",
    "* Perform a weather check on each city using a series of successive API calls.\n",
    "* Include a print log of each city as it'sbeing processed (with the city number and city name).\n"
   ]
  },
  {
   "cell_type": "code",
   "execution_count": 4,
   "metadata": {},
   "outputs": [],
   "source": [
    "#Building the url components that will be statis throughout the search\n",
    "base_url = \"http://api.openweathermap.org/data/2.5/weather?\"\n",
    "\n",
    "params = {\n",
    "    \"units\": \"imperial\",\n",
    "    \"appid\": weather_api_key,\n",
    "}"
   ]
  },
  {
   "cell_type": "code",
   "execution_count": 5,
   "metadata": {},
   "outputs": [
    {
     "data": {
      "text/plain": [
       "32.0"
      ]
     },
     "execution_count": 5,
     "metadata": {},
     "output_type": "execute_result"
    }
   ],
   "source": [
    "def convert_temp (temp, scale='C', to='F'):\n",
    "    '''\n",
    "    Takes a temperature and converts it to a different scale\n",
    "    temp must be numeric\n",
    "    valid values form the starting scale and to scale are 'C': Celsius, 'F': Farenheit, and 'K': Kelvin\n",
    "    '''\n",
    "    scales = ['C','F','K']\n",
    "    #print(scale.upper(),'\\n',to,'\\n',scales)\n",
    "    if not ((scale.upper() in scales) and (to.upper() in scales)):\n",
    "        return ValueError(\"valid values form the starting scale and to scale are 'C': Celsius, 'F': Farenheit, and 'K': Kelvin\")\n",
    "    \n",
    "    if scale == 'C' and to == 'F':\n",
    "        return 32.0 + ((9.0 / 5) * temp)\n",
    "    \n",
    "    if scale == 'F' and to == 'C':\n",
    "        return (-32.0 + temp) * (5.0 / 9)\n",
    "    \n",
    "    if scale == 'K' and to == 'C':\n",
    "        return temp - 273.15\n",
    "    \n",
    "    if scale == 'C' and to == 'K':\n",
    "        return temp + 273.15\n",
    "    \n",
    "    if scale == 'K' and to == 'F':\n",
    "        return 32.0 + ((9.0 / 5) * (temp - 273.15))\n",
    "    \n",
    "    if scale == 'F' and to == 'K':\n",
    "        return ((-32.0 + temp) * (5.0 / 9)) + 273.15\n",
    "    \n",
    "    \n",
    "convert_temp(0)\n",
    "\n",
    "#Note: this function is not used"
   ]
  },
  {
   "cell_type": "code",
   "execution_count": 9,
   "metadata": {},
   "outputs": [
    {
     "data": {
      "text/plain": [
       "{'coord': {'lon': 77.9, 'lat': 26.7},\n",
       " 'weather': [{'id': 804,\n",
       "   'main': 'Clouds',\n",
       "   'description': 'overcast clouds',\n",
       "   'icon': '04d'}],\n",
       " 'base': 'stations',\n",
       " 'main': {'temp': 91.87,\n",
       "  'feels_like': 91.27,\n",
       "  'temp_min': 91.87,\n",
       "  'temp_max': 91.87,\n",
       "  'pressure': 998,\n",
       "  'humidity': 54,\n",
       "  'sea_level': 998,\n",
       "  'grnd_level': 979},\n",
       " 'wind': {'speed': 17.22, 'deg': 259},\n",
       " 'clouds': {'all': 100},\n",
       " 'dt': 1594437868,\n",
       " 'sys': {'country': 'IN', 'sunrise': 1594425752, 'sunset': 1594475093},\n",
       " 'timezone': 19800,\n",
       " 'id': 1272805,\n",
       " 'name': 'Dhaulpur',\n",
       " 'cod': 200}"
      ]
     },
     "execution_count": 9,
     "metadata": {},
     "output_type": "execute_result"
    }
   ],
   "source": [
    "#figuring out which data to extract for each city\n",
    "params[\"q\"] = np.random.choice(cities)\n",
    "\n",
    "response = requests.get(base_url, params=params)\n",
    "\n",
    "'''\n",
    "{'coord': {'lon': -117.16, 'lat': 32.72},\n",
    " 'weather': [{'id': 804,\n",
    "   'main': 'Clouds',\n",
    "   'description': 'overcast clouds',\n",
    "   'icon': '04n'}],\n",
    " 'base': 'stations',\n",
    " 'main': {'temp': 16.93,\n",
    "  'feels_like': 17.09,\n",
    "  'temp_min': 15,\n",
    "  'temp_max': 20,\n",
    "  'pressure': 1013,\n",
    "  'humidity': 77},\n",
    " 'visibility': 14484,\n",
    " 'wind': {'speed': 1.05, 'deg': 257},\n",
    " 'clouds': {'all': 90},\n",
    " 'dt': 1594289893,\n",
    " 'sys': {'type': 1,\n",
    "  'id': 5771,\n",
    "  'country': 'US',\n",
    "  'sunrise': 1594298899,\n",
    "  'sunset': 1594349950},\n",
    " 'timezone': -25200,\n",
    " 'id': 5391811,\n",
    " 'name': 'San Diego',\n",
    " 'cod': 200}\n",
    "'''\n",
    "\n",
    "'''\n",
    "City          550\n",
    "Lat           550\n",
    "Lng           550\n",
    "Max Temp      550\n",
    "Humidity      550\n",
    "Cloudiness    550\n",
    "Wind Speed    550\n",
    "Country       550\n",
    "Date          550\n",
    "dtype: int64\n",
    "'''\n",
    "\n",
    "response.json()"
   ]
  },
  {
   "cell_type": "code",
   "execution_count": 10,
   "metadata": {},
   "outputs": [
    {
     "name": "stdout",
     "output_type": "stream",
     "text": [
      "Beginning Data Retrieval\n",
      "-----------------------------\n",
      "Processing Record 1 of Set 1 | butaritari\n",
      "Processing Record 2 of Set 1 | biak\n",
      "Processing Record 3 of Set 1 | conceicao do araguaia\n",
      "Processing Record 4 of Set 1 | lavrentiya\n",
      "Processing Record 5 of Set 1 | buritis\n",
      "Processing Record 6 of Set 1 | collie\n",
      "Processing Record 7 of Set 1 | kiunga\n",
      "Processing Record 8 of Set 1 | bozhou\n",
      "Processing Record 9 of Set 1 | tuktoyaktuk\n",
      "Processing Record 10 of Set 1 | narsaq\n",
      "Processing Record 11 of Set 1 | cabo san lucas\n",
      "Processing Record 12 of Set 1 | emerald\n",
      "Processing Record 13 of Set 1 | kathu\n",
      "Processing Record 14 of Set 1 | upernavik\n",
      "Processing Record 15 of Set 1 | livani\n",
      "Processing Record 16 of Set 1 | mataura\n",
      "Processing Record 17 of Set 1 | north bend\n",
      "Processing Record 18 of Set 1 | anadyr\n",
      "City not found. Skipping...\n",
      "Processing Record 20 of Set 1 | san andres\n",
      "Processing Record 21 of Set 1 | havelock\n",
      "Processing Record 22 of Set 1 | nanortalik\n",
      "Processing Record 23 of Set 1 | ushuaia\n",
      "Processing Record 24 of Set 1 | rikitea\n",
      "Processing Record 25 of Set 1 | nishihara\n",
      "Processing Record 26 of Set 1 | port elizabeth\n",
      "Processing Record 27 of Set 1 | vestmannaeyjar\n",
      "Processing Record 28 of Set 1 | dhaulpur\n",
      "Processing Record 29 of Set 1 | ostersund\n",
      "Processing Record 30 of Set 1 | punta arenas\n",
      "Processing Record 31 of Set 1 | cherskiy\n",
      "Processing Record 32 of Set 1 | touros\n",
      "Processing Record 33 of Set 1 | somova\n",
      "Processing Record 34 of Set 1 | bambous virieux\n",
      "Processing Record 35 of Set 1 | hermanus\n",
      "City not found. Skipping...\n",
      "Processing Record 37 of Set 1 | bandarbeyla\n",
      "Processing Record 38 of Set 1 | nome\n",
      "Processing Record 39 of Set 1 | cidreira\n",
      "Processing Record 40 of Set 1 | sur\n",
      "Processing Record 41 of Set 1 | albany\n",
      "Processing Record 42 of Set 1 | berlevag\n",
      "Processing Record 43 of Set 1 | mar del plata\n",
      "Processing Record 44 of Set 1 | kudahuvadhoo\n",
      "Processing Record 45 of Set 1 | jamestown\n",
      "Processing Record 46 of Set 1 | san cristobal\n",
      "Processing Record 47 of Set 1 | arraial do cabo\n",
      "Processing Record 48 of Set 1 | tottori\n",
      "Processing Record 49 of Set 1 | surt\n",
      "Processing Record 50 of Set 1 | ostrovnoy\n",
      "City not found. Skipping...\n",
      "Processing Record 2 of Set 2 | pevek\n",
      "City not found. Skipping...\n",
      "City not found. Skipping...\n",
      "Processing Record 5 of Set 2 | cape town\n",
      "Processing Record 6 of Set 2 | armidale\n",
      "Processing Record 7 of Set 2 | oromocto\n",
      "Processing Record 8 of Set 2 | bluff\n",
      "Processing Record 9 of Set 2 | kapaa\n",
      "Processing Record 10 of Set 2 | luderitz\n",
      "Processing Record 11 of Set 2 | beloha\n",
      "Processing Record 12 of Set 2 | saint-francois\n",
      "City not found. Skipping...\n",
      "Processing Record 14 of Set 2 | livingston\n",
      "Processing Record 15 of Set 2 | busselton\n",
      "Processing Record 16 of Set 2 | general roca\n",
      "Processing Record 17 of Set 2 | hilo\n",
      "Processing Record 18 of Set 2 | gondar\n",
      "City not found. Skipping...\n",
      "Processing Record 20 of Set 2 | san francisco\n",
      "City not found. Skipping...\n",
      "Processing Record 22 of Set 2 | phek\n",
      "Processing Record 23 of Set 2 | georgetown\n",
      "Processing Record 24 of Set 2 | plateros\n",
      "Processing Record 25 of Set 2 | kavieng\n",
      "Processing Record 26 of Set 2 | flinders\n",
      "Processing Record 27 of Set 2 | bonthe\n",
      "Processing Record 28 of Set 2 | vaini\n",
      "Processing Record 29 of Set 2 | adrar\n",
      "Processing Record 30 of Set 2 | deputatskiy\n",
      "Processing Record 31 of Set 2 | barrow\n",
      "Processing Record 32 of Set 2 | miri\n",
      "Processing Record 33 of Set 2 | toora-khem\n",
      "City not found. Skipping...\n",
      "City not found. Skipping...\n",
      "Processing Record 36 of Set 2 | kodiak\n",
      "Processing Record 37 of Set 2 | tiksi\n",
      "Processing Record 38 of Set 2 | new norfolk\n",
      "Processing Record 39 of Set 2 | brewster\n",
      "Processing Record 40 of Set 2 | atuona\n",
      "Processing Record 41 of Set 2 | kloulklubed\n",
      "City not found. Skipping...\n",
      "Processing Record 43 of Set 2 | bathsheba\n",
      "Processing Record 44 of Set 2 | clyde river\n",
      "Processing Record 45 of Set 2 | porangatu\n",
      "Processing Record 46 of Set 2 | fairbanks\n",
      "Processing Record 47 of Set 2 | vao\n",
      "Processing Record 48 of Set 2 | tucdao\n",
      "Processing Record 49 of Set 2 | tateyama\n",
      "Processing Record 50 of Set 2 | east london\n",
      "Processing Record 1 of Set 3 | den helder\n",
      "Processing Record 2 of Set 3 | menongue\n",
      "Processing Record 3 of Set 3 | thompson\n",
      "Processing Record 4 of Set 3 | afonso bezerra\n",
      "Processing Record 5 of Set 3 | pangai\n",
      "Processing Record 6 of Set 3 | bredasdorp\n",
      "Processing Record 7 of Set 3 | faanui\n",
      "Processing Record 8 of Set 3 | kjollefjord\n",
      "Processing Record 9 of Set 3 | marzuq\n",
      "Processing Record 10 of Set 3 | port alfred\n",
      "Processing Record 11 of Set 3 | abu samrah\n",
      "Processing Record 12 of Set 3 | iqaluit\n",
      "Processing Record 13 of Set 3 | bengkulu\n",
      "Processing Record 14 of Set 3 | okha\n",
      "Processing Record 15 of Set 3 | longyearbyen\n",
      "Processing Record 16 of Set 3 | airai\n",
      "Processing Record 17 of Set 3 | huinan\n",
      "Processing Record 18 of Set 3 | tarauaca\n",
      "Processing Record 19 of Set 3 | lebu\n",
      "Processing Record 20 of Set 3 | sao paulo de olivenca\n",
      "Processing Record 21 of Set 3 | merauke\n",
      "Processing Record 22 of Set 3 | raton\n",
      "Processing Record 23 of Set 3 | tamandare\n",
      "Processing Record 24 of Set 3 | norrtalje\n",
      "Processing Record 25 of Set 3 | souillac\n",
      "Processing Record 26 of Set 3 | namatanai\n",
      "Processing Record 27 of Set 3 | hithadhoo\n",
      "Processing Record 28 of Set 3 | elat\n",
      "Processing Record 29 of Set 3 | kahului\n",
      "Processing Record 30 of Set 3 | rosario\n",
      "Processing Record 31 of Set 3 | hambantota\n",
      "Processing Record 32 of Set 3 | buchanan\n",
      "Processing Record 33 of Set 3 | mount gambier\n",
      "Processing Record 34 of Set 3 | nuuk\n",
      "Processing Record 35 of Set 3 | kawalu\n",
      "Processing Record 36 of Set 3 | vardo\n",
      "Processing Record 37 of Set 3 | singleton\n",
      "Processing Record 38 of Set 3 | ancud\n",
      "City not found. Skipping...\n",
      "Processing Record 40 of Set 3 | hobart\n",
      "City not found. Skipping...\n",
      "Processing Record 42 of Set 3 | kulhudhuffushi\n",
      "City not found. Skipping...\n",
      "Processing Record 44 of Set 3 | bako\n",
      "Processing Record 45 of Set 3 | palmerston\n",
      "Processing Record 46 of Set 3 | cabedelo\n",
      "Processing Record 47 of Set 3 | carnarvon\n",
      "Processing Record 48 of Set 3 | constitucion\n",
      "Processing Record 49 of Set 3 | kiruna\n",
      "Processing Record 50 of Set 3 | hearst\n",
      "Processing Record 1 of Set 4 | namibe\n",
      "Processing Record 2 of Set 4 | ilulissat\n",
      "Processing Record 3 of Set 4 | zhoucheng\n",
      "Processing Record 4 of Set 4 | pelotas\n",
      "Processing Record 5 of Set 4 | saint-philippe\n",
      "Processing Record 6 of Set 4 | dikson\n",
      "City not found. Skipping...\n",
      "Processing Record 8 of Set 4 | yellowknife\n",
      "Processing Record 9 of Set 4 | partsa\n",
      "Processing Record 10 of Set 4 | les cayes\n",
      "Processing Record 11 of Set 4 | prieska\n",
      "Processing Record 12 of Set 4 | bubaque\n",
      "Processing Record 13 of Set 4 | pacific grove\n",
      "Processing Record 14 of Set 4 | qaanaaq\n",
      "Processing Record 15 of Set 4 | rocha\n",
      "Processing Record 16 of Set 4 | sanmenxia\n",
      "Processing Record 17 of Set 4 | milverton\n",
      "Processing Record 18 of Set 4 | norman wells\n",
      "Processing Record 19 of Set 4 | gillette\n",
      "Processing Record 20 of Set 4 | castro\n",
      "Processing Record 21 of Set 4 | macusani\n",
      "City not found. Skipping...\n",
      "Processing Record 23 of Set 4 | lerwick\n",
      "Processing Record 24 of Set 4 | morondava\n",
      "Processing Record 25 of Set 4 | starotimoshkino\n",
      "Processing Record 26 of Set 4 | kamakwie\n",
      "Processing Record 27 of Set 4 | nikolskoye\n",
      "Processing Record 28 of Set 4 | severo-kurilsk\n",
      "Processing Record 29 of Set 4 | luganville\n",
      "Processing Record 30 of Set 4 | mahebourg\n",
      "Processing Record 31 of Set 4 | saint-augustin\n",
      "Processing Record 32 of Set 4 | kyren\n",
      "Processing Record 33 of Set 4 | acapulco\n",
      "Processing Record 34 of Set 4 | fort nelson\n",
      "Processing Record 35 of Set 4 | katobu\n",
      "Processing Record 36 of Set 4 | victoria\n",
      "Processing Record 37 of Set 4 | harper\n",
      "Processing Record 38 of Set 4 | solnechnogorsk\n",
      "Processing Record 39 of Set 4 | banda aceh\n",
      "City not found. Skipping...\n",
      "Processing Record 41 of Set 4 | nabinagar\n",
      "Processing Record 42 of Set 4 | dingle\n",
      "Processing Record 43 of Set 4 | gayeri\n",
      "Processing Record 44 of Set 4 | marystown\n",
      "City not found. Skipping...\n",
      "Processing Record 46 of Set 4 | puerto ayora\n",
      "City not found. Skipping...\n",
      "City not found. Skipping...\n",
      "Processing Record 49 of Set 4 | warwick\n",
      "Processing Record 50 of Set 4 | te anau\n",
      "Processing Record 1 of Set 5 | pisco\n",
      "Processing Record 2 of Set 5 | harvard\n",
      "Processing Record 3 of Set 5 | oxapampa\n",
      "Processing Record 4 of Set 5 | fukue\n",
      "City not found. Skipping...\n"
     ]
    },
    {
     "name": "stdout",
     "output_type": "stream",
     "text": [
      "Processing Record 6 of Set 5 | zemio\n",
      "Processing Record 7 of Set 5 | port hardy\n",
      "Processing Record 8 of Set 5 | turinskaya sloboda\n",
      "Processing Record 9 of Set 5 | rawson\n",
      "Processing Record 10 of Set 5 | dire dawa\n",
      "Processing Record 11 of Set 5 | avarua\n",
      "Processing Record 12 of Set 5 | westport\n",
      "Processing Record 13 of Set 5 | geraldton\n",
      "City not found. Skipping...\n",
      "Processing Record 15 of Set 5 | rundu\n",
      "Processing Record 16 of Set 5 | marquard\n",
      "Processing Record 17 of Set 5 | kaitangata\n",
      "Processing Record 18 of Set 5 | ryotsu\n",
      "Processing Record 19 of Set 5 | ribeira grande\n",
      "Processing Record 20 of Set 5 | zaysan\n",
      "Processing Record 21 of Set 5 | solikamsk\n",
      "Processing Record 22 of Set 5 | nador\n",
      "Processing Record 23 of Set 5 | tautira\n",
      "City not found. Skipping...\n",
      "Processing Record 25 of Set 5 | lodja\n",
      "Processing Record 26 of Set 5 | nichinan\n",
      "Processing Record 27 of Set 5 | bereda\n",
      "Processing Record 28 of Set 5 | kachug\n",
      "Processing Record 29 of Set 5 | kabardinka\n",
      "Processing Record 30 of Set 5 | sinjai\n",
      "Processing Record 31 of Set 5 | lagoa\n",
      "Processing Record 32 of Set 5 | peniche\n",
      "Processing Record 33 of Set 5 | sitka\n",
      "Processing Record 34 of Set 5 | maniwaki\n",
      "Processing Record 35 of Set 5 | aklavik\n",
      "Processing Record 36 of Set 5 | carutapera\n",
      "Processing Record 37 of Set 5 | saint george\n",
      "Processing Record 38 of Set 5 | ipixuna\n",
      "Processing Record 39 of Set 5 | akcakoca\n",
      "Processing Record 40 of Set 5 | esperance\n",
      "Processing Record 41 of Set 5 | timra\n",
      "Processing Record 42 of Set 5 | khash\n",
      "City not found. Skipping...\n",
      "Processing Record 44 of Set 5 | ahipara\n",
      "Processing Record 45 of Set 5 | bodh gaya\n",
      "Processing Record 46 of Set 5 | goderich\n",
      "Processing Record 47 of Set 5 | provideniya\n",
      "Processing Record 48 of Set 5 | palora\n",
      "Processing Record 49 of Set 5 | hovd\n",
      "City not found. Skipping...\n",
      "Processing Record 1 of Set 6 | tamale\n",
      "Processing Record 2 of Set 6 | prachuap khiri khan\n",
      "Processing Record 3 of Set 6 | talnakh\n",
      "Processing Record 4 of Set 6 | caravelas\n",
      "Processing Record 5 of Set 6 | kerchevskiy\n",
      "Processing Record 6 of Set 6 | brae\n",
      "Processing Record 7 of Set 6 | oranjemund\n",
      "Processing Record 8 of Set 6 | kitimat\n",
      "Processing Record 9 of Set 6 | portland\n",
      "Processing Record 10 of Set 6 | vyara\n",
      "Processing Record 11 of Set 6 | la asuncion\n",
      "Processing Record 12 of Set 6 | saskylakh\n",
      "Processing Record 13 of Set 6 | rio verde de mato grosso\n",
      "Processing Record 14 of Set 6 | muisne\n",
      "Processing Record 15 of Set 6 | fortuna\n",
      "Processing Record 16 of Set 6 | torbay\n",
      "Processing Record 17 of Set 6 | shushtar\n",
      "Processing Record 18 of Set 6 | taunggyi\n",
      "Processing Record 19 of Set 6 | ponta do sol\n",
      "Processing Record 20 of Set 6 | meulaboh\n",
      "City not found. Skipping...\n",
      "Processing Record 22 of Set 6 | osesti\n",
      "Processing Record 23 of Set 6 | jacmel\n",
      "Processing Record 24 of Set 6 | khor\n",
      "Processing Record 25 of Set 6 | tasiilaq\n",
      "Processing Record 26 of Set 6 | vallenar\n",
      "Processing Record 27 of Set 6 | oros\n",
      "Processing Record 28 of Set 6 | yulara\n",
      "Processing Record 29 of Set 6 | saint-joseph\n",
      "Processing Record 30 of Set 6 | sezimovo usti\n",
      "Processing Record 31 of Set 6 | tuatapere\n",
      "Processing Record 32 of Set 6 | kasongo-lunda\n",
      "Processing Record 33 of Set 6 | awjilah\n",
      "Processing Record 34 of Set 6 | caranavi\n",
      "Processing Record 35 of Set 6 | challapata\n",
      "Processing Record 36 of Set 6 | yelovo\n",
      "Processing Record 37 of Set 6 | betioky\n",
      "Processing Record 38 of Set 6 | qaqortoq\n",
      "Processing Record 39 of Set 6 | seoul\n",
      "Processing Record 40 of Set 6 | gao\n",
      "Processing Record 41 of Set 6 | kropotkin\n",
      "Processing Record 42 of Set 6 | salinas\n",
      "Processing Record 43 of Set 6 | bahia blanca\n",
      "Processing Record 44 of Set 6 | alvarado\n",
      "Processing Record 45 of Set 6 | san ramon\n",
      "Processing Record 46 of Set 6 | aksarka\n",
      "Processing Record 47 of Set 6 | urucui\n",
      "Processing Record 48 of Set 6 | lorengau\n",
      "City not found. Skipping...\n",
      "Processing Record 50 of Set 6 | ifakara\n",
      "Processing Record 1 of Set 7 | khatanga\n",
      "Processing Record 2 of Set 7 | nouadhibou\n",
      "Processing Record 3 of Set 7 | alofi\n",
      "Processing Record 4 of Set 7 | la ronge\n",
      "Processing Record 5 of Set 7 | paamiut\n",
      "City not found. Skipping...\n",
      "City not found. Skipping...\n",
      "Processing Record 8 of Set 7 | oriximina\n",
      "Processing Record 9 of Set 7 | bethel\n",
      "Processing Record 10 of Set 7 | kyaikkami\n",
      "Processing Record 11 of Set 7 | nuevo progreso\n",
      "Processing Record 12 of Set 7 | roebourne\n",
      "Processing Record 13 of Set 7 | lompoc\n",
      "Processing Record 14 of Set 7 | puerto del rosario\n",
      "Processing Record 15 of Set 7 | bow island\n",
      "Processing Record 16 of Set 7 | hamilton\n",
      "Processing Record 17 of Set 7 | noyabrsk\n",
      "City not found. Skipping...\n",
      "Processing Record 19 of Set 7 | tura\n",
      "Processing Record 20 of Set 7 | horgos\n",
      "Processing Record 21 of Set 7 | houma\n",
      "Processing Record 22 of Set 7 | roald\n",
      "Processing Record 23 of Set 7 | vila velha\n",
      "Processing Record 24 of Set 7 | katsuura\n",
      "Processing Record 25 of Set 7 | orlik\n",
      "Processing Record 26 of Set 7 | olafsvik\n",
      "Processing Record 27 of Set 7 | taksimo\n",
      "City not found. Skipping...\n",
      "Processing Record 29 of Set 7 | chuy\n",
      "City not found. Skipping...\n",
      "Processing Record 31 of Set 7 | bima\n",
      "Processing Record 32 of Set 7 | hasaki\n",
      "Processing Record 33 of Set 7 | naldurg\n",
      "Processing Record 34 of Set 7 | umm kaddadah\n",
      "Processing Record 35 of Set 7 | okhotsk\n",
      "Processing Record 36 of Set 7 | port keats\n",
      "Processing Record 37 of Set 7 | ponta delgada\n",
      "Processing Record 38 of Set 7 | road town\n",
      "Processing Record 39 of Set 7 | alindao\n",
      "Processing Record 40 of Set 7 | port-gentil\n",
      "Processing Record 41 of Set 7 | poum\n",
      "Processing Record 42 of Set 7 | kaeo\n",
      "Processing Record 43 of Set 7 | gidam\n",
      "Processing Record 44 of Set 7 | koumac\n",
      "Processing Record 45 of Set 7 | bauchi\n",
      "Processing Record 46 of Set 7 | lipari\n",
      "City not found. Skipping...\n",
      "Processing Record 48 of Set 7 | biasca\n",
      "Processing Record 49 of Set 7 | guiratinga\n",
      "Processing Record 50 of Set 7 | skelleftea\n",
      "Processing Record 1 of Set 8 | del rio\n",
      "Processing Record 2 of Set 8 | manaus\n",
      "Processing Record 3 of Set 8 | inuvik\n",
      "Processing Record 4 of Set 8 | isangel\n",
      "Processing Record 5 of Set 8 | poronaysk\n",
      "Processing Record 6 of Set 8 | nanyuki\n",
      "Processing Record 7 of Set 8 | coahuayana\n",
      "Processing Record 8 of Set 8 | baykit\n",
      "City not found. Skipping...\n",
      "Processing Record 10 of Set 8 | rincon\n",
      "Processing Record 11 of Set 8 | oktyabrskoye\n",
      "Processing Record 12 of Set 8 | jaisinghnagar\n",
      "Processing Record 13 of Set 8 | rio gallegos\n",
      "Processing Record 14 of Set 8 | ucluelet\n",
      "Processing Record 15 of Set 8 | husavik\n",
      "Processing Record 16 of Set 8 | portobelo\n",
      "Processing Record 17 of Set 8 | tyulgan\n",
      "Processing Record 18 of Set 8 | gravdal\n",
      "Processing Record 19 of Set 8 | sambava\n",
      "Processing Record 20 of Set 8 | florianopolis\n",
      "Processing Record 21 of Set 8 | avera\n",
      "Processing Record 22 of Set 8 | hauterive\n",
      "Processing Record 23 of Set 8 | llanes\n",
      "Processing Record 24 of Set 8 | guilin\n",
      "Processing Record 25 of Set 8 | tazovskiy\n",
      "Processing Record 26 of Set 8 | klaksvik\n",
      "Processing Record 27 of Set 8 | broome\n",
      "Processing Record 28 of Set 8 | ozernovskiy\n",
      "Processing Record 29 of Set 8 | teguldet\n",
      "Processing Record 30 of Set 8 | berbera\n",
      "Processing Record 31 of Set 8 | sakakah\n",
      "Processing Record 32 of Set 8 | montrose\n",
      "Processing Record 33 of Set 8 | krasnoarmeysk\n",
      "Processing Record 34 of Set 8 | klamath falls\n",
      "Processing Record 35 of Set 8 | praia da vitoria\n",
      "Processing Record 36 of Set 8 | nemuro\n",
      "Processing Record 37 of Set 8 | camacha\n",
      "Processing Record 38 of Set 8 | antofagasta\n",
      "Processing Record 39 of Set 8 | saldanha\n",
      "Processing Record 40 of Set 8 | mackenzie\n",
      "Processing Record 41 of Set 8 | parry sound\n",
      "Processing Record 42 of Set 8 | port lincoln\n",
      "Processing Record 43 of Set 8 | chokurdakh\n",
      "Processing Record 44 of Set 8 | susehri\n",
      "City not found. Skipping...\n",
      "Processing Record 46 of Set 8 | svetlogorsk\n",
      "Processing Record 47 of Set 8 | chon daen\n",
      "Processing Record 48 of Set 8 | dogondoutchi\n",
      "Processing Record 49 of Set 8 | sinnamary\n",
      "Processing Record 50 of Set 8 | marawi\n",
      "Processing Record 1 of Set 9 | san patricio\n",
      "Processing Record 2 of Set 9 | conceicao das alagoas\n",
      "Processing Record 3 of Set 9 | alvorada\n",
      "Processing Record 4 of Set 9 | batemans bay\n",
      "Processing Record 5 of Set 9 | margate\n",
      "Processing Record 6 of Set 9 | tigil\n",
      "Processing Record 7 of Set 9 | nhulunbuy\n",
      "Processing Record 8 of Set 9 | santa ines\n",
      "Processing Record 9 of Set 9 | lamu\n",
      "Processing Record 10 of Set 9 | fairmount\n"
     ]
    },
    {
     "name": "stdout",
     "output_type": "stream",
     "text": [
      "Processing Record 11 of Set 9 | hokitika\n",
      "Processing Record 12 of Set 9 | sonkovo\n",
      "Processing Record 13 of Set 9 | padang\n",
      "Processing Record 14 of Set 9 | san martin\n",
      "Processing Record 15 of Set 9 | ketchikan\n",
      "City not found. Skipping...\n",
      "Processing Record 17 of Set 9 | hami\n",
      "Processing Record 18 of Set 9 | luanda\n",
      "Processing Record 19 of Set 9 | sawakin\n",
      "Processing Record 20 of Set 9 | warrington\n",
      "Processing Record 21 of Set 9 | kursk\n",
      "City not found. Skipping...\n",
      "Processing Record 23 of Set 9 | marsh harbour\n",
      "Processing Record 24 of Set 9 | sobolevo\n",
      "Processing Record 25 of Set 9 | richards bay\n",
      "Processing Record 26 of Set 9 | beira\n",
      "Processing Record 27 of Set 9 | gazojak\n",
      "Processing Record 28 of Set 9 | udachnyy\n",
      "City not found. Skipping...\n",
      "Processing Record 30 of Set 9 | zhob\n",
      "City not found. Skipping...\n",
      "Processing Record 32 of Set 9 | mao\n",
      "Processing Record 33 of Set 9 | mossoro\n",
      "Processing Record 34 of Set 9 | sao filipe\n",
      "Processing Record 35 of Set 9 | bilibino\n",
      "Processing Record 36 of Set 9 | quatre cocos\n",
      "Processing Record 37 of Set 9 | baculin\n",
      "Processing Record 38 of Set 9 | ashtabula\n",
      "Processing Record 39 of Set 9 | honningsvag\n",
      "Processing Record 40 of Set 9 | port hedland\n",
      "Processing Record 41 of Set 9 | swan hill\n",
      "Processing Record 42 of Set 9 | eyl\n",
      "City not found. Skipping...\n",
      "Processing Record 44 of Set 9 | nenjiang\n",
      "Processing Record 45 of Set 9 | laguna\n",
      "Processing Record 46 of Set 9 | san policarpo\n",
      "Processing Record 47 of Set 9 | yangjiang\n",
      "Processing Record 48 of Set 9 | arlit\n",
      "City not found. Skipping...\n",
      "Processing Record 50 of Set 9 | tahta\n",
      "Processing Record 1 of Set 10 | vila\n",
      "Processing Record 2 of Set 10 | havre\n",
      "Processing Record 3 of Set 10 | luba\n",
      "Processing Record 4 of Set 10 | snasa\n",
      "Processing Record 5 of Set 10 | faya\n",
      "Processing Record 6 of Set 10 | nyrob\n",
      "Processing Record 7 of Set 10 | kirakira\n",
      "Processing Record 8 of Set 10 | malanje\n",
      "Processing Record 9 of Set 10 | college\n",
      "Processing Record 10 of Set 10 | kamenka\n",
      "Processing Record 11 of Set 10 | bageshwar\n",
      "Processing Record 12 of Set 10 | kavarna\n",
      "Processing Record 13 of Set 10 | sungaipenuh\n",
      "Processing Record 14 of Set 10 | vagay\n",
      "Processing Record 15 of Set 10 | roma\n",
      "Processing Record 16 of Set 10 | bokoro\n",
      "Processing Record 17 of Set 10 | rypefjord\n",
      "Processing Record 18 of Set 10 | port macquarie\n",
      "Processing Record 19 of Set 10 | abrau-dyurso\n",
      "Processing Record 20 of Set 10 | barabinsk\n",
      "Processing Record 21 of Set 10 | pangody\n",
      "City not found. Skipping...\n",
      "Processing Record 23 of Set 10 | beian\n",
      "Processing Record 24 of Set 10 | new bern\n",
      "Processing Record 25 of Set 10 | atasu\n",
      "Processing Record 26 of Set 10 | bumba\n",
      "Processing Record 27 of Set 10 | benguela\n",
      "Processing Record 28 of Set 10 | coolum beach\n",
      "Processing Record 29 of Set 10 | tarakan\n",
      "Processing Record 30 of Set 10 | wick\n",
      "Processing Record 31 of Set 10 | wukari\n",
      "Processing Record 32 of Set 10 | krabi\n",
      "Processing Record 33 of Set 10 | chara\n",
      "Processing Record 34 of Set 10 | garowe\n",
      "Processing Record 35 of Set 10 | kautokeino\n",
      "City not found. Skipping...\n",
      "City not found. Skipping...\n",
      "Processing Record 38 of Set 10 | mwinilunga\n",
      "Processing Record 39 of Set 10 | dufftown\n",
      "Processing Record 40 of Set 10 | sharan\n",
      "Processing Record 41 of Set 10 | requena\n",
      "Processing Record 42 of Set 10 | waycross\n",
      "Processing Record 43 of Set 10 | izyum\n",
      "City not found. Skipping...\n",
      "Processing Record 45 of Set 10 | russkiy aktash\n",
      "Processing Record 46 of Set 10 | ruidoso\n",
      "Processing Record 47 of Set 10 | pokhara\n",
      "Processing Record 48 of Set 10 | asau\n",
      "Processing Record 49 of Set 10 | cotonou\n",
      "Processing Record 50 of Set 10 | coquimbo\n",
      "Processing Record 1 of Set 11 | kharsawan\n",
      "Processing Record 2 of Set 11 | kailua\n",
      "City not found. Skipping...\n",
      "Processing Record 4 of Set 11 | pangnirtung\n",
      "Processing Record 5 of Set 11 | kalmunai\n",
      "Processing Record 6 of Set 11 | grindavik\n",
      "City not found. Skipping...\n",
      "Processing Record 8 of Set 11 | colmenar viejo\n",
      "Processing Record 9 of Set 11 | perevoz\n",
      "Processing Record 10 of Set 11 | toribio\n",
      "Processing Record 11 of Set 11 | yar-sale\n",
      "Processing Record 12 of Set 11 | hirado\n",
      "Processing Record 13 of Set 11 | hobyo\n",
      "Processing Record 14 of Set 11 | naifaru\n",
      "Processing Record 15 of Set 11 | hervey bay\n",
      "Processing Record 16 of Set 11 | nizwa\n",
      "Processing Record 17 of Set 11 | sirsilla\n",
      "Processing Record 18 of Set 11 | itarema\n",
      "Processing Record 19 of Set 11 | bar harbor\n",
      "Processing Record 20 of Set 11 | korla\n",
      "Processing Record 21 of Set 11 | leningradskiy\n",
      "Processing Record 22 of Set 11 | sijunjung\n",
      "Processing Record 23 of Set 11 | nioro\n",
      "Processing Record 24 of Set 11 | shizukuishi\n",
      "City not found. Skipping...\n",
      "Processing Record 26 of Set 11 | caconda\n",
      "City not found. Skipping...\n",
      "Processing Record 28 of Set 11 | wajima\n",
      "Processing Record 29 of Set 11 | erenhot\n",
      "Processing Record 30 of Set 11 | grand gaube\n",
      "Processing Record 31 of Set 11 | volgorechensk\n",
      "City not found. Skipping...\n",
      "Processing Record 33 of Set 11 | kaniama\n",
      "Processing Record 34 of Set 11 | bodden town\n",
      "Processing Record 35 of Set 11 | labuhan\n",
      "Processing Record 36 of Set 11 | piranshahr\n",
      "Processing Record 37 of Set 11 | carapegua\n",
      "Processing Record 38 of Set 11 | winchester\n",
      "Processing Record 39 of Set 11 | shasta lake\n",
      "Processing Record 40 of Set 11 | atambua\n",
      "Processing Record 41 of Set 11 | saint-leu\n",
      "Processing Record 42 of Set 11 | sao joao da barra\n",
      "Processing Record 43 of Set 11 | soyo\n",
      "Processing Record 44 of Set 11 | ust-nera\n",
      "Processing Record 45 of Set 11 | moron\n",
      "Processing Record 46 of Set 11 | cootamundra\n",
      "City not found. Skipping...\n",
      "Processing Record 48 of Set 11 | sampit\n",
      "Processing Record 49 of Set 11 | souris\n",
      "Processing Record 50 of Set 11 | egvekinot\n",
      "Processing Record 1 of Set 12 | muros\n",
      "Processing Record 2 of Set 12 | nanga eboko\n",
      "Processing Record 3 of Set 12 | staryy nadym\n",
      "Processing Record 4 of Set 12 | kismayo\n",
      "Processing Record 5 of Set 12 | santa isabel do rio negro\n",
      "Processing Record 6 of Set 12 | kruisfontein\n",
      "Processing Record 7 of Set 12 | northam\n",
      "City not found. Skipping...\n",
      "Processing Record 9 of Set 12 | mandal\n",
      "Processing Record 10 of Set 12 | chicama\n",
      "Processing Record 11 of Set 12 | chilliwack\n",
      "Processing Record 12 of Set 12 | tromso\n",
      "Processing Record 13 of Set 12 | pemangkat\n",
      "Processing Record 14 of Set 12 | shimoda\n",
      "Processing Record 15 of Set 12 | ottersberg\n",
      "Processing Record 16 of Set 12 | tampakan\n",
      "Processing Record 17 of Set 12 | igarka\n",
      "Processing Record 18 of Set 12 | yangambi\n",
      "Processing Record 19 of Set 12 | lukovetskiy\n",
      "Processing Record 20 of Set 12 | koslan\n",
      "Processing Record 21 of Set 12 | kayunga\n",
      "Processing Record 22 of Set 12 | campbell river\n",
      "Processing Record 23 of Set 12 | lakes entrance\n",
      "Processing Record 24 of Set 12 | polazna\n",
      "Processing Record 25 of Set 12 | kovdor\n",
      "Processing Record 26 of Set 12 | zabkowice slaskie\n",
      "Processing Record 27 of Set 12 | gilbues\n",
      "Processing Record 28 of Set 12 | fallon\n",
      "City not found. Skipping...\n",
      "Processing Record 30 of Set 12 | dori\n",
      "Processing Record 31 of Set 12 | zbiroh\n",
      "Processing Record 32 of Set 12 | matti\n",
      "Processing Record 33 of Set 12 | mamou\n",
      "Processing Record 34 of Set 12 | shingu\n",
      "Processing Record 35 of Set 12 | kovernino\n",
      "Processing Record 36 of Set 12 | sept-iles\n",
      "Processing Record 37 of Set 12 | loukhi\n",
      "City not found. Skipping...\n",
      "Processing Record 39 of Set 12 | hofn\n",
      "Processing Record 40 of Set 12 | ocala\n",
      "Processing Record 41 of Set 12 | buraydah\n",
      "Processing Record 42 of Set 12 | sao jose da coroa grande\n",
      "Processing Record 43 of Set 12 | kuching\n",
      "Processing Record 44 of Set 12 | opuwo\n",
      "Processing Record 45 of Set 12 | bizhbulyak\n",
      "Processing Record 46 of Set 12 | lata\n",
      "Processing Record 47 of Set 12 | galesong\n",
      "Processing Record 48 of Set 12 | fort saint james\n",
      "Processing Record 49 of Set 12 | palu\n",
      "Processing Record 50 of Set 12 | manzanillo\n",
      "Processing Record 1 of Set 13 | sovkhoznyy\n"
     ]
    }
   ],
   "source": [
    "data = []\n",
    "'''\n",
    "here, I query open weather maps for each city, extracting the following:\n",
    "name, latitude, longitude, daily high, humidity, cloud coverage %, wind speed\n",
    "'''\n",
    "print('Beginning Data Retrieval')     \n",
    "print('-----------------------------')\n",
    "j = 1\n",
    "for i in range(len(cities)):\n",
    "    params['q'] = cities[i]\n",
    "    try:\n",
    "        response = requests.get(base_url, params=params)\n",
    "        r = response.json()\n",
    "        city = r['name']\n",
    "        lat = r['coord']['lat']\n",
    "        lng = r['coord']['lon']\n",
    "        max_temp = r['main']['temp_max']\n",
    "        humid = r['main']['humidity']\n",
    "        cloud = r['clouds']['all']\n",
    "        wind = r['wind']['speed']\n",
    "        country = r['sys']['country']\n",
    "        today = date.today()\n",
    "\n",
    "        r_data = [city,lat,lng,max_temp,humid,cloud,wind,country,today]\n",
    "        \n",
    "        data.append(r_data)\n",
    "        print(f'Processing Record {i%50+1} of Set {j} | {cities[i]}')\n",
    "        \n",
    "    except (KeyError, IndexError):\n",
    "        print('City not found. Skipping...')\n",
    "        \n",
    "    if (i + 1) % 50 == 0:\n",
    "        j += 1\n",
    "        time.sleep(10)\n",
    "        "
   ]
  },
  {
   "cell_type": "code",
   "execution_count": 11,
   "metadata": {},
   "outputs": [
    {
     "data": {
      "text/plain": [
       "[['Butaritari',\n",
       "  3.07,\n",
       "  172.79,\n",
       "  82.92,\n",
       "  77,\n",
       "  99,\n",
       "  12.01,\n",
       "  'KI',\n",
       "  datetime.date(2020, 7, 10)],\n",
       " ['Biak',\n",
       "  -0.91,\n",
       "  122.88,\n",
       "  80.58,\n",
       "  80,\n",
       "  99,\n",
       "  7.36,\n",
       "  'ID',\n",
       "  datetime.date(2020, 7, 10)],\n",
       " ['Conceição do Araguaia',\n",
       "  -8.26,\n",
       "  -49.26,\n",
       "  75.72,\n",
       "  61,\n",
       "  19,\n",
       "  1.14,\n",
       "  'BR',\n",
       "  datetime.date(2020, 7, 10)],\n",
       " ['Lavrentiya',\n",
       "  65.58,\n",
       "  -171,\n",
       "  53.82,\n",
       "  60,\n",
       "  5,\n",
       "  4.21,\n",
       "  'RU',\n",
       "  datetime.date(2020, 7, 10)],\n",
       " ['Buritis',\n",
       "  -15.62,\n",
       "  -46.42,\n",
       "  68.68,\n",
       "  52,\n",
       "  30,\n",
       "  3.18,\n",
       "  'BR',\n",
       "  datetime.date(2020, 7, 10)]]"
      ]
     },
     "execution_count": 11,
     "metadata": {},
     "output_type": "execute_result"
    }
   ],
   "source": [
    "data[0:5]"
   ]
  },
  {
   "cell_type": "code",
   "execution_count": 12,
   "metadata": {},
   "outputs": [],
   "source": [
    "for i in range(len(data)):\n",
    "    data[i][8] = data[i][8].isoformat()"
   ]
  },
  {
   "cell_type": "code",
   "execution_count": 13,
   "metadata": {},
   "outputs": [],
   "source": [
    "'''\n",
    "City          550\n",
    "Lat           550\n",
    "Lng           550\n",
    "Max Temp      550\n",
    "Humidity      550\n",
    "Cloudiness    550\n",
    "Wind Speed    550\n",
    "Country       550\n",
    "Date          550\n",
    "dtype: int64\n",
    "'''\n",
    "weather_df = pd.DataFrame(data, columns=['City Name', 'Latitude', 'Longitude', 'Daily High', 'Humidity', 'Cloudiness', 'Wind Speed', 'Country', 'Date'])"
   ]
  },
  {
   "cell_type": "code",
   "execution_count": 14,
   "metadata": {},
   "outputs": [
    {
     "data": {
      "text/html": [
       "<div>\n",
       "<style scoped>\n",
       "    .dataframe tbody tr th:only-of-type {\n",
       "        vertical-align: middle;\n",
       "    }\n",
       "\n",
       "    .dataframe tbody tr th {\n",
       "        vertical-align: top;\n",
       "    }\n",
       "\n",
       "    .dataframe thead th {\n",
       "        text-align: right;\n",
       "    }\n",
       "</style>\n",
       "<table border=\"1\" class=\"dataframe\">\n",
       "  <thead>\n",
       "    <tr style=\"text-align: right;\">\n",
       "      <th></th>\n",
       "      <th>City Name</th>\n",
       "      <th>Latitude</th>\n",
       "      <th>Longitude</th>\n",
       "      <th>Daily High</th>\n",
       "      <th>Humidity</th>\n",
       "      <th>Cloudiness</th>\n",
       "      <th>Wind Speed</th>\n",
       "      <th>Country</th>\n",
       "      <th>Date</th>\n",
       "    </tr>\n",
       "  </thead>\n",
       "  <tbody>\n",
       "    <tr>\n",
       "      <th>0</th>\n",
       "      <td>Butaritari</td>\n",
       "      <td>3.07</td>\n",
       "      <td>172.79</td>\n",
       "      <td>82.92</td>\n",
       "      <td>77</td>\n",
       "      <td>99</td>\n",
       "      <td>12.01</td>\n",
       "      <td>KI</td>\n",
       "      <td>2020-07-10</td>\n",
       "    </tr>\n",
       "    <tr>\n",
       "      <th>1</th>\n",
       "      <td>Biak</td>\n",
       "      <td>-0.91</td>\n",
       "      <td>122.88</td>\n",
       "      <td>80.58</td>\n",
       "      <td>80</td>\n",
       "      <td>99</td>\n",
       "      <td>7.36</td>\n",
       "      <td>ID</td>\n",
       "      <td>2020-07-10</td>\n",
       "    </tr>\n",
       "    <tr>\n",
       "      <th>2</th>\n",
       "      <td>Conceição do Araguaia</td>\n",
       "      <td>-8.26</td>\n",
       "      <td>-49.26</td>\n",
       "      <td>75.72</td>\n",
       "      <td>61</td>\n",
       "      <td>19</td>\n",
       "      <td>1.14</td>\n",
       "      <td>BR</td>\n",
       "      <td>2020-07-10</td>\n",
       "    </tr>\n",
       "    <tr>\n",
       "      <th>3</th>\n",
       "      <td>Lavrentiya</td>\n",
       "      <td>65.58</td>\n",
       "      <td>-171.00</td>\n",
       "      <td>53.82</td>\n",
       "      <td>60</td>\n",
       "      <td>5</td>\n",
       "      <td>4.21</td>\n",
       "      <td>RU</td>\n",
       "      <td>2020-07-10</td>\n",
       "    </tr>\n",
       "    <tr>\n",
       "      <th>4</th>\n",
       "      <td>Buritis</td>\n",
       "      <td>-15.62</td>\n",
       "      <td>-46.42</td>\n",
       "      <td>68.68</td>\n",
       "      <td>52</td>\n",
       "      <td>30</td>\n",
       "      <td>3.18</td>\n",
       "      <td>BR</td>\n",
       "      <td>2020-07-10</td>\n",
       "    </tr>\n",
       "  </tbody>\n",
       "</table>\n",
       "</div>"
      ],
      "text/plain": [
       "               City Name  Latitude  Longitude  Daily High  Humidity  \\\n",
       "0             Butaritari      3.07     172.79       82.92        77   \n",
       "1                   Biak     -0.91     122.88       80.58        80   \n",
       "2  Conceição do Araguaia     -8.26     -49.26       75.72        61   \n",
       "3             Lavrentiya     65.58    -171.00       53.82        60   \n",
       "4                Buritis    -15.62     -46.42       68.68        52   \n",
       "\n",
       "   Cloudiness  Wind Speed Country        Date  \n",
       "0          99       12.01      KI  2020-07-10  \n",
       "1          99        7.36      ID  2020-07-10  \n",
       "2          19        1.14      BR  2020-07-10  \n",
       "3           5        4.21      RU  2020-07-10  \n",
       "4          30        3.18      BR  2020-07-10  "
      ]
     },
     "execution_count": 14,
     "metadata": {},
     "output_type": "execute_result"
    }
   ],
   "source": [
    "weather_df.head()"
   ]
  },
  {
   "cell_type": "markdown",
   "metadata": {},
   "source": [
    "### Convert Raw Data to DataFrame\n",
    "* Export the city data into a .csv.\n",
    "* Display the DataFrame"
   ]
  },
  {
   "cell_type": "code",
   "execution_count": 18,
   "metadata": {},
   "outputs": [],
   "source": [
    "weather_df.to_csv(output_data_file, index=False)"
   ]
  },
  {
   "cell_type": "code",
   "execution_count": null,
   "metadata": {
    "scrolled": true
   },
   "outputs": [],
   "source": [
    "# weather_df = pd.read_csv(output_data_file)\n",
    "# weather_df.head()"
   ]
  },
  {
   "cell_type": "markdown",
   "metadata": {},
   "source": [
    "## Inspect the data and remove the cities where the humidity > 100%.\n",
    "----\n",
    "Skip this step if there are no cities that have humidity > 100%. "
   ]
  },
  {
   "cell_type": "code",
   "execution_count": 19,
   "metadata": {},
   "outputs": [
    {
     "data": {
      "text/plain": [
       "Int64Index([], dtype='int64')"
      ]
     },
     "execution_count": 19,
     "metadata": {},
     "output_type": "execute_result"
    }
   ],
   "source": [
    "#  Get the indices of cities that have humidity over 100%.\n",
    "sweaty_df = weather_df.loc[weather_df['Humidity'] > 100]\n",
    "sweaty_df.index"
   ]
  },
  {
   "cell_type": "code",
   "execution_count": 20,
   "metadata": {},
   "outputs": [
    {
     "data": {
      "text/html": [
       "<div>\n",
       "<style scoped>\n",
       "    .dataframe tbody tr th:only-of-type {\n",
       "        vertical-align: middle;\n",
       "    }\n",
       "\n",
       "    .dataframe tbody tr th {\n",
       "        vertical-align: top;\n",
       "    }\n",
       "\n",
       "    .dataframe thead th {\n",
       "        text-align: right;\n",
       "    }\n",
       "</style>\n",
       "<table border=\"1\" class=\"dataframe\">\n",
       "  <thead>\n",
       "    <tr style=\"text-align: right;\">\n",
       "      <th></th>\n",
       "      <th>City Name</th>\n",
       "      <th>Latitude</th>\n",
       "      <th>Longitude</th>\n",
       "      <th>Daily High</th>\n",
       "      <th>Humidity</th>\n",
       "      <th>Cloudiness</th>\n",
       "      <th>Wind Speed</th>\n",
       "      <th>Country</th>\n",
       "      <th>Date</th>\n",
       "    </tr>\n",
       "  </thead>\n",
       "  <tbody>\n",
       "    <tr>\n",
       "      <th>0</th>\n",
       "      <td>Butaritari</td>\n",
       "      <td>3.07</td>\n",
       "      <td>172.79</td>\n",
       "      <td>82.92</td>\n",
       "      <td>77</td>\n",
       "      <td>99</td>\n",
       "      <td>12.01</td>\n",
       "      <td>KI</td>\n",
       "      <td>2020-07-10</td>\n",
       "    </tr>\n",
       "    <tr>\n",
       "      <th>1</th>\n",
       "      <td>Biak</td>\n",
       "      <td>-0.91</td>\n",
       "      <td>122.88</td>\n",
       "      <td>80.58</td>\n",
       "      <td>80</td>\n",
       "      <td>99</td>\n",
       "      <td>7.36</td>\n",
       "      <td>ID</td>\n",
       "      <td>2020-07-10</td>\n",
       "    </tr>\n",
       "    <tr>\n",
       "      <th>2</th>\n",
       "      <td>Conceição do Araguaia</td>\n",
       "      <td>-8.26</td>\n",
       "      <td>-49.26</td>\n",
       "      <td>75.72</td>\n",
       "      <td>61</td>\n",
       "      <td>19</td>\n",
       "      <td>1.14</td>\n",
       "      <td>BR</td>\n",
       "      <td>2020-07-10</td>\n",
       "    </tr>\n",
       "    <tr>\n",
       "      <th>3</th>\n",
       "      <td>Lavrentiya</td>\n",
       "      <td>65.58</td>\n",
       "      <td>-171.00</td>\n",
       "      <td>53.82</td>\n",
       "      <td>60</td>\n",
       "      <td>5</td>\n",
       "      <td>4.21</td>\n",
       "      <td>RU</td>\n",
       "      <td>2020-07-10</td>\n",
       "    </tr>\n",
       "    <tr>\n",
       "      <th>4</th>\n",
       "      <td>Buritis</td>\n",
       "      <td>-15.62</td>\n",
       "      <td>-46.42</td>\n",
       "      <td>68.68</td>\n",
       "      <td>52</td>\n",
       "      <td>30</td>\n",
       "      <td>3.18</td>\n",
       "      <td>BR</td>\n",
       "      <td>2020-07-10</td>\n",
       "    </tr>\n",
       "  </tbody>\n",
       "</table>\n",
       "</div>"
      ],
      "text/plain": [
       "               City Name  Latitude  Longitude  Daily High  Humidity  \\\n",
       "0             Butaritari      3.07     172.79       82.92        77   \n",
       "1                   Biak     -0.91     122.88       80.58        80   \n",
       "2  Conceição do Araguaia     -8.26     -49.26       75.72        61   \n",
       "3             Lavrentiya     65.58    -171.00       53.82        60   \n",
       "4                Buritis    -15.62     -46.42       68.68        52   \n",
       "\n",
       "   Cloudiness  Wind Speed Country        Date  \n",
       "0          99       12.01      KI  2020-07-10  \n",
       "1          99        7.36      ID  2020-07-10  \n",
       "2          19        1.14      BR  2020-07-10  \n",
       "3           5        4.21      RU  2020-07-10  \n",
       "4          30        3.18      BR  2020-07-10  "
      ]
     },
     "execution_count": 20,
     "metadata": {},
     "output_type": "execute_result"
    }
   ],
   "source": [
    "# Make a new DataFrame equal to the city data to drop all humidity outliers by index.\n",
    "# Passing \"inplace=False\" will make a copy of the city_data DataFrame, which we call \"clean_city_data\".\n",
    "clean_city_data = weather_df.drop(sweaty_df.index)\n",
    "clean_city_data.head()"
   ]
  },
  {
   "cell_type": "code",
   "execution_count": 21,
   "metadata": {},
   "outputs": [],
   "source": [
    "# Extract relevant fields from the data frame\n",
    "##Which fields?\n",
    "\n",
    "# Export the City_Data into a csv\n",
    "## a second csv?\n",
    "output_data_file = 'output_data/clean_cities.csv'\n",
    "clean_city_data.to_csv(output_data_file, index=False)"
   ]
  },
  {
   "cell_type": "markdown",
   "metadata": {},
   "source": [
    "## Plotting the Data\n",
    "* Use proper labeling of the plots using plot titles (including date of analysis) and axes labels.\n",
    "* Save the plotted figures as .pngs."
   ]
  },
  {
   "cell_type": "code",
   "execution_count": 26,
   "metadata": {},
   "outputs": [
    {
     "data": {
      "text/html": [
       "<div>\n",
       "<style scoped>\n",
       "    .dataframe tbody tr th:only-of-type {\n",
       "        vertical-align: middle;\n",
       "    }\n",
       "\n",
       "    .dataframe tbody tr th {\n",
       "        vertical-align: top;\n",
       "    }\n",
       "\n",
       "    .dataframe thead th {\n",
       "        text-align: right;\n",
       "    }\n",
       "</style>\n",
       "<table border=\"1\" class=\"dataframe\">\n",
       "  <thead>\n",
       "    <tr style=\"text-align: right;\">\n",
       "      <th></th>\n",
       "      <th>City Name</th>\n",
       "      <th>Latitude</th>\n",
       "      <th>Longitude</th>\n",
       "      <th>Daily High</th>\n",
       "      <th>Humidity</th>\n",
       "      <th>Cloudiness</th>\n",
       "      <th>Wind Speed</th>\n",
       "      <th>Country</th>\n",
       "      <th>Date</th>\n",
       "    </tr>\n",
       "  </thead>\n",
       "  <tbody>\n",
       "    <tr>\n",
       "      <th>0</th>\n",
       "      <td>Butaritari</td>\n",
       "      <td>3.07</td>\n",
       "      <td>172.79</td>\n",
       "      <td>82.92</td>\n",
       "      <td>77</td>\n",
       "      <td>99</td>\n",
       "      <td>12.01</td>\n",
       "      <td>KI</td>\n",
       "      <td>2020-07-10</td>\n",
       "    </tr>\n",
       "    <tr>\n",
       "      <th>1</th>\n",
       "      <td>Biak</td>\n",
       "      <td>-0.91</td>\n",
       "      <td>122.88</td>\n",
       "      <td>80.58</td>\n",
       "      <td>80</td>\n",
       "      <td>99</td>\n",
       "      <td>7.36</td>\n",
       "      <td>ID</td>\n",
       "      <td>2020-07-10</td>\n",
       "    </tr>\n",
       "    <tr>\n",
       "      <th>2</th>\n",
       "      <td>Conceição do Araguaia</td>\n",
       "      <td>-8.26</td>\n",
       "      <td>-49.26</td>\n",
       "      <td>75.72</td>\n",
       "      <td>61</td>\n",
       "      <td>19</td>\n",
       "      <td>1.14</td>\n",
       "      <td>BR</td>\n",
       "      <td>2020-07-10</td>\n",
       "    </tr>\n",
       "    <tr>\n",
       "      <th>3</th>\n",
       "      <td>Lavrentiya</td>\n",
       "      <td>65.58</td>\n",
       "      <td>-171.00</td>\n",
       "      <td>53.82</td>\n",
       "      <td>60</td>\n",
       "      <td>5</td>\n",
       "      <td>4.21</td>\n",
       "      <td>RU</td>\n",
       "      <td>2020-07-10</td>\n",
       "    </tr>\n",
       "    <tr>\n",
       "      <th>4</th>\n",
       "      <td>Buritis</td>\n",
       "      <td>-15.62</td>\n",
       "      <td>-46.42</td>\n",
       "      <td>68.68</td>\n",
       "      <td>52</td>\n",
       "      <td>30</td>\n",
       "      <td>3.18</td>\n",
       "      <td>BR</td>\n",
       "      <td>2020-07-10</td>\n",
       "    </tr>\n",
       "  </tbody>\n",
       "</table>\n",
       "</div>"
      ],
      "text/plain": [
       "               City Name  Latitude  Longitude  Daily High  Humidity  \\\n",
       "0             Butaritari      3.07     172.79       82.92        77   \n",
       "1                   Biak     -0.91     122.88       80.58        80   \n",
       "2  Conceição do Araguaia     -8.26     -49.26       75.72        61   \n",
       "3             Lavrentiya     65.58    -171.00       53.82        60   \n",
       "4                Buritis    -15.62     -46.42       68.68        52   \n",
       "\n",
       "   Cloudiness  Wind Speed Country        Date  \n",
       "0          99       12.01      KI  2020-07-10  \n",
       "1          99        7.36      ID  2020-07-10  \n",
       "2          19        1.14      BR  2020-07-10  \n",
       "3           5        4.21      RU  2020-07-10  \n",
       "4          30        3.18      BR  2020-07-10  "
      ]
     },
     "execution_count": 26,
     "metadata": {},
     "output_type": "execute_result"
    }
   ],
   "source": [
    "clean_city_data.head()"
   ]
  },
  {
   "cell_type": "markdown",
   "metadata": {},
   "source": [
    "## Latitude vs. Temperature Plot"
   ]
  },
  {
   "cell_type": "code",
   "execution_count": 41,
   "metadata": {
    "scrolled": true
   },
   "outputs": [
    {
     "data": {
      "text/plain": [
       "Text(0, 0.5, 'Max Daily Temperature (F)')"
      ]
     },
     "execution_count": 41,
     "metadata": {},
     "output_type": "execute_result"
    },
    {
     "data": {
      "image/png": "[encoded data removed]",
      "text/plain": [
       "<Figure size 432x288 with 1 Axes>"
      ]
     },
     "metadata": {
      "needs_background": "light"
     },
     "output_type": "display_data"
    }
   ],
   "source": [
    "#linRegPlot(clean_city_data,clean_city_data,'','')\n",
    "plt.scatter(clean_city_data['Latitude'], clean_city_data['Daily High'])\n",
    "plt.xlabel('Latitude')\n",
    "plt.ylabel('Max Daily Temperature (F)')"
   ]
  },
  {
   "cell_type": "markdown",
   "metadata": {},
   "source": [
    "* As we can see, the temperatures of the earth are highest around the equator and lowest near the poles. There appears to be a relationship, but it's not linear"
   ]
  },
  {
   "cell_type": "markdown",
   "metadata": {},
   "source": [
    "## Latitude vs. Humidity Plot"
   ]
  },
  {
   "cell_type": "code",
   "execution_count": 42,
   "metadata": {},
   "outputs": [
    {
     "data": {
      "text/plain": [
       "Text(0, 0.5, 'Humidity (%)')"
      ]
     },
     "execution_count": 42,
     "metadata": {},
     "output_type": "execute_result"
    },
    {
     "data": {
      "image/png": "[encoded data removed]",
      "text/plain": [
       "<Figure size 432x288 with 1 Axes>"
      ]
     },
     "metadata": {
      "needs_background": "light"
     },
     "output_type": "display_data"
    }
   ],
   "source": [
    "plt.scatter(clean_city_data['Latitude'], clean_city_data['Humidity'])\n",
    "plt.xlabel('Latitude')\n",
    "plt.ylabel('Humidity (%)')"
   ]
  },
  {
   "cell_type": "markdown",
   "metadata": {},
   "source": [
    "* The humidity appears to be the Lowest near the equator and the poles, but there is no clear linear relationship between latitude and humidity"
   ]
  },
  {
   "cell_type": "markdown",
   "metadata": {},
   "source": [
    "## Latitude vs. Cloudiness Plot"
   ]
  },
  {
   "cell_type": "code",
   "execution_count": 43,
   "metadata": {},
   "outputs": [
    {
     "data": {
      "text/plain": [
       "Text(0, 0.5, 'Cloudiness (%)')"
      ]
     },
     "execution_count": 43,
     "metadata": {},
     "output_type": "execute_result"
    },
    {
     "data": {
      "image/png": "[encoded data removed]",
      "text/plain": [
       "<Figure size 432x288 with 1 Axes>"
      ]
     },
     "metadata": {
      "needs_background": "light"
     },
     "output_type": "display_data"
    }
   ],
   "source": [
    "plt.scatter(clean_city_data['Latitude'], clean_city_data['Cloudiness'])\n",
    "plt.xlabel('Latitude')\n",
    "plt.ylabel('Cloudiness (%)')"
   ]
  },
  {
   "cell_type": "markdown",
   "metadata": {},
   "source": [
    "* There appears to be no linear correlation between latitude and cloudiness, however the data appears to be 'snapped' to 10% increments because it is based on human judgement"
   ]
  },
  {
   "cell_type": "markdown",
   "metadata": {},
   "source": [
    "## Latitude vs. Wind Speed Plot"
   ]
  },
  {
   "cell_type": "code",
   "execution_count": 44,
   "metadata": {},
   "outputs": [
    {
     "data": {
      "text/plain": [
       "Text(0, 0.5, 'Wind Speed (mph)')"
      ]
     },
     "execution_count": 44,
     "metadata": {},
     "output_type": "execute_result"
    },
    {
     "data": {
      "image/png": "[encoded data removed]",
      "text/plain": [
       "<Figure size 432x288 with 1 Axes>"
      ]
     },
     "metadata": {
      "needs_background": "light"
     },
     "output_type": "display_data"
    }
   ],
   "source": [
    "plt.scatter(clean_city_data['Latitude'], clean_city_data['Wind Speed'])\n",
    "plt.xlabel('Latitude')\n",
    "plt.ylabel('Wind Speed (mph)')"
   ]
  },
  {
   "cell_type": "markdown",
   "metadata": {},
   "source": [
    "* There appears to be no clear linear correlation between latitude and windspeed, but the highest wind speeds are near the equator"
   ]
  },
  {
   "cell_type": "markdown",
   "metadata": {},
   "source": [
    "## Linear Regression"
   ]
  },
  {
   "cell_type": "code",
   "execution_count": 77,
   "metadata": {},
   "outputs": [],
   "source": [
    "# OPTIONAL: Create a function to create Linear Regression plots\n",
    "def linRegPlot(x_values, y_values, x_label = \"\", y_label = \"\"):\n",
    "    '''\n",
    "    Takes the x values and y values for a scatter plot,\n",
    "    runs a linear regression comparing the two values,\n",
    "    and then displays a scatter plot with the regression line\n",
    "    '''\n",
    "    (slope, intercept, rvalue, pvalue, stderr) = linregress(x_values, y_values)\n",
    "    regress_values = slope * x_values + intercept\n",
    "    plt.scatter(x_values, y_values)\n",
    "    plt.plot(x_values,regress_values,'r')\n",
    "    plt.xlabel(x_label)\n",
    "    plt.ylabel(y_label)\n",
    "    plt.show()\n",
    "    print('The r-squared-value of the relationship is', round(rvalue**2,4))"
   ]
  },
  {
   "cell_type": "code",
   "execution_count": 46,
   "metadata": {},
   "outputs": [],
   "source": [
    "# Create Northern and Southern Hemisphere DataFrames\n",
    "northern_df = clean_city_data.loc[clean_city_data['Latitude'] >= 0]\n",
    "southern_df = clean_city_data.loc[clean_city_data['Latitude'] < 0]\n"
   ]
  },
  {
   "cell_type": "markdown",
   "metadata": {},
   "source": [
    "####  Northern Hemisphere - Max Temp vs. Latitude Linear Regression"
   ]
  },
  {
   "cell_type": "code",
   "execution_count": 51,
   "metadata": {},
   "outputs": [
    {
     "data": {
      "image/png": "[encoded data removed]",
      "text/plain": [
       "<Figure size 432x288 with 1 Axes>"
      ]
     },
     "metadata": {
      "needs_background": "light"
     },
     "output_type": "display_data"
    },
    {
     "name": "stdout",
     "output_type": "stream",
     "text": [
      "The r-value of the relationship is -0.7033\n"
     ]
    }
   ],
   "source": [
    "linRegPlot(northern_df['Latitude'], northern_df['Daily High'],'Latitude','Max Temperature')"
   ]
  },
  {
   "cell_type": "markdown",
   "metadata": {},
   "source": [
    "####  Southern Hemisphere - Max Temp vs. Latitude Linear Regression"
   ]
  },
  {
   "cell_type": "code",
   "execution_count": 52,
   "metadata": {},
   "outputs": [
    {
     "data": {
      "image/png": "[encoded data removed]",
      "text/plain": [
       "<Figure size 432x288 with 1 Axes>"
      ]
     },
     "metadata": {
      "needs_background": "light"
     },
     "output_type": "display_data"
    },
    {
     "name": "stdout",
     "output_type": "stream",
     "text": [
      "The r-value of the relationship is 0.7459\n"
     ]
    }
   ],
   "source": [
    "linRegPlot(southern_df['Latitude'], southern_df['Daily High'],'Latitude','Max Temperature')"
   ]
  },
  {
   "cell_type": "markdown",
   "metadata": {},
   "source": [
    "* There is a strong linear correlation between the latitude and the daily high on each side of the equator\n",
    "* It is strongly negative in the northern hemisphere, and strongly positive in the southern hemisphere.\n",
    "* This matches our earlier observation that temperature goes down as we go away from the equator"
   ]
  },
  {
   "cell_type": "markdown",
   "metadata": {},
   "source": [
    "####  Northern Hemisphere - Humidity (%) vs. Latitude Linear Regression"
   ]
  },
  {
   "cell_type": "code",
   "execution_count": 53,
   "metadata": {},
   "outputs": [
    {
     "data": {
      "image/png": "[encoded data removed]",
      "text/plain": [
       "<Figure size 432x288 with 1 Axes>"
      ]
     },
     "metadata": {
      "needs_background": "light"
     },
     "output_type": "display_data"
    },
    {
     "name": "stdout",
     "output_type": "stream",
     "text": [
      "The r-value of the relationship is -0.0092\n"
     ]
    }
   ],
   "source": [
    "linRegPlot(northern_df['Latitude'], northern_df['Humidity'],'Latitude','Humidity %')"
   ]
  },
  {
   "cell_type": "markdown",
   "metadata": {},
   "source": [
    "####  Southern Hemisphere - Humidity (%) vs. Latitude Linear Regression"
   ]
  },
  {
   "cell_type": "code",
   "execution_count": 54,
   "metadata": {},
   "outputs": [
    {
     "data": {
      "image/png": "[encoded data removed]",
      "text/plain": [
       "<Figure size 432x288 with 1 Axes>"
      ]
     },
     "metadata": {
      "needs_background": "light"
     },
     "output_type": "display_data"
    },
    {
     "name": "stdout",
     "output_type": "stream",
     "text": [
      "The r-value of the relationship is 0.0581\n"
     ]
    }
   ],
   "source": [
    "linRegPlot(southern_df['Latitude'], southern_df['Humidity'],'Latitude','Humidity %')"
   ]
  },
  {
   "cell_type": "markdown",
   "metadata": {},
   "source": [
    "* The correlation betweeen latitude and humidity is extremely weak\n",
    "* It would be helpful to analyze the data to see if the lack of low humidity at the poles and equator is significant"
   ]
  },
  {
   "cell_type": "markdown",
   "metadata": {},
   "source": [
    "####  Northern Hemisphere - Cloudiness (%) vs. Latitude Linear Regression"
   ]
  },
  {
   "cell_type": "code",
   "execution_count": 55,
   "metadata": {},
   "outputs": [
    {
     "data": {
      "image/png": "[encoded data removed]",
      "text/plain": [
       "<Figure size 432x288 with 1 Axes>"
      ]
     },
     "metadata": {
      "needs_background": "light"
     },
     "output_type": "display_data"
    },
    {
     "name": "stdout",
     "output_type": "stream",
     "text": [
      "The r-value of the relationship is -0.0496\n"
     ]
    }
   ],
   "source": [
    "linRegPlot(northern_df['Latitude'], northern_df['Cloudiness'],'Latitude','Cloudiness %')"
   ]
  },
  {
   "cell_type": "markdown",
   "metadata": {},
   "source": [
    "####  Southern Hemisphere - Cloudiness (%) vs. Latitude Linear Regression"
   ]
  },
  {
   "cell_type": "code",
   "execution_count": 56,
   "metadata": {},
   "outputs": [
    {
     "data": {
      "image/png": "[encoded data removed]",
      "text/plain": [
       "<Figure size 432x288 with 1 Axes>"
      ]
     },
     "metadata": {
      "needs_background": "light"
     },
     "output_type": "display_data"
    },
    {
     "name": "stdout",
     "output_type": "stream",
     "text": [
      "The r-value of the relationship is 0.065\n"
     ]
    }
   ],
   "source": [
    "linRegPlot(southern_df['Latitude'], southern_df['Cloudiness'],'Latitude','Cloudiness %')"
   ]
  },
  {
   "cell_type": "markdown",
   "metadata": {},
   "source": [
    "* There regression shows that there is no relationship between latitude and cloudiness."
   ]
  },
  {
   "cell_type": "markdown",
   "metadata": {},
   "source": [
    "####  Northern Hemisphere - Wind Speed (mph) vs. Latitude Linear Regression"
   ]
  },
  {
   "cell_type": "code",
   "execution_count": 57,
   "metadata": {},
   "outputs": [
    {
     "data": {
      "image/png": "[encoded data removed]",
      "text/plain": [
       "<Figure size 432x288 with 1 Axes>"
      ]
     },
     "metadata": {
      "needs_background": "light"
     },
     "output_type": "display_data"
    },
    {
     "name": "stdout",
     "output_type": "stream",
     "text": [
      "The r-value of the relationship is -0.0413\n"
     ]
    }
   ],
   "source": [
    "linRegPlot(northern_df['Latitude'], northern_df['Wind Speed'],'Latitude','Wind Speed (mph)')"
   ]
  },
  {
   "cell_type": "markdown",
   "metadata": {},
   "source": [
    "####  Southern Hemisphere - Wind Speed (mph) vs. Latitude Linear Regression"
   ]
  },
  {
   "cell_type": "code",
   "execution_count": 78,
   "metadata": {},
   "outputs": [
    {
     "data": {
      "image/png": "[encoded data removed]",
      "text/plain": [
       "<Figure size 432x288 with 1 Axes>"
      ]
     },
     "metadata": {
      "needs_background": "light"
     },
     "output_type": "display_data"
    },
    {
     "name": "stdout",
     "output_type": "stream",
     "text": [
      "The r-squared-value of the relationship is 0.0305\n"
     ]
    }
   ],
   "source": [
    "linRegPlot(southern_df['Latitude'], southern_df['Wind Speed'],'Latitude','Wind Speed (mph)')"
   ]
  },
  {
   "cell_type": "markdown",
   "metadata": {},
   "source": [
    "* There regression shows that there is no relationship between latitude and wind speed."
   ]
  },
  {
   "cell_type": "code",
   "execution_count": null,
   "metadata": {},
   "outputs": [],
   "source": []
  }
 ],
 "metadata": {
  "anaconda-cloud": {},
  "kernel_info": {
   "name": "python3"
  },
  "kernelspec": {
   "display_name": "Python 3",
   "language": "python",
   "name": "python3"
  },
  "language_info": {
   "codemirror_mode": {
    "name": "ipython",
    "version": 3
   },
   "file_extension": ".py",
   "mimetype": "text/x-python",
   "name": "python",
   "nbconvert_exporter": "python",
   "pygments_lexer": "ipython3",
   "version": "3.7.6"
  },
  "latex_envs": {
   "LaTeX_envs_menu_present": true,
   "autoclose": false,
   "autocomplete": true,
   "bibliofile": "biblio.bib",
   "cite_by": "apalike",
   "current_citInitial": 1,
   "eqLabelWithNumbers": true,
   "eqNumInitial": 1,
   "hotkeys": {
    "equation": "Ctrl-E",
    "itemize": "Ctrl-I"
   },
   "labels_anchors": false,
   "latex_user_defs": false,
   "report_style_numbering": false,
   "user_envs_cfg": false
  },
  "nteract": {
   "version": "0.12.3"
  }
 },
 "nbformat": 4,
 "nbformat_minor": 2
}
