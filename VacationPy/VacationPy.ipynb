{
 "cells": [
  {
   "cell_type": "markdown",
   "metadata": {},
   "source": [
    "# VacationPy\n",
    "----\n",
    "\n",
    "#### Note\n",
    "* Instructions have been included for each segment. You do not have to follow them exactly, but they are included to help you think through the steps."
   ]
  },
  {
   "cell_type": "code",
   "execution_count": 1,
   "metadata": {},
   "outputs": [],
   "source": [
    "# Dependencies and Setup\n",
    "import matplotlib.pyplot as plt\n",
    "import pandas as pd\n",
    "import numpy as np\n",
    "import requests\n",
    "import gmaps\n",
    "import os\n",
    "\n",
    "# Import API key\n",
    "from api_keys import g_key"
   ]
  },
  {
   "cell_type": "markdown",
   "metadata": {},
   "source": [
    "### Store Part I results into DataFrame\n",
    "* Load the csv exported in Part I to a DataFrame"
   ]
  },
  {
   "cell_type": "code",
   "execution_count": 2,
   "metadata": {},
   "outputs": [
    {
     "data": {
      "text/html": [
       "<div>\n",
       "<style scoped>\n",
       "    .dataframe tbody tr th:only-of-type {\n",
       "        vertical-align: middle;\n",
       "    }\n",
       "\n",
       "    .dataframe tbody tr th {\n",
       "        vertical-align: top;\n",
       "    }\n",
       "\n",
       "    .dataframe thead th {\n",
       "        text-align: right;\n",
       "    }\n",
       "</style>\n",
       "<table border=\"1\" class=\"dataframe\">\n",
       "  <thead>\n",
       "    <tr style=\"text-align: right;\">\n",
       "      <th></th>\n",
       "      <th>City Name</th>\n",
       "      <th>Latitude</th>\n",
       "      <th>Longitude</th>\n",
       "      <th>Daily High</th>\n",
       "      <th>Humidity</th>\n",
       "      <th>Cloudiness</th>\n",
       "      <th>Wind Speed</th>\n",
       "      <th>Country</th>\n",
       "      <th>Date</th>\n",
       "    </tr>\n",
       "  </thead>\n",
       "  <tbody>\n",
       "    <tr>\n",
       "      <th>0</th>\n",
       "      <td>Asău</td>\n",
       "      <td>46.43</td>\n",
       "      <td>26.40</td>\n",
       "      <td>61.00</td>\n",
       "      <td>87</td>\n",
       "      <td>0</td>\n",
       "      <td>4.16</td>\n",
       "      <td>RO</td>\n",
       "      <td>2020-07-11</td>\n",
       "    </tr>\n",
       "    <tr>\n",
       "      <th>1</th>\n",
       "      <td>Mataura</td>\n",
       "      <td>-46.19</td>\n",
       "      <td>168.86</td>\n",
       "      <td>44.15</td>\n",
       "      <td>93</td>\n",
       "      <td>69</td>\n",
       "      <td>3.31</td>\n",
       "      <td>NZ</td>\n",
       "      <td>2020-07-11</td>\n",
       "    </tr>\n",
       "    <tr>\n",
       "      <th>2</th>\n",
       "      <td>Salalah</td>\n",
       "      <td>17.02</td>\n",
       "      <td>54.09</td>\n",
       "      <td>80.60</td>\n",
       "      <td>94</td>\n",
       "      <td>90</td>\n",
       "      <td>3.36</td>\n",
       "      <td>OM</td>\n",
       "      <td>2020-07-11</td>\n",
       "    </tr>\n",
       "    <tr>\n",
       "      <th>3</th>\n",
       "      <td>Cape Town</td>\n",
       "      <td>-33.93</td>\n",
       "      <td>18.42</td>\n",
       "      <td>54.00</td>\n",
       "      <td>81</td>\n",
       "      <td>20</td>\n",
       "      <td>9.17</td>\n",
       "      <td>ZA</td>\n",
       "      <td>2020-07-11</td>\n",
       "    </tr>\n",
       "    <tr>\n",
       "      <th>4</th>\n",
       "      <td>Menongue</td>\n",
       "      <td>-14.66</td>\n",
       "      <td>17.69</td>\n",
       "      <td>55.45</td>\n",
       "      <td>37</td>\n",
       "      <td>0</td>\n",
       "      <td>4.43</td>\n",
       "      <td>AO</td>\n",
       "      <td>2020-07-11</td>\n",
       "    </tr>\n",
       "  </tbody>\n",
       "</table>\n",
       "</div>"
      ],
      "text/plain": [
       "   City Name  Latitude  Longitude  Daily High  Humidity  Cloudiness  \\\n",
       "0       Asău     46.43      26.40       61.00        87           0   \n",
       "1    Mataura    -46.19     168.86       44.15        93          69   \n",
       "2    Salalah     17.02      54.09       80.60        94          90   \n",
       "3  Cape Town    -33.93      18.42       54.00        81          20   \n",
       "4   Menongue    -14.66      17.69       55.45        37           0   \n",
       "\n",
       "   Wind Speed Country        Date  \n",
       "0        4.16      RO  2020-07-11  \n",
       "1        3.31      NZ  2020-07-11  \n",
       "2        3.36      OM  2020-07-11  \n",
       "3        9.17      ZA  2020-07-11  \n",
       "4        4.43      AO  2020-07-11  "
      ]
     },
     "execution_count": 2,
     "metadata": {},
     "output_type": "execute_result"
    }
   ],
   "source": [
    "csv_path = '../WeatherPy/output_data/clean_cities.csv'\n",
    "cities_df = pd.read_csv(csv_path)\n",
    "cities_df.head()"
   ]
  },
  {
   "cell_type": "markdown",
   "metadata": {},
   "source": [
    "### Humidity Heatmap\n",
    "* Configure gmaps.\n",
    "* Use the Lat and Lng as locations and Humidity as the weight.\n",
    "* Add Heatmap layer to map."
   ]
  },
  {
   "cell_type": "code",
   "execution_count": 3,
   "metadata": {},
   "outputs": [],
   "source": [
    "gmaps.configure(api_key = g_key)\n",
    "locations = cities_df[['Latitude','Longitude']].astype(float)\n"
   ]
  },
  {
   "cell_type": "code",
   "execution_count": 4,
   "metadata": {},
   "outputs": [],
   "source": [
    "figure_layout = {\n",
    "    'width': '400px',\n",
    "    'height': '300px',\n",
    "    'border': '1px solid black',\n",
    "    'padding': '1px',\n",
    "    'margin': '0 auto 0 auto'\n",
    "}\n",
    "fig = gmaps.figure(zoom_level=3,center=(30,100))\n",
    "\n",
    "heat_layer = gmaps.heatmap_layer(locations, weights=cities_df.Humidity, \n",
    "                                 dissipating=False, max_intensity=100,\n",
    "                                 point_radius = 1.5)\n",
    "\n",
    "fig.add_layer(heat_layer)\n",
    "\n"
   ]
  },
  {
   "cell_type": "code",
   "execution_count": 5,
   "metadata": {},
   "outputs": [
    {
     "data": {
      "application/vnd.jupyter.widget-view+json": {
       "model_id": "d682bedef5594be7b37b0e44f98e8156",
       "version_major": 2,
       "version_minor": 0
      },
      "text/plain": [
       "Figure(layout=FigureLayout(height='420px'))"
      ]
     },
     "metadata": {},
     "output_type": "display_data"
    }
   ],
   "source": [
    "fig"
   ]
  },
  {
   "cell_type": "markdown",
   "metadata": {},
   "source": [
    "### Create new DataFrame fitting weather criteria\n",
    "* Narrow down the cities to fit weather conditions.\n",
    "* Drop any rows will null values."
   ]
  },
  {
   "cell_type": "code",
   "execution_count": 6,
   "metadata": {},
   "outputs": [
    {
     "data": {
      "text/html": [
       "<div>\n",
       "<style scoped>\n",
       "    .dataframe tbody tr th:only-of-type {\n",
       "        vertical-align: middle;\n",
       "    }\n",
       "\n",
       "    .dataframe tbody tr th {\n",
       "        vertical-align: top;\n",
       "    }\n",
       "\n",
       "    .dataframe thead th {\n",
       "        text-align: right;\n",
       "    }\n",
       "</style>\n",
       "<table border=\"1\" class=\"dataframe\">\n",
       "  <thead>\n",
       "    <tr style=\"text-align: right;\">\n",
       "      <th></th>\n",
       "      <th>City Name</th>\n",
       "      <th>Latitude</th>\n",
       "      <th>Longitude</th>\n",
       "      <th>Daily High</th>\n",
       "      <th>Humidity</th>\n",
       "      <th>Cloudiness</th>\n",
       "      <th>Wind Speed</th>\n",
       "      <th>Country</th>\n",
       "      <th>Date</th>\n",
       "    </tr>\n",
       "  </thead>\n",
       "  <tbody>\n",
       "    <tr>\n",
       "      <th>79</th>\n",
       "      <td>Bataiporã</td>\n",
       "      <td>-22.30</td>\n",
       "      <td>-53.27</td>\n",
       "      <td>71.55</td>\n",
       "      <td>55</td>\n",
       "      <td>0</td>\n",
       "      <td>5.68</td>\n",
       "      <td>BR</td>\n",
       "      <td>2020-07-11</td>\n",
       "    </tr>\n",
       "    <tr>\n",
       "      <th>223</th>\n",
       "      <td>Zabul Province</td>\n",
       "      <td>32.25</td>\n",
       "      <td>67.25</td>\n",
       "      <td>67.71</td>\n",
       "      <td>23</td>\n",
       "      <td>0</td>\n",
       "      <td>5.28</td>\n",
       "      <td>AF</td>\n",
       "      <td>2020-07-11</td>\n",
       "    </tr>\n",
       "    <tr>\n",
       "      <th>239</th>\n",
       "      <td>Zhezkazgan</td>\n",
       "      <td>47.80</td>\n",
       "      <td>67.71</td>\n",
       "      <td>71.73</td>\n",
       "      <td>44</td>\n",
       "      <td>0</td>\n",
       "      <td>9.06</td>\n",
       "      <td>KZ</td>\n",
       "      <td>2020-07-11</td>\n",
       "    </tr>\n",
       "    <tr>\n",
       "      <th>255</th>\n",
       "      <td>Arinos</td>\n",
       "      <td>-15.92</td>\n",
       "      <td>-46.11</td>\n",
       "      <td>70.20</td>\n",
       "      <td>43</td>\n",
       "      <td>0</td>\n",
       "      <td>2.95</td>\n",
       "      <td>BR</td>\n",
       "      <td>2020-07-11</td>\n",
       "    </tr>\n",
       "    <tr>\n",
       "      <th>391</th>\n",
       "      <td>Corinth</td>\n",
       "      <td>37.94</td>\n",
       "      <td>22.96</td>\n",
       "      <td>73.99</td>\n",
       "      <td>46</td>\n",
       "      <td>0</td>\n",
       "      <td>1.99</td>\n",
       "      <td>GR</td>\n",
       "      <td>2020-07-11</td>\n",
       "    </tr>\n",
       "    <tr>\n",
       "      <th>510</th>\n",
       "      <td>Elena</td>\n",
       "      <td>42.93</td>\n",
       "      <td>25.88</td>\n",
       "      <td>71.60</td>\n",
       "      <td>56</td>\n",
       "      <td>0</td>\n",
       "      <td>5.82</td>\n",
       "      <td>BG</td>\n",
       "      <td>2020-07-11</td>\n",
       "    </tr>\n",
       "  </tbody>\n",
       "</table>\n",
       "</div>"
      ],
      "text/plain": [
       "          City Name  Latitude  Longitude  Daily High  Humidity  Cloudiness  \\\n",
       "79        Bataiporã    -22.30     -53.27       71.55        55           0   \n",
       "223  Zabul Province     32.25      67.25       67.71        23           0   \n",
       "239      Zhezkazgan     47.80      67.71       71.73        44           0   \n",
       "255          Arinos    -15.92     -46.11       70.20        43           0   \n",
       "391         Corinth     37.94      22.96       73.99        46           0   \n",
       "510           Elena     42.93      25.88       71.60        56           0   \n",
       "\n",
       "     Wind Speed Country        Date  \n",
       "79         5.68      BR  2020-07-11  \n",
       "223        5.28      AF  2020-07-11  \n",
       "239        9.06      KZ  2020-07-11  \n",
       "255        2.95      BR  2020-07-11  \n",
       "391        1.99      GR  2020-07-11  \n",
       "510        5.82      BG  2020-07-11  "
      ]
     },
     "execution_count": 6,
     "metadata": {},
     "output_type": "execute_result"
    }
   ],
   "source": [
    "# Narrow down the DataFrame to find your ideal weather condition. For example:\n",
    "# A max temperature lower than 80 degrees but higher than 70.\n",
    "# Wind speed less than 10 mph.\n",
    "# Zero cloudiness.\n",
    "# Drop any rows that don't contain all three conditions. You want to be sure the weather is ideal.\n",
    "# Note: Feel free to adjust to your specifications but be sure to limit the number of rows \n",
    "# returned by your API requests to a reasonable number.\n",
    "\n",
    "finest_cities = cities_df.loc[\n",
    "    (cities_df['Daily High'] < 75) &\n",
    "    (cities_df['Daily High'] > 65) &\n",
    "    (cities_df['Wind Speed'] < 10) &\n",
    "    (cities_df['Cloudiness'] < 2) &\n",
    "    (cities_df['Humidity'] < 60)\n",
    "].copy()\n",
    "\n",
    "finest_cities"
   ]
  },
  {
   "cell_type": "markdown",
   "metadata": {},
   "source": [
    "### Hotel Map\n",
    "* Store into variable named `hotel_df`.\n",
    "* Add a \"Hotel Name\" column to the DataFrame.\n",
    "* Set parameters to search for hotels with 5000 meters.\n",
    "* Hit the Google Places API for each city's coordinates.\n",
    "* Store the first Hotel result into the DataFrame.\n",
    "* Plot markers on top of the heatmap."
   ]
  },
  {
   "cell_type": "code",
   "execution_count": 7,
   "metadata": {},
   "outputs": [
    {
     "data": {
      "text/plain": [
       "'-22.3,-53.27'"
      ]
     },
     "execution_count": 7,
     "metadata": {},
     "output_type": "execute_result"
    }
   ],
   "source": [
    "hotel_df = 'Store'\n",
    "\n",
    "finest_cities['Hotel Name'] = ''\n",
    "\n",
    "locations = finest_cities[['Latitude','Longitude']]\n",
    "\n",
    "lat = locations.iloc[0,0]\n",
    "lng = locations.iloc[0,1]\n",
    "loc = str(lat)+','+str(lng)\n",
    "loc"
   ]
  },
  {
   "cell_type": "code",
   "execution_count": 8,
   "metadata": {},
   "outputs": [
    {
     "data": {
      "text/html": [
       "<div>\n",
       "<style scoped>\n",
       "    .dataframe tbody tr th:only-of-type {\n",
       "        vertical-align: middle;\n",
       "    }\n",
       "\n",
       "    .dataframe tbody tr th {\n",
       "        vertical-align: top;\n",
       "    }\n",
       "\n",
       "    .dataframe thead th {\n",
       "        text-align: right;\n",
       "    }\n",
       "</style>\n",
       "<table border=\"1\" class=\"dataframe\">\n",
       "  <thead>\n",
       "    <tr style=\"text-align: right;\">\n",
       "      <th></th>\n",
       "      <th>City Name</th>\n",
       "      <th>Latitude</th>\n",
       "      <th>Longitude</th>\n",
       "      <th>Daily High</th>\n",
       "      <th>Humidity</th>\n",
       "      <th>Cloudiness</th>\n",
       "      <th>Wind Speed</th>\n",
       "      <th>Country</th>\n",
       "      <th>Date</th>\n",
       "      <th>Hotel Name</th>\n",
       "    </tr>\n",
       "  </thead>\n",
       "  <tbody>\n",
       "    <tr>\n",
       "      <th>79</th>\n",
       "      <td>Bataiporã</td>\n",
       "      <td>-22.30</td>\n",
       "      <td>-53.27</td>\n",
       "      <td>71.55</td>\n",
       "      <td>55</td>\n",
       "      <td>0</td>\n",
       "      <td>5.68</td>\n",
       "      <td>BR</td>\n",
       "      <td>2020-07-11</td>\n",
       "      <td></td>\n",
       "    </tr>\n",
       "    <tr>\n",
       "      <th>223</th>\n",
       "      <td>Zabul Province</td>\n",
       "      <td>32.25</td>\n",
       "      <td>67.25</td>\n",
       "      <td>67.71</td>\n",
       "      <td>23</td>\n",
       "      <td>0</td>\n",
       "      <td>5.28</td>\n",
       "      <td>AF</td>\n",
       "      <td>2020-07-11</td>\n",
       "      <td></td>\n",
       "    </tr>\n",
       "    <tr>\n",
       "      <th>239</th>\n",
       "      <td>Zhezkazgan</td>\n",
       "      <td>47.80</td>\n",
       "      <td>67.71</td>\n",
       "      <td>71.73</td>\n",
       "      <td>44</td>\n",
       "      <td>0</td>\n",
       "      <td>9.06</td>\n",
       "      <td>KZ</td>\n",
       "      <td>2020-07-11</td>\n",
       "      <td></td>\n",
       "    </tr>\n",
       "    <tr>\n",
       "      <th>255</th>\n",
       "      <td>Arinos</td>\n",
       "      <td>-15.92</td>\n",
       "      <td>-46.11</td>\n",
       "      <td>70.20</td>\n",
       "      <td>43</td>\n",
       "      <td>0</td>\n",
       "      <td>2.95</td>\n",
       "      <td>BR</td>\n",
       "      <td>2020-07-11</td>\n",
       "      <td></td>\n",
       "    </tr>\n",
       "    <tr>\n",
       "      <th>391</th>\n",
       "      <td>Corinth</td>\n",
       "      <td>37.94</td>\n",
       "      <td>22.96</td>\n",
       "      <td>73.99</td>\n",
       "      <td>46</td>\n",
       "      <td>0</td>\n",
       "      <td>1.99</td>\n",
       "      <td>GR</td>\n",
       "      <td>2020-07-11</td>\n",
       "      <td></td>\n",
       "    </tr>\n",
       "    <tr>\n",
       "      <th>510</th>\n",
       "      <td>Elena</td>\n",
       "      <td>42.93</td>\n",
       "      <td>25.88</td>\n",
       "      <td>71.60</td>\n",
       "      <td>56</td>\n",
       "      <td>0</td>\n",
       "      <td>5.82</td>\n",
       "      <td>BG</td>\n",
       "      <td>2020-07-11</td>\n",
       "      <td></td>\n",
       "    </tr>\n",
       "  </tbody>\n",
       "</table>\n",
       "</div>"
      ],
      "text/plain": [
       "          City Name  Latitude  Longitude  Daily High  Humidity  Cloudiness  \\\n",
       "79        Bataiporã    -22.30     -53.27       71.55        55           0   \n",
       "223  Zabul Province     32.25      67.25       67.71        23           0   \n",
       "239      Zhezkazgan     47.80      67.71       71.73        44           0   \n",
       "255          Arinos    -15.92     -46.11       70.20        43           0   \n",
       "391         Corinth     37.94      22.96       73.99        46           0   \n",
       "510           Elena     42.93      25.88       71.60        56           0   \n",
       "\n",
       "     Wind Speed Country        Date Hotel Name  \n",
       "79         5.68      BR  2020-07-11             \n",
       "223        5.28      AF  2020-07-11             \n",
       "239        9.06      KZ  2020-07-11             \n",
       "255        2.95      BR  2020-07-11             \n",
       "391        1.99      GR  2020-07-11             \n",
       "510        5.82      BG  2020-07-11             "
      ]
     },
     "execution_count": 8,
     "metadata": {},
     "output_type": "execute_result"
    }
   ],
   "source": [
    "finest_cities"
   ]
  },
  {
   "cell_type": "code",
   "execution_count": 9,
   "metadata": {},
   "outputs": [
    {
     "name": "stdout",
     "output_type": "stream",
     "text": [
      "Closest hotel to Bataiporã is Câmara Municipal de Bataypora.\n",
      "------------\n",
      "Missing hotel... skipping.\n",
      "------------\n",
      "Closest hotel to Zhezkazgan is NL International.\n",
      "------------\n",
      "Closest hotel to Arinos is Estampariacções e Estampar.\n",
      "------------\n",
      "Closest hotel to Corinth is Kkataskeuastikē.\n",
      "------------\n",
      "Closest hotel to Elena is pharmacy Ceiba.\n",
      "------------\n"
     ]
    }
   ],
   "source": [
    "base_url = \"https://maps.googleapis.com/maps/api/place/nearbysearch/json\"\n",
    "params = {\n",
    "    #\"location\": \"\",  \n",
    "    \"rankby\": \"distance\",\n",
    "    \"type\": \"hotel\",\n",
    "    \"key\": g_key,\n",
    "}\n",
    "params['location'] = loc\n",
    "response = requests.get(base_url, params=params).json()\n",
    "response['results'][0]['name']\n",
    "\n",
    "# use iterrows to iterate through pandas dataframe\n",
    "for index, row in finest_cities.iterrows():\n",
    "    lat = finest_cities.loc[index, 'Latitude']\n",
    "    lng = finest_cities.loc[index, 'Longitude']\n",
    "    loc = str(lat)+','+str(lng)\n",
    "    params['location'] = loc\n",
    "    response = requests.get(base_url, params=params).json()\n",
    "    try:\n",
    "        name = response['results'][0]['name']\n",
    "        print(f\"Closest hotel to {finest_cities.loc[index, 'City Name']} is {name}.\")\n",
    "        finest_cities.loc[index, 'Hotel Name'] = name\n",
    "    except (KeyError, IndexError):\n",
    "        print(\"Missing hotel... skipping.\")\n",
    "        \n",
    "    print(\"------------\")\n"
   ]
  },
  {
   "cell_type": "code",
   "execution_count": 10,
   "metadata": {},
   "outputs": [
    {
     "data": {
      "text/plain": [
       "['\\n<dl>\\n<dt>Name</dt><dd>Câmara Municipal de Bataypora</dd>\\n<dt>City</dt><dd>Bataiporã</dd>\\n<dt>Country</dt><dd>BR</dd>\\n</dl>\\n',\n",
       " '\\n<dl>\\n<dt>Name</dt><dd></dd>\\n<dt>City</dt><dd>Zabul Province</dd>\\n<dt>Country</dt><dd>AF</dd>\\n</dl>\\n',\n",
       " '\\n<dl>\\n<dt>Name</dt><dd>NL International</dd>\\n<dt>City</dt><dd>Zhezkazgan</dd>\\n<dt>Country</dt><dd>KZ</dd>\\n</dl>\\n',\n",
       " '\\n<dl>\\n<dt>Name</dt><dd>Estampariacções e Estampar</dd>\\n<dt>City</dt><dd>Arinos</dd>\\n<dt>Country</dt><dd>BR</dd>\\n</dl>\\n',\n",
       " '\\n<dl>\\n<dt>Name</dt><dd>Kkataskeuastikē</dd>\\n<dt>City</dt><dd>Corinth</dd>\\n<dt>Country</dt><dd>GR</dd>\\n</dl>\\n',\n",
       " '\\n<dl>\\n<dt>Name</dt><dd>pharmacy Ceiba</dd>\\n<dt>City</dt><dd>Elena</dd>\\n<dt>Country</dt><dd>BG</dd>\\n</dl>\\n']"
      ]
     },
     "execution_count": 10,
     "metadata": {},
     "output_type": "execute_result"
    }
   ],
   "source": [
    "# NOTE: Do *** change *some* of the code in this cell\n",
    "\n",
    "# Using the template add the hotel marks to the heatmap\n",
    "info_box_template = \"\"\"\n",
    "<dl>\n",
    "<dt>Name</dt><dd>{Hotel Name}</dd>\n",
    "<dt>City</dt><dd>{City Name}</dd>\n",
    "<dt>Country</dt><dd>{Country}</dd>\n",
    "</dl>\n",
    "\"\"\"\n",
    "# Store the DataFrame Row\n",
    "# NOTE: be sure to update with your DataFrame name (here)\n",
    "hotel_info = [info_box_template.format(**row) for index, row in finest_cities.iterrows()]\n",
    "#locations = hotel_df[[\"Lat\", \"Lng\"]]\n",
    "hotel_info"
   ]
  },
  {
   "cell_type": "code",
   "execution_count": 11,
   "metadata": {},
   "outputs": [
    {
     "data": {
      "application/vnd.jupyter.widget-view+json": {
       "model_id": "d682bedef5594be7b37b0e44f98e8156",
       "version_major": 2,
       "version_minor": 0
      },
      "text/plain": [
       "Figure(layout=FigureLayout(height='420px'))"
      ]
     },
     "metadata": {},
     "output_type": "display_data"
    }
   ],
   "source": [
    "# Add marker layer ontop of heat map\n",
    "marker_layer = gmaps.marker_layer(locations, info_box_content=hotel_info)\n",
    "\n",
    "fig.add_layer(marker_layer)\n",
    "\n",
    "# Display figure\n",
    "fig"
   ]
  },
  {
   "cell_type": "code",
   "execution_count": null,
   "metadata": {},
   "outputs": [],
   "source": []
  }
 ],
 "metadata": {
  "kernelspec": {
   "display_name": "Python 3",
   "language": "python",
   "name": "python3"
  },
  "language_info": {
   "codemirror_mode": {
    "name": "ipython",
    "version": 3
   },
   "file_extension": ".py",
   "mimetype": "text/x-python",
   "name": "python",
   "nbconvert_exporter": "python",
   "pygments_lexer": "ipython3",
   "version": "3.6.10"
  },
  "latex_envs": {
   "LaTeX_envs_menu_present": true,
   "autoclose": false,
   "autocomplete": true,
   "bibliofile": "biblio.bib",
   "cite_by": "apalike",
   "current_citInitial": 1,
   "eqLabelWithNumbers": true,
   "eqNumInitial": 1,
   "hotkeys": {
    "equation": "Ctrl-E",
    "itemize": "Ctrl-I"
   },
   "labels_anchors": false,
   "latex_user_defs": false,
   "report_style_numbering": false,
   "user_envs_cfg": false
  }
 },
 "nbformat": 4,
 "nbformat_minor": 2
}
